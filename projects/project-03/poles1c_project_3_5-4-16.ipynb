{
 "cells": [
  {
   "cell_type": "markdown",
   "metadata": {},
   "source": [
    "Link to dataset: https://data.iowa.gov/Economy/Iowa-Liquor-Sales/m3tr-qhgy\n",
    "\n",
    "Scenario 1: State tax board\n",
    "\n",
    "You are a data scientist in residence at the Iowa State tax board. The Iowa State legislature is considering changes in the liquor tax rates and wants a report of current liquor sales by county and projections for the rest of the year.\n",
    "\n",
    "Goal for Scenario #1: Your task is as follows:\n",
    "\n",
    "Calculate the yearly liquor sales for each score using the provided data. You can add up the transactions for each year, and store sales in 2015 specifically will be used later as your target variable.\n",
    "\n",
    "\n",
    "Use the data from 2015 to make a linear model using as many variables as you find useful to predict the yearly sales of each store. You must use the sales from Jan to March per store as one of your variables.\n",
    "\n",
    "\n",
    "Use your model for 2015 to estimate total sales for each store in 2016, extrapolating from the sales so far for Jan-March of 2016.\n",
    "\n",
    "\n",
    "Report your findings, including any projected increase or decrease in total sales (over the entire state) for the tax committee of the Iowa legislature.\n",
    "\n",
    "Use cross-validation to check how your model predicts to held out data compared to the model metrics on the full dataset.\n",
    "\n",
    "Challenging Bonus: We did not cover the topics of regularization for linear regression this week, but those feeling bold can try to use and understand regularizing linear regressions. This will require self-guided research/reading and scikit-learn functions that we have not gone over in class! Use cross-validation to tune the regularization parameter that maximizes R^2 on your holdout sets for the Ridge regression and the Lasso Regression. Do the regularized models perform better than the non-regularized model? Which regularized model performs better? What is the Ridge regression doing? What is the Lasso doing.\n",
    "\n",
    "\n",
    "\n"
   ]
  },
  {
   "cell_type": "markdown",
   "metadata": {},
   "source": [
    "Project 3: My goal for this project was to get \"unstuck\"\n",
    "\n",
    "So far I am finding myself stuck in the exploratory data analysis, hypothesis setting, and modeling phase of our projects. So for this project I paired up with Kathleen and Chris to see what I could learn and do differently.  \n",
    "\n",
    "\n",
    "Throughout the this project I will inject comments on lessons learned and my goals for project 4.\n",
    "\n",
    "\n",
    "\n"
   ]
  },
  {
   "cell_type": "code",
   "execution_count": 1,
   "metadata": {
    "collapsed": false
   },
   "outputs": [
    {
     "name": "stderr",
     "output_type": "stream",
     "text": [
      "/Users/ltdanp21/anaconda/lib/python2.7/site-packages/IPython/core/interactiveshell.py:2723: DtypeWarning: Columns (3) have mixed types. Specify dtype option on import or set low_memory=False.\n",
      "  interactivity=interactivity, compiler=compiler, result=result)\n"
     ]
    }
   ],
   "source": [
    "\n",
    "import pandas as pd\n",
    "import numpy as np\n",
    "import csv\n",
    "import matplotlib.pyplot as plt\n",
    "import seaborn as sns\n",
    "\n",
    "% matplotlib inline\n",
    "\n",
    "\n",
    "\n",
    "#Something new I learned\n",
    "#import of a function that automatically creates a key for a value not found in the dictionary instead of throwing an\n",
    "#error\n",
    "from collections import defaultdict\n",
    "\n",
    "\n",
    "import datetime\n",
    "from sklearn import linear_model\n",
    "import statsmodels.api as sm\n",
    "from sklearn.metrics import mean_squared_error\n",
    "from scipy import stats\n",
    "from sklearn.cross_validation import train_test_split\n",
    "from sklearn.cross_validation import cross_val_predict\n",
    "\n",
    "\n",
    "df = pd.read_csv(\"/Users/ltdanp21/Desktop/Homework/projects/project-03/Iowa_Liquor_Sales_reduced.csv\")\n",
    "        "
   ]
  },
  {
   "cell_type": "markdown",
   "metadata": {},
   "source": [
    "I was primarily responsible for the data cleaning in this project...... \n",
    "\n",
    "\n",
    "\n"
   ]
  },
  {
   "cell_type": "code",
   "execution_count": 2,
   "metadata": {
    "collapsed": false
   },
   "outputs": [
    {
     "data": {
      "text/html": [
       "<div>\n",
       "<table border=\"1\" class=\"dataframe\">\n",
       "  <thead>\n",
       "    <tr style=\"text-align: right;\">\n",
       "      <th></th>\n",
       "      <th>Date</th>\n",
       "      <th>Store Number</th>\n",
       "      <th>City</th>\n",
       "      <th>Zip Code</th>\n",
       "      <th>County Number</th>\n",
       "      <th>County</th>\n",
       "      <th>Category</th>\n",
       "      <th>Category Name</th>\n",
       "      <th>Vendor Number</th>\n",
       "      <th>Item Number</th>\n",
       "      <th>Item Description</th>\n",
       "      <th>Bottle Volume (ml)</th>\n",
       "      <th>State Bottle Cost</th>\n",
       "      <th>State Bottle Retail</th>\n",
       "      <th>Bottles Sold</th>\n",
       "      <th>Sale (Dollars)</th>\n",
       "      <th>Volume Sold (Liters)</th>\n",
       "      <th>Volume Sold (Gallons)</th>\n",
       "    </tr>\n",
       "  </thead>\n",
       "  <tbody>\n",
       "    <tr>\n",
       "      <th>0</th>\n",
       "      <td>03/31/2016</td>\n",
       "      <td>5029</td>\n",
       "      <td>DAVENPORT</td>\n",
       "      <td>52806</td>\n",
       "      <td>82.0</td>\n",
       "      <td>Scott</td>\n",
       "      <td>1022100.0</td>\n",
       "      <td>TEQUILA</td>\n",
       "      <td>370</td>\n",
       "      <td>87152</td>\n",
       "      <td>Avion Silver</td>\n",
       "      <td>375</td>\n",
       "      <td>$9.99</td>\n",
       "      <td>$14.99</td>\n",
       "      <td>12</td>\n",
       "      <td>$179.88</td>\n",
       "      <td>4.5</td>\n",
       "      <td>1.19</td>\n",
       "    </tr>\n",
       "    <tr>\n",
       "      <th>1</th>\n",
       "      <td>03/31/2016</td>\n",
       "      <td>5029</td>\n",
       "      <td>DAVENPORT</td>\n",
       "      <td>52806</td>\n",
       "      <td>82.0</td>\n",
       "      <td>Scott</td>\n",
       "      <td>1022100.0</td>\n",
       "      <td>TEQUILA</td>\n",
       "      <td>395</td>\n",
       "      <td>89197</td>\n",
       "      <td>Jose Cuervo Especial Reposado Tequila</td>\n",
       "      <td>1000</td>\n",
       "      <td>$12.50</td>\n",
       "      <td>$18.75</td>\n",
       "      <td>2</td>\n",
       "      <td>$37.50</td>\n",
       "      <td>2.0</td>\n",
       "      <td>0.53</td>\n",
       "    </tr>\n",
       "    <tr>\n",
       "      <th>2</th>\n",
       "      <td>03/31/2016</td>\n",
       "      <td>4959</td>\n",
       "      <td>CEDAR FALLS</td>\n",
       "      <td>50613</td>\n",
       "      <td>7.0</td>\n",
       "      <td>Black Hawk</td>\n",
       "      <td>1071100.0</td>\n",
       "      <td>AMERICAN COCKTAILS</td>\n",
       "      <td>380</td>\n",
       "      <td>63959</td>\n",
       "      <td>Uv Blue Raspberry Lemonade Pet</td>\n",
       "      <td>1750</td>\n",
       "      <td>$5.97</td>\n",
       "      <td>$8.96</td>\n",
       "      <td>6</td>\n",
       "      <td>$53.76</td>\n",
       "      <td>10.5</td>\n",
       "      <td>2.77</td>\n",
       "    </tr>\n",
       "    <tr>\n",
       "      <th>3</th>\n",
       "      <td>03/31/2016</td>\n",
       "      <td>2190</td>\n",
       "      <td>DES MOINES</td>\n",
       "      <td>50314</td>\n",
       "      <td>77.0</td>\n",
       "      <td>Polk</td>\n",
       "      <td>1031200.0</td>\n",
       "      <td>VODKA FLAVORED</td>\n",
       "      <td>205</td>\n",
       "      <td>40597</td>\n",
       "      <td>New Amsterdam Red Berry</td>\n",
       "      <td>200</td>\n",
       "      <td>$2.24</td>\n",
       "      <td>$3.36</td>\n",
       "      <td>48</td>\n",
       "      <td>$161.28</td>\n",
       "      <td>9.6</td>\n",
       "      <td>2.54</td>\n",
       "    </tr>\n",
       "    <tr>\n",
       "      <th>4</th>\n",
       "      <td>03/31/2016</td>\n",
       "      <td>5240</td>\n",
       "      <td>WEST BRANCH</td>\n",
       "      <td>52358</td>\n",
       "      <td>NaN</td>\n",
       "      <td>NaN</td>\n",
       "      <td>1081200.0</td>\n",
       "      <td>CREAM LIQUEURS</td>\n",
       "      <td>305</td>\n",
       "      <td>73055</td>\n",
       "      <td>Rumchata</td>\n",
       "      <td>750</td>\n",
       "      <td>$12.50</td>\n",
       "      <td>$18.75</td>\n",
       "      <td>6</td>\n",
       "      <td>$112.50</td>\n",
       "      <td>4.5</td>\n",
       "      <td>1.19</td>\n",
       "    </tr>\n",
       "  </tbody>\n",
       "</table>\n",
       "</div>"
      ],
      "text/plain": [
       "         Date  Store Number         City Zip Code  County Number      County  \\\n",
       "0  03/31/2016          5029    DAVENPORT    52806           82.0       Scott   \n",
       "1  03/31/2016          5029    DAVENPORT    52806           82.0       Scott   \n",
       "2  03/31/2016          4959  CEDAR FALLS    50613            7.0  Black Hawk   \n",
       "3  03/31/2016          2190   DES MOINES    50314           77.0        Polk   \n",
       "4  03/31/2016          5240  WEST BRANCH    52358            NaN         NaN   \n",
       "\n",
       "    Category       Category Name  Vendor Number  Item Number  \\\n",
       "0  1022100.0             TEQUILA            370        87152   \n",
       "1  1022100.0             TEQUILA            395        89197   \n",
       "2  1071100.0  AMERICAN COCKTAILS            380        63959   \n",
       "3  1031200.0      VODKA FLAVORED            205        40597   \n",
       "4  1081200.0      CREAM LIQUEURS            305        73055   \n",
       "\n",
       "                        Item Description  Bottle Volume (ml)  \\\n",
       "0                           Avion Silver                 375   \n",
       "1  Jose Cuervo Especial Reposado Tequila                1000   \n",
       "2         Uv Blue Raspberry Lemonade Pet                1750   \n",
       "3                New Amsterdam Red Berry                 200   \n",
       "4                               Rumchata                 750   \n",
       "\n",
       "  State Bottle Cost State Bottle Retail  Bottles Sold Sale (Dollars)  \\\n",
       "0             $9.99              $14.99            12        $179.88   \n",
       "1            $12.50              $18.75             2         $37.50   \n",
       "2             $5.97               $8.96             6         $53.76   \n",
       "3             $2.24               $3.36            48        $161.28   \n",
       "4            $12.50              $18.75             6        $112.50   \n",
       "\n",
       "   Volume Sold (Liters)  Volume Sold (Gallons)  \n",
       "0                   4.5                   1.19  \n",
       "1                   2.0                   0.53  \n",
       "2                  10.5                   2.77  \n",
       "3                   9.6                   2.54  \n",
       "4                   4.5                   1.19  "
      ]
     },
     "execution_count": 2,
     "metadata": {},
     "output_type": "execute_result"
    }
   ],
   "source": [
    "df.head()"
   ]
  },
  {
   "cell_type": "code",
   "execution_count": 3,
   "metadata": {
    "collapsed": false
   },
   "outputs": [
    {
     "data": {
      "text/plain": [
       "Date                      object\n",
       "Store Number               int64\n",
       "City                      object\n",
       "Zip Code                  object\n",
       "County Number            float64\n",
       "County                    object\n",
       "Category                 float64\n",
       "Category Name             object\n",
       "Vendor Number              int64\n",
       "Item Number                int64\n",
       "Item Description          object\n",
       "Bottle Volume (ml)         int64\n",
       "State Bottle Cost         object\n",
       "State Bottle Retail       object\n",
       "Bottles Sold               int64\n",
       "Sale (Dollars)            object\n",
       "Volume Sold (Liters)     float64\n",
       "Volume Sold (Gallons)    float64\n",
       "dtype: object"
      ]
     },
     "execution_count": 3,
     "metadata": {},
     "output_type": "execute_result"
    }
   ],
   "source": [
    "#check data types of our columns\n",
    "df.dtypes"
   ]
  },
  {
   "cell_type": "code",
   "execution_count": 4,
   "metadata": {
    "collapsed": false
   },
   "outputs": [
    {
     "name": "stdout",
     "output_type": "stream",
     "text": [
      "<class 'pandas.core.frame.DataFrame'>\n",
      "RangeIndex: 2709552 entries, 0 to 2709551\n",
      "Data columns (total 18 columns):\n",
      "Date                     object\n",
      "Store Number             int64\n",
      "City                     object\n",
      "Zip Code                 object\n",
      "County Number            float64\n",
      "County                   object\n",
      "Category                 float64\n",
      "Category Name            object\n",
      "Vendor Number            int64\n",
      "Item Number              int64\n",
      "Item Description         object\n",
      "Bottle Volume (ml)       int64\n",
      "State Bottle Cost        object\n",
      "State Bottle Retail      object\n",
      "Bottles Sold             int64\n",
      "Sale (Dollars)           object\n",
      "Volume Sold (Liters)     float64\n",
      "Volume Sold (Gallons)    float64\n",
      "dtypes: float64(4), int64(5), object(9)\n",
      "memory usage: 372.1+ MB\n"
     ]
    }
   ],
   "source": [
    "# returns datatypes with counts of data types, number of rows and columns \n",
    "df.info()"
   ]
  },
  {
   "cell_type": "code",
   "execution_count": 5,
   "metadata": {
    "collapsed": false
   },
   "outputs": [
    {
     "data": {
      "text/plain": [
       "Date                         0\n",
       "Store Number                 0\n",
       "City                         0\n",
       "Zip Code                     0\n",
       "County Number            10913\n",
       "County                   10913\n",
       "Category                   779\n",
       "Category Name             6109\n",
       "Vendor Number                0\n",
       "Item Number                  0\n",
       "Item Description             0\n",
       "Bottle Volume (ml)           0\n",
       "State Bottle Cost            0\n",
       "State Bottle Retail          0\n",
       "Bottles Sold                 0\n",
       "Sale (Dollars)               0\n",
       "Volume Sold (Liters)         0\n",
       "Volume Sold (Gallons)        0\n",
       "dtype: int64"
      ]
     },
     "execution_count": 5,
     "metadata": {},
     "output_type": "execute_result"
    }
   ],
   "source": [
    "#check and get sum of null values for columns\n",
    "df.isnull().sum()"
   ]
  },
  {
   "cell_type": "code",
   "execution_count": 6,
   "metadata": {
    "collapsed": false
   },
   "outputs": [],
   "source": [
    "# remove rows where county is null\n",
    "#  remember set dataframe = to dropna in order to \"save\" the change\n",
    "df = df.dropna(subset = [\"County\"])\n",
    "df = df.dropna(subset = [\"Category\"])"
   ]
  },
  {
   "cell_type": "code",
   "execution_count": 7,
   "metadata": {
    "collapsed": false
   },
   "outputs": [
    {
     "data": {
      "text/plain": [
       "Date                        0\n",
       "Store Number                0\n",
       "City                        0\n",
       "Zip Code                    0\n",
       "County Number               0\n",
       "County                      0\n",
       "Category                    0\n",
       "Category Name            5258\n",
       "Vendor Number               0\n",
       "Item Number                 0\n",
       "Item Description            0\n",
       "Bottle Volume (ml)          0\n",
       "State Bottle Cost           0\n",
       "State Bottle Retail         0\n",
       "Bottles Sold                0\n",
       "Sale (Dollars)              0\n",
       "Volume Sold (Liters)        0\n",
       "Volume Sold (Gallons)       0\n",
       "dtype: int64"
      ]
     },
     "execution_count": 7,
     "metadata": {},
     "output_type": "execute_result"
    }
   ],
   "source": [
    "df.isnull().sum()"
   ]
  },
  {
   "cell_type": "code",
   "execution_count": 8,
   "metadata": {
    "collapsed": false
   },
   "outputs": [
    {
     "name": "stderr",
     "output_type": "stream",
     "text": [
      "/Users/ltdanp21/anaconda/lib/python2.7/site-packages/ipykernel/__main__.py:4: FutureWarning: the coerce=True keyword is deprecated, use errors='coerce' instead\n"
     ]
    }
   ],
   "source": [
    "#convert date column to datetime type\n",
    "#Learned\n",
    "# coerce = true will force data type in to the same format \n",
    "df['Date'] = pd.to_datetime(df['Date'], coerce = True)"
   ]
  },
  {
   "cell_type": "code",
   "execution_count": 9,
   "metadata": {
    "collapsed": false
   },
   "outputs": [
    {
     "name": "stdout",
     "output_type": "stream",
     "text": [
      "<class 'pandas.core.frame.DataFrame'>\n",
      "Int64Index: 2697860 entries, 0 to 2709551\n",
      "Data columns (total 18 columns):\n",
      "Date                     datetime64[ns]\n",
      "Store Number             int64\n",
      "City                     object\n",
      "Zip Code                 object\n",
      "County Number            float64\n",
      "County                   object\n",
      "Category                 float64\n",
      "Category Name            object\n",
      "Vendor Number            int64\n",
      "Item Number              int64\n",
      "Item Description         object\n",
      "Bottle Volume (ml)       int64\n",
      "State Bottle Cost        object\n",
      "State Bottle Retail      object\n",
      "Bottles Sold             int64\n",
      "Sale (Dollars)           object\n",
      "Volume Sold (Liters)     float64\n",
      "Volume Sold (Gallons)    float64\n",
      "dtypes: datetime64[ns](1), float64(4), int64(5), object(8)\n",
      "memory usage: 391.1+ MB\n"
     ]
    }
   ],
   "source": [
    "df.info()"
   ]
  },
  {
   "cell_type": "code",
   "execution_count": 10,
   "metadata": {
    "collapsed": false
   },
   "outputs": [
    {
     "name": "stdout",
     "output_type": "stream",
     "text": [
      "99\n"
     ]
    }
   ],
   "source": [
    "#confirm no dashes, spaces, etc. and find # of counties in dataset\n",
    "num_counties = df[\"County\"].unique()\n",
    "\n",
    "#then find out how many counties we have in our dataset\n",
    "num_counties = list(num_counties)\n",
    "print len(num_counties)\n",
    "\n",
    "# 99 counties in our dataset"
   ]
  },
  {
   "cell_type": "code",
   "execution_count": 11,
   "metadata": {
    "collapsed": false
   },
   "outputs": [
    {
     "data": {
      "text/plain": [
       "count     2697860\n",
       "unique         99\n",
       "top          Polk\n",
       "freq       491847\n",
       "Name: County, dtype: object"
      ]
     },
     "execution_count": 11,
     "metadata": {},
     "output_type": "execute_result"
    }
   ],
   "source": [
    "df.County.describe()\n",
    "# 99 unique counties in sample\n",
    "# Polk most common county"
   ]
  },
  {
   "cell_type": "code",
   "execution_count": 12,
   "metadata": {
    "collapsed": false
   },
   "outputs": [
    {
     "name": "stdout",
     "output_type": "stream",
     "text": [
      "383\n"
     ]
    }
   ],
   "source": [
    "num_cities = df.City.unique()\n",
    "\n",
    "num_cities = list(num_cities)\n",
    "print len(num_cities)\n",
    "\n",
    "# 383 cities in the dataset "
   ]
  },
  {
   "cell_type": "code",
   "execution_count": 13,
   "metadata": {
    "collapsed": false
   },
   "outputs": [
    {
     "data": {
      "text/plain": [
       "count        2697860\n",
       "unique           383\n",
       "top       DES MOINES\n",
       "freq          237610\n",
       "Name: City, dtype: object"
      ]
     },
     "execution_count": 13,
     "metadata": {},
     "output_type": "execute_result"
    }
   ],
   "source": [
    "df.City.describe()\n",
    "# top city is Des Monies"
   ]
  },
  {
   "cell_type": "code",
   "execution_count": 14,
   "metadata": {
    "collapsed": false
   },
   "outputs": [
    {
     "data": {
      "text/plain": [
       "Date                     datetime64[ns]\n",
       "Store Number                      int64\n",
       "City                             object\n",
       "Zip Code                         object\n",
       "County Number                   float64\n",
       "County                           object\n",
       "Category                        float64\n",
       "Category Name                    object\n",
       "Vendor Number                     int64\n",
       "Item Number                       int64\n",
       "Item Description                 object\n",
       "Bottle Volume (ml)                int64\n",
       "State Bottle Cost                object\n",
       "State Bottle Retail              object\n",
       "Bottles Sold                      int64\n",
       "Sale (Dollars)                   object\n",
       "Volume Sold (Liters)            float64\n",
       "Volume Sold (Gallons)           float64\n",
       "dtype: object"
      ]
     },
     "execution_count": 14,
     "metadata": {},
     "output_type": "execute_result"
    }
   ],
   "source": [
    "#confirm change of type in date column\n",
    "df.dtypes"
   ]
  },
  {
   "cell_type": "code",
   "execution_count": 15,
   "metadata": {
    "collapsed": false
   },
   "outputs": [],
   "source": [
    "#added year column and extracted year from column\n",
    "df[\"year\"] = df[\"Date\"].dt.year\n",
    "\n"
   ]
  },
  {
   "cell_type": "code",
   "execution_count": 16,
   "metadata": {
    "collapsed": false
   },
   "outputs": [],
   "source": [
    "#added month column and extracted month from date column\n",
    "df[\"month\"] = df[\"Date\"].dt.month"
   ]
  },
  {
   "cell_type": "code",
   "execution_count": 17,
   "metadata": {
    "collapsed": false
   },
   "outputs": [
    {
     "data": {
      "text/html": [
       "<div>\n",
       "<table border=\"1\" class=\"dataframe\">\n",
       "  <thead>\n",
       "    <tr style=\"text-align: right;\">\n",
       "      <th></th>\n",
       "      <th>Date</th>\n",
       "      <th>Store Number</th>\n",
       "      <th>City</th>\n",
       "      <th>Zip Code</th>\n",
       "      <th>County Number</th>\n",
       "      <th>County</th>\n",
       "      <th>Category</th>\n",
       "      <th>Category Name</th>\n",
       "      <th>Vendor Number</th>\n",
       "      <th>Item Number</th>\n",
       "      <th>Item Description</th>\n",
       "      <th>Bottle Volume (ml)</th>\n",
       "      <th>State Bottle Cost</th>\n",
       "      <th>State Bottle Retail</th>\n",
       "      <th>Bottles Sold</th>\n",
       "      <th>Sale (Dollars)</th>\n",
       "      <th>Volume Sold (Liters)</th>\n",
       "      <th>Volume Sold (Gallons)</th>\n",
       "      <th>year</th>\n",
       "      <th>month</th>\n",
       "    </tr>\n",
       "  </thead>\n",
       "  <tbody>\n",
       "    <tr>\n",
       "      <th>0</th>\n",
       "      <td>2016-03-31</td>\n",
       "      <td>5029</td>\n",
       "      <td>DAVENPORT</td>\n",
       "      <td>52806</td>\n",
       "      <td>82.0</td>\n",
       "      <td>Scott</td>\n",
       "      <td>1022100.0</td>\n",
       "      <td>TEQUILA</td>\n",
       "      <td>370</td>\n",
       "      <td>87152</td>\n",
       "      <td>Avion Silver</td>\n",
       "      <td>375</td>\n",
       "      <td>$9.99</td>\n",
       "      <td>$14.99</td>\n",
       "      <td>12</td>\n",
       "      <td>$179.88</td>\n",
       "      <td>4.5</td>\n",
       "      <td>1.19</td>\n",
       "      <td>2016</td>\n",
       "      <td>3</td>\n",
       "    </tr>\n",
       "  </tbody>\n",
       "</table>\n",
       "</div>"
      ],
      "text/plain": [
       "        Date  Store Number       City Zip Code  County Number County  \\\n",
       "0 2016-03-31          5029  DAVENPORT    52806           82.0  Scott   \n",
       "\n",
       "    Category Category Name  Vendor Number  Item Number Item Description  \\\n",
       "0  1022100.0       TEQUILA            370        87152     Avion Silver   \n",
       "\n",
       "   Bottle Volume (ml) State Bottle Cost State Bottle Retail  Bottles Sold  \\\n",
       "0                 375             $9.99              $14.99            12   \n",
       "\n",
       "  Sale (Dollars)  Volume Sold (Liters)  Volume Sold (Gallons)  year  month  \n",
       "0        $179.88                   4.5                   1.19  2016      3  "
      ]
     },
     "execution_count": 17,
     "metadata": {},
     "output_type": "execute_result"
    }
   ],
   "source": [
    "#check if columns were added\n",
    "df.head(1)"
   ]
  },
  {
   "cell_type": "code",
   "execution_count": 18,
   "metadata": {
    "collapsed": false
   },
   "outputs": [],
   "source": [
    "# State Bottle Retail remove $ and convert to float\n",
    "\n",
    "#remove dollar sign\n",
    "df[\"State Bottle Retail\"] = df[\"State Bottle Retail\"].replace(\"\\$\", \"\", regex = True) \n",
    "\n",
    "#convert to float\n",
    "df[\"State Bottle Retail\"] = df[\"State Bottle Retail\"].astype(float)\n",
    "\n",
    "df[\"State Bottle Cost\"] = df[\"State Bottle Cost\"].replace(\"\\$\", \"\", regex = True) \n",
    "\n",
    "#convert to float\n",
    "df[\"State Bottle Cost\"] = df[\"State Bottle Cost\"].astype(float)\n",
    "\n",
    "df[\"Sale (Dollars)\"] = df[\"Sale (Dollars)\"].replace(\"\\$\", \"\", regex = True) \n",
    "\n",
    "#convert to float\n",
    "df[\"Sale (Dollars)\"] = df[\"Sale (Dollars)\"].astype(float)"
   ]
  },
  {
   "cell_type": "code",
   "execution_count": 19,
   "metadata": {
    "collapsed": false
   },
   "outputs": [],
   "source": [
    "# Sale (Dollars) rremove $ and convert to float\n",
    "\n",
    "#remove dollar sign\n",
    "df[\"Sale (Dollars)\"] = df[\"Sale (Dollars)\"].replace(\"\\$\", \"\", regex = True) \n",
    "\n",
    "#convert to float\n",
    "df[\"Sale (Dollars)\"] = df[\"Sale (Dollars)\"].astype(float)\n",
    "\n",
    "df[\"State Bottle Cost\"] = df[\"State Bottle Cost\"].replace(\"\\$\", \"\", regex = True) \n",
    "\n",
    "#convert to float\n",
    "df[\"Sale Bottle Cost\"] = df[\"State Bottle Cost\"].astype(float)\n",
    "\n",
    "df[\"State Bottle Retail\"] = df[\"State Bottle Retail\"].replace(\"\\$\", \"\", regex = True) \n",
    "\n",
    "#convert to float\n",
    "df[\"Sale Bottle Retail\"] = df[\"State Bottle Retail\"].astype(float)"
   ]
  },
  {
   "cell_type": "markdown",
   "metadata": {},
   "source": [
    "Abbreviated Data Dictionary:\n",
    "\n",
    "RangeIndex: 2709552 entries, 0 to 2709551\n",
    "Data columns (total 20 columns):\n",
    "\n",
    "    #Date                     datetime64[ns] - date of sale transaction\n",
    "    #Store Number             int64 \n",
    "    #City                     object - city the store is in \n",
    "    #Zip Code                 object - zipcode of the store\n",
    "    #County Number            float64 - county number for the store; 10913 null values\n",
    "    #County                   object - county the store is in \n",
    "    #Category                 float64 - category number of the alcohol \n",
    "    #Category Name            object - alcohol brand; 6109 null values\n",
    "    #Vendor Number            int64\n",
    "    #Item Number              int64\n",
    "    #Item Description         object\n",
    "    #Bottle Volume (ml)       int64\n",
    "    #State Bottle Cost        float64 - cost of liquor per bottle to the store\n",
    "    #State Bottle Retail      float64 - sale price of the bottle of liquore\n",
    "    #Bottles Sold             int64 - number of bottles sold for the transaction\n",
    "    #Sale (Dollars)           float64 - sum of sale for the transaction; state bottle retail * bottles sold\n",
    "    #Volume Sold (Liters)     float64\n",
    "    #Volume Sold (Gallons)    float64\n",
    "    #year                     int64\n",
    "    #month                    int64\n",
    "\n",
    "dtypes: datetime64[ns] (1), float64(7), int64(7), object(5)"
   ]
  },
  {
   "cell_type": "markdown",
   "metadata": {},
   "source": [
    "Lesson learned....\n",
    "\n",
    "This is where I really struggle and subsequently, started to go down a rabbit hole (see below).... I just started \"exploring\" the data without some rough plan in mind. What I learned from Kathleen and Chris is that I should take a stab at identifying what I think my response and predictor variables are and explore within that loose framework. \n",
    "\n",
    "Some methods for selecting response and predictor variables:\n",
    "\n",
    "    #.corr()\n",
    "    #research on variables\n",
    "    #scatter plots\n",
    "    #intuition/testing with plots or the model itself\n",
    "\n"
   ]
  },
  {
   "cell_type": "code",
   "execution_count": 20,
   "metadata": {
    "collapsed": false
   },
   "outputs": [
    {
     "data": {
      "text/plain": [
       "array([  14.99,   18.75,    8.96, ...,  172.77,   25.92,   29.82])"
      ]
     },
     "execution_count": 20,
     "metadata": {},
     "output_type": "execute_result"
    }
   ],
   "source": [
    "df[\"State Bottle Retail\"].unique()"
   ]
  },
  {
   "cell_type": "code",
   "execution_count": 21,
   "metadata": {
    "collapsed": false
   },
   "outputs": [
    {
     "data": {
      "text/plain": [
       "array([   375,   1000,   1750,    200,    750,    500,    300,    600,\n",
       "          100,   1200,   3000,    603,   2400,    800,    400,   6000,\n",
       "         1125,   4800,   2250,     50,    850, 189000, 225000,    150,\n",
       "          250,    502,   3600,    900,   4500, 180000,   2550,   1500,\n",
       "            0,    950])"
      ]
     },
     "execution_count": 21,
     "metadata": {},
     "output_type": "execute_result"
    }
   ],
   "source": [
    "# Checking bottle volumes to see if same liquor will have different sizes\n",
    "df[\"Bottle Volume (ml)\"].unique()"
   ]
  },
  {
   "cell_type": "code",
   "execution_count": 22,
   "metadata": {
    "collapsed": false
   },
   "outputs": [
    {
     "data": {
      "text/plain": [
       "Category Name          Bottle Volume (ml)\n",
       "100 PROOF VODKA        100                       13\n",
       "                       200                      354\n",
       "                       375                      480\n",
       "                       500                     4750\n",
       "                       600                       64\n",
       "                       750                    11800\n",
       "                       1000                    3031\n",
       "                       1750                   12253\n",
       "AMARETTO - IMPORTED    750                       36\n",
       "AMERICAN ALCOHOL       200                        1\n",
       "                       375                        2\n",
       "                       750                     5723\n",
       "                       1750                      11\n",
       "AMERICAN AMARETTO      600                      162\n",
       "                       750                     7482\n",
       "                       1000                    4408\n",
       "                       1750                    1429\n",
       "AMERICAN COCKTAILS     200                       50\n",
       "                       375                     1491\n",
       "                       750                     4702\n",
       "                       800                     2277\n",
       "                       1000                    4955\n",
       "                       1750                   54448\n",
       "AMERICAN DRY GINS      50                         1\n",
       "                       100                     1316\n",
       "                       200                     4038\n",
       "                       375                     6881\n",
       "                       500                     4189\n",
       "                       600                      140\n",
       "                       750                    19646\n",
       "                                              ...  \n",
       "VODKA 80 PROOF         1000                   36950\n",
       "                       1750                  124500\n",
       "VODKA FLAVORED         0                          2\n",
       "                       50                         1\n",
       "                       100                        2\n",
       "                       200                     2710\n",
       "                       375                     7114\n",
       "                       500                    11337\n",
       "                       600                     1426\n",
       "                       750                    97867\n",
       "                       1000                   11109\n",
       "                       1750                    9727\n",
       "                       3000                      44\n",
       "WATERMELON SCHNAPPS    500                        1\n",
       "                       750                     2008\n",
       "                       1000                    2718\n",
       "WHISKEY LIQUEUR        50                         3\n",
       "                       100                     2004\n",
       "                       200                     5029\n",
       "                       375                    14972\n",
       "                       500                     6383\n",
       "                       600                        4\n",
       "                       750                    41067\n",
       "                       1000                   13919\n",
       "                       1750                   10292\n",
       "                       3000                   15645\n",
       "WHITE CREME DE CACAO   375                        3\n",
       "                       750                     1901\n",
       "                       1000                       3\n",
       "WHITE CREME DE MENTHE  750                      596\n",
       "Name: Category Name, dtype: int64"
      ]
     },
     "execution_count": 22,
     "metadata": {},
     "output_type": "execute_result"
    }
   ],
   "source": [
    "# check unique values for category name\n",
    "mygroup = df.groupby([\"Category Name\", 'Bottle Volume (ml)'])['Category Name']\n",
    "\n",
    "mygroup.count()"
   ]
  },
  {
   "cell_type": "code",
   "execution_count": 23,
   "metadata": {
    "collapsed": false
   },
   "outputs": [
    {
     "data": {
      "text/plain": [
       "70.56"
      ]
     },
     "execution_count": 23,
     "metadata": {},
     "output_type": "execute_result"
    }
   ],
   "source": [
    "df[\"Sale (Dollars)\"].median()\n",
    "\n",
    "# median revenue per transaction is $70.56"
   ]
  },
  {
   "cell_type": "code",
   "execution_count": 24,
   "metadata": {
    "collapsed": false
   },
   "outputs": [
    {
     "data": {
      "text/plain": [
       "array([  12,    2,    6,   48,    1,    4,   24,   36,    3,    8,    7,\n",
       "         30,   10,   15,   60,    5,   96,   84,  192,   18,   72,   14,\n",
       "        360,   44,  144,  168,  240,  480,    9,   20,  108,  288,  120,\n",
       "        180,  300,  420,   42,  660,  672,  600,   54,  132,   16,  150,\n",
       "        768,  900,   40,   13,  156,  216,   90,  138,  552,  270,   78,\n",
       "        384,  336,  189,   23,  432,  312,   66,  324, 1440,   35,   11,\n",
       "        576,   25,  252,   31,  720,  264,  114,   70,  276,  204,  228,\n",
       "         21,  225,  528,  960,  246,   50,   19,   56,  540,  126,  564,\n",
       "        450,  780,  342,  816,  210,  282,  408,  258,   26,   22,   51,\n",
       "        582,   28, 1164, 1320,  294,  498,  804,   77,  102, 1932,  516,\n",
       "        558,  162,  174,  456,  220, 1200,   88,   80,  756,  534,  127,\n",
       "        198,   29,  510,  438,  372,  396,  696,  594,  222,  330,  186,\n",
       "        588,  234,  828,  378,   27,  624,  708,  110,  864, 1800,  972,\n",
       "        390,  170,   74,   17, 1032, 1980, 1713,  444,  546, 2880, 2400,\n",
       "         81,   47,   45, 1080,  840,   71,   69,  160,  984,   93,  211,\n",
       "        346,  117,  112,  570,  157,   64,   34,  248,   32,  678,  690,\n",
       "         41,  366,  128,  504,   33,  486,  825, 1296,  492,   67,  426,\n",
       "        348,   39, 1350, 1668, 1050,  171, 2160,   97,   37, 2904,   85,\n",
       "         46, 1128,  468,  494, 1740,  159,  165,   57,  666,   49,   43,\n",
       "        636,  306,   53,  648,  684,  354,   52, 3300,  446,  243,  195,\n",
       "         91,   38,  798,  402,  630,  431, 1236,  876,  474,  318, 2508,\n",
       "       1522,  661,  618,   92, 1746,  293,  522,  414, 1500,  750,  667,\n",
       "         55,  260,  290,  224,  118, 2640,  106, 1152,  178,   58,  852,\n",
       "       1140, 1116, 1092,   59, 1344, 2328,  615, 2712, 3960,  247,  299,\n",
       "        131,  525, 1014,  104,   61,  744,  466,  726,   75,   99,  176])"
      ]
     },
     "execution_count": 24,
     "metadata": {},
     "output_type": "execute_result"
    }
   ],
   "source": [
    "df[\"Bottles Sold\"].unique()"
   ]
  },
  {
   "cell_type": "code",
   "execution_count": 25,
   "metadata": {
    "collapsed": false
   },
   "outputs": [
    {
     "data": {
      "text/plain": [
       "6.0"
      ]
     },
     "execution_count": 25,
     "metadata": {},
     "output_type": "execute_result"
    }
   ],
   "source": [
    "df[\"Bottles Sold\"].median()\n",
    "# median bottles sold per transaction is 6"
   ]
  },
  {
   "cell_type": "code",
   "execution_count": 26,
   "metadata": {
    "collapsed": false
   },
   "outputs": [],
   "source": [
    "# group by and sum to get revenue for full data set\n",
    "#df2015 = df15.groupby([\"year\",\"County\",\"City\",\"Store Number\"])[\"Sale (Dollars)\"].sum()\n",
    "\n",
    "\n",
    "#syntax:\n",
    "#dataframe.groupby([\"column\",\"column\"])[\"column you want aggregrate to act on\"].aggregrate function()\n",
    "#data.groupby(['col1', 'col2'])['col3'].mean()"
   ]
  },
  {
   "cell_type": "code",
   "execution_count": 27,
   "metadata": {
    "collapsed": false
   },
   "outputs": [],
   "source": [
    "\n",
    "# I crated a dataframe based on our subset and reset the index \n",
    "#df2015_2 = df2015.reset_index()\n",
    "#df2015_2 = df2015.to_frame()"
   ]
  },
  {
   "cell_type": "markdown",
   "metadata": {},
   "source": [
    "Courtney emerges from rabbit hole!!!! "
   ]
  },
  {
   "cell_type": "markdown",
   "metadata": {},
   "source": [
    "We decided together that the below predictors will affect our target variable (revenue) Sale (Dollars):\n",
    "\n",
    "Store Number','County Number','Category','Vendor Number','Item Number','State Bottle Cost','State Bottle Retail','Bottles Sold','Volume Sold (Liters)','Volume Sold (Gallons)','year','month'\n",
    "\n",
    "\n",
    "This guided our exploratory analysis and process moving forward....."
   ]
  },
  {
   "cell_type": "code",
   "execution_count": 28,
   "metadata": {
    "collapsed": false
   },
   "outputs": [
    {
     "data": {
      "text/html": [
       "<div>\n",
       "<table border=\"1\" class=\"dataframe\">\n",
       "  <thead>\n",
       "    <tr style=\"text-align: right;\">\n",
       "      <th></th>\n",
       "      <th>Store Number</th>\n",
       "      <th>County Number</th>\n",
       "      <th>Category</th>\n",
       "      <th>Vendor Number</th>\n",
       "      <th>Item Number</th>\n",
       "      <th>Bottle Volume (ml)</th>\n",
       "      <th>State Bottle Cost</th>\n",
       "      <th>State Bottle Retail</th>\n",
       "      <th>Bottles Sold</th>\n",
       "      <th>Sale (Dollars)</th>\n",
       "      <th>Volume Sold (Liters)</th>\n",
       "      <th>Volume Sold (Gallons)</th>\n",
       "      <th>year</th>\n",
       "      <th>month</th>\n",
       "      <th>Sale Bottle Cost</th>\n",
       "      <th>Sale Bottle Retail</th>\n",
       "    </tr>\n",
       "  </thead>\n",
       "  <tbody>\n",
       "    <tr>\n",
       "      <th>Store Number</th>\n",
       "      <td>1.000000</td>\n",
       "      <td>0.006453</td>\n",
       "      <td>-0.011942</td>\n",
       "      <td>-0.003999</td>\n",
       "      <td>-0.025679</td>\n",
       "      <td>-0.056743</td>\n",
       "      <td>-0.037061</td>\n",
       "      <td>-0.037123</td>\n",
       "      <td>0.014907</td>\n",
       "      <td>-0.017739</td>\n",
       "      <td>-0.016768</td>\n",
       "      <td>-0.016757</td>\n",
       "      <td>0.018093</td>\n",
       "      <td>0.006599</td>\n",
       "      <td>-0.037061</td>\n",
       "      <td>-0.037123</td>\n",
       "    </tr>\n",
       "    <tr>\n",
       "      <th>County Number</th>\n",
       "      <td>0.006453</td>\n",
       "      <td>1.000000</td>\n",
       "      <td>-0.007005</td>\n",
       "      <td>0.000781</td>\n",
       "      <td>0.009200</td>\n",
       "      <td>-0.026063</td>\n",
       "      <td>0.006281</td>\n",
       "      <td>0.006248</td>\n",
       "      <td>0.017895</td>\n",
       "      <td>0.016667</td>\n",
       "      <td>0.007548</td>\n",
       "      <td>0.007557</td>\n",
       "      <td>0.004811</td>\n",
       "      <td>-0.002051</td>\n",
       "      <td>0.006281</td>\n",
       "      <td>0.006248</td>\n",
       "    </tr>\n",
       "    <tr>\n",
       "      <th>Category</th>\n",
       "      <td>-0.011942</td>\n",
       "      <td>-0.007005</td>\n",
       "      <td>1.000000</td>\n",
       "      <td>0.093811</td>\n",
       "      <td>0.111801</td>\n",
       "      <td>-0.006520</td>\n",
       "      <td>-0.007616</td>\n",
       "      <td>-0.007701</td>\n",
       "      <td>0.001913</td>\n",
       "      <td>0.006655</td>\n",
       "      <td>-0.004846</td>\n",
       "      <td>-0.004838</td>\n",
       "      <td>-0.017479</td>\n",
       "      <td>0.050501</td>\n",
       "      <td>-0.007616</td>\n",
       "      <td>-0.007701</td>\n",
       "    </tr>\n",
       "    <tr>\n",
       "      <th>Vendor Number</th>\n",
       "      <td>-0.003999</td>\n",
       "      <td>0.000781</td>\n",
       "      <td>0.093811</td>\n",
       "      <td>1.000000</td>\n",
       "      <td>0.134437</td>\n",
       "      <td>0.024374</td>\n",
       "      <td>0.001454</td>\n",
       "      <td>0.001263</td>\n",
       "      <td>-0.000886</td>\n",
       "      <td>-0.010831</td>\n",
       "      <td>-0.006107</td>\n",
       "      <td>-0.006103</td>\n",
       "      <td>0.006484</td>\n",
       "      <td>-0.001078</td>\n",
       "      <td>0.001454</td>\n",
       "      <td>0.001263</td>\n",
       "    </tr>\n",
       "    <tr>\n",
       "      <th>Item Number</th>\n",
       "      <td>-0.025679</td>\n",
       "      <td>0.009200</td>\n",
       "      <td>0.111801</td>\n",
       "      <td>0.134437</td>\n",
       "      <td>1.000000</td>\n",
       "      <td>-0.042793</td>\n",
       "      <td>0.079819</td>\n",
       "      <td>0.079689</td>\n",
       "      <td>-0.001058</td>\n",
       "      <td>0.011218</td>\n",
       "      <td>-0.007057</td>\n",
       "      <td>-0.007047</td>\n",
       "      <td>0.002174</td>\n",
       "      <td>-0.001255</td>\n",
       "      <td>0.079819</td>\n",
       "      <td>0.079689</td>\n",
       "    </tr>\n",
       "    <tr>\n",
       "      <th>Bottle Volume (ml)</th>\n",
       "      <td>-0.056743</td>\n",
       "      <td>-0.026063</td>\n",
       "      <td>-0.006520</td>\n",
       "      <td>0.024374</td>\n",
       "      <td>-0.042793</td>\n",
       "      <td>1.000000</td>\n",
       "      <td>0.343656</td>\n",
       "      <td>0.344080</td>\n",
       "      <td>-0.013006</td>\n",
       "      <td>0.080854</td>\n",
       "      <td>0.144204</td>\n",
       "      <td>0.144051</td>\n",
       "      <td>-0.001661</td>\n",
       "      <td>-0.003110</td>\n",
       "      <td>0.343656</td>\n",
       "      <td>0.344080</td>\n",
       "    </tr>\n",
       "    <tr>\n",
       "      <th>State Bottle Cost</th>\n",
       "      <td>-0.037061</td>\n",
       "      <td>0.006281</td>\n",
       "      <td>-0.007616</td>\n",
       "      <td>0.001454</td>\n",
       "      <td>0.079819</td>\n",
       "      <td>0.343656</td>\n",
       "      <td>1.000000</td>\n",
       "      <td>0.999991</td>\n",
       "      <td>-0.030136</td>\n",
       "      <td>0.106098</td>\n",
       "      <td>0.008483</td>\n",
       "      <td>0.008469</td>\n",
       "      <td>0.000026</td>\n",
       "      <td>0.007656</td>\n",
       "      <td>1.000000</td>\n",
       "      <td>0.999991</td>\n",
       "    </tr>\n",
       "    <tr>\n",
       "      <th>State Bottle Retail</th>\n",
       "      <td>-0.037123</td>\n",
       "      <td>0.006248</td>\n",
       "      <td>-0.007701</td>\n",
       "      <td>0.001263</td>\n",
       "      <td>0.079689</td>\n",
       "      <td>0.344080</td>\n",
       "      <td>0.999991</td>\n",
       "      <td>1.000000</td>\n",
       "      <td>-0.030079</td>\n",
       "      <td>0.106165</td>\n",
       "      <td>0.008674</td>\n",
       "      <td>0.008660</td>\n",
       "      <td>-0.000141</td>\n",
       "      <td>0.007724</td>\n",
       "      <td>0.999991</td>\n",
       "      <td>1.000000</td>\n",
       "    </tr>\n",
       "    <tr>\n",
       "      <th>Bottles Sold</th>\n",
       "      <td>0.014907</td>\n",
       "      <td>0.017895</td>\n",
       "      <td>0.001913</td>\n",
       "      <td>-0.000886</td>\n",
       "      <td>-0.001058</td>\n",
       "      <td>-0.013006</td>\n",
       "      <td>-0.030136</td>\n",
       "      <td>-0.030079</td>\n",
       "      <td>1.000000</td>\n",
       "      <td>0.836288</td>\n",
       "      <td>0.890690</td>\n",
       "      <td>0.890721</td>\n",
       "      <td>-0.003174</td>\n",
       "      <td>0.006813</td>\n",
       "      <td>-0.030136</td>\n",
       "      <td>-0.030079</td>\n",
       "    </tr>\n",
       "    <tr>\n",
       "      <th>Sale (Dollars)</th>\n",
       "      <td>-0.017739</td>\n",
       "      <td>0.016667</td>\n",
       "      <td>0.006655</td>\n",
       "      <td>-0.010831</td>\n",
       "      <td>0.011218</td>\n",
       "      <td>0.080854</td>\n",
       "      <td>0.106098</td>\n",
       "      <td>0.106165</td>\n",
       "      <td>0.836288</td>\n",
       "      <td>1.000000</td>\n",
       "      <td>0.840219</td>\n",
       "      <td>0.840231</td>\n",
       "      <td>-0.005119</td>\n",
       "      <td>0.009059</td>\n",
       "      <td>0.106098</td>\n",
       "      <td>0.106165</td>\n",
       "    </tr>\n",
       "    <tr>\n",
       "      <th>Volume Sold (Liters)</th>\n",
       "      <td>-0.016768</td>\n",
       "      <td>0.007548</td>\n",
       "      <td>-0.004846</td>\n",
       "      <td>-0.006107</td>\n",
       "      <td>-0.007057</td>\n",
       "      <td>0.144204</td>\n",
       "      <td>0.008483</td>\n",
       "      <td>0.008674</td>\n",
       "      <td>0.890690</td>\n",
       "      <td>0.840219</td>\n",
       "      <td>1.000000</td>\n",
       "      <td>1.000000</td>\n",
       "      <td>-0.003889</td>\n",
       "      <td>0.003156</td>\n",
       "      <td>0.008483</td>\n",
       "      <td>0.008674</td>\n",
       "    </tr>\n",
       "    <tr>\n",
       "      <th>Volume Sold (Gallons)</th>\n",
       "      <td>-0.016757</td>\n",
       "      <td>0.007557</td>\n",
       "      <td>-0.004838</td>\n",
       "      <td>-0.006103</td>\n",
       "      <td>-0.007047</td>\n",
       "      <td>0.144051</td>\n",
       "      <td>0.008469</td>\n",
       "      <td>0.008660</td>\n",
       "      <td>0.890721</td>\n",
       "      <td>0.840231</td>\n",
       "      <td>1.000000</td>\n",
       "      <td>1.000000</td>\n",
       "      <td>-0.003889</td>\n",
       "      <td>0.003159</td>\n",
       "      <td>0.008469</td>\n",
       "      <td>0.008660</td>\n",
       "    </tr>\n",
       "    <tr>\n",
       "      <th>year</th>\n",
       "      <td>0.018093</td>\n",
       "      <td>0.004811</td>\n",
       "      <td>-0.017479</td>\n",
       "      <td>0.006484</td>\n",
       "      <td>0.002174</td>\n",
       "      <td>-0.001661</td>\n",
       "      <td>0.000026</td>\n",
       "      <td>-0.000141</td>\n",
       "      <td>-0.003174</td>\n",
       "      <td>-0.005119</td>\n",
       "      <td>-0.003889</td>\n",
       "      <td>-0.003889</td>\n",
       "      <td>1.000000</td>\n",
       "      <td>-0.506335</td>\n",
       "      <td>0.000026</td>\n",
       "      <td>-0.000141</td>\n",
       "    </tr>\n",
       "    <tr>\n",
       "      <th>month</th>\n",
       "      <td>0.006599</td>\n",
       "      <td>-0.002051</td>\n",
       "      <td>0.050501</td>\n",
       "      <td>-0.001078</td>\n",
       "      <td>-0.001255</td>\n",
       "      <td>-0.003110</td>\n",
       "      <td>0.007656</td>\n",
       "      <td>0.007724</td>\n",
       "      <td>0.006813</td>\n",
       "      <td>0.009059</td>\n",
       "      <td>0.003156</td>\n",
       "      <td>0.003159</td>\n",
       "      <td>-0.506335</td>\n",
       "      <td>1.000000</td>\n",
       "      <td>0.007656</td>\n",
       "      <td>0.007724</td>\n",
       "    </tr>\n",
       "    <tr>\n",
       "      <th>Sale Bottle Cost</th>\n",
       "      <td>-0.037061</td>\n",
       "      <td>0.006281</td>\n",
       "      <td>-0.007616</td>\n",
       "      <td>0.001454</td>\n",
       "      <td>0.079819</td>\n",
       "      <td>0.343656</td>\n",
       "      <td>1.000000</td>\n",
       "      <td>0.999991</td>\n",
       "      <td>-0.030136</td>\n",
       "      <td>0.106098</td>\n",
       "      <td>0.008483</td>\n",
       "      <td>0.008469</td>\n",
       "      <td>0.000026</td>\n",
       "      <td>0.007656</td>\n",
       "      <td>1.000000</td>\n",
       "      <td>0.999991</td>\n",
       "    </tr>\n",
       "    <tr>\n",
       "      <th>Sale Bottle Retail</th>\n",
       "      <td>-0.037123</td>\n",
       "      <td>0.006248</td>\n",
       "      <td>-0.007701</td>\n",
       "      <td>0.001263</td>\n",
       "      <td>0.079689</td>\n",
       "      <td>0.344080</td>\n",
       "      <td>0.999991</td>\n",
       "      <td>1.000000</td>\n",
       "      <td>-0.030079</td>\n",
       "      <td>0.106165</td>\n",
       "      <td>0.008674</td>\n",
       "      <td>0.008660</td>\n",
       "      <td>-0.000141</td>\n",
       "      <td>0.007724</td>\n",
       "      <td>0.999991</td>\n",
       "      <td>1.000000</td>\n",
       "    </tr>\n",
       "  </tbody>\n",
       "</table>\n",
       "</div>"
      ],
      "text/plain": [
       "                       Store Number  County Number  Category  Vendor Number  \\\n",
       "Store Number               1.000000       0.006453 -0.011942      -0.003999   \n",
       "County Number              0.006453       1.000000 -0.007005       0.000781   \n",
       "Category                  -0.011942      -0.007005  1.000000       0.093811   \n",
       "Vendor Number             -0.003999       0.000781  0.093811       1.000000   \n",
       "Item Number               -0.025679       0.009200  0.111801       0.134437   \n",
       "Bottle Volume (ml)        -0.056743      -0.026063 -0.006520       0.024374   \n",
       "State Bottle Cost         -0.037061       0.006281 -0.007616       0.001454   \n",
       "State Bottle Retail       -0.037123       0.006248 -0.007701       0.001263   \n",
       "Bottles Sold               0.014907       0.017895  0.001913      -0.000886   \n",
       "Sale (Dollars)            -0.017739       0.016667  0.006655      -0.010831   \n",
       "Volume Sold (Liters)      -0.016768       0.007548 -0.004846      -0.006107   \n",
       "Volume Sold (Gallons)     -0.016757       0.007557 -0.004838      -0.006103   \n",
       "year                       0.018093       0.004811 -0.017479       0.006484   \n",
       "month                      0.006599      -0.002051  0.050501      -0.001078   \n",
       "Sale Bottle Cost          -0.037061       0.006281 -0.007616       0.001454   \n",
       "Sale Bottle Retail        -0.037123       0.006248 -0.007701       0.001263   \n",
       "\n",
       "                       Item Number  Bottle Volume (ml)  State Bottle Cost  \\\n",
       "Store Number             -0.025679           -0.056743          -0.037061   \n",
       "County Number             0.009200           -0.026063           0.006281   \n",
       "Category                  0.111801           -0.006520          -0.007616   \n",
       "Vendor Number             0.134437            0.024374           0.001454   \n",
       "Item Number               1.000000           -0.042793           0.079819   \n",
       "Bottle Volume (ml)       -0.042793            1.000000           0.343656   \n",
       "State Bottle Cost         0.079819            0.343656           1.000000   \n",
       "State Bottle Retail       0.079689            0.344080           0.999991   \n",
       "Bottles Sold             -0.001058           -0.013006          -0.030136   \n",
       "Sale (Dollars)            0.011218            0.080854           0.106098   \n",
       "Volume Sold (Liters)     -0.007057            0.144204           0.008483   \n",
       "Volume Sold (Gallons)    -0.007047            0.144051           0.008469   \n",
       "year                      0.002174           -0.001661           0.000026   \n",
       "month                    -0.001255           -0.003110           0.007656   \n",
       "Sale Bottle Cost          0.079819            0.343656           1.000000   \n",
       "Sale Bottle Retail        0.079689            0.344080           0.999991   \n",
       "\n",
       "                       State Bottle Retail  Bottles Sold  Sale (Dollars)  \\\n",
       "Store Number                     -0.037123      0.014907       -0.017739   \n",
       "County Number                     0.006248      0.017895        0.016667   \n",
       "Category                         -0.007701      0.001913        0.006655   \n",
       "Vendor Number                     0.001263     -0.000886       -0.010831   \n",
       "Item Number                       0.079689     -0.001058        0.011218   \n",
       "Bottle Volume (ml)                0.344080     -0.013006        0.080854   \n",
       "State Bottle Cost                 0.999991     -0.030136        0.106098   \n",
       "State Bottle Retail               1.000000     -0.030079        0.106165   \n",
       "Bottles Sold                     -0.030079      1.000000        0.836288   \n",
       "Sale (Dollars)                    0.106165      0.836288        1.000000   \n",
       "Volume Sold (Liters)              0.008674      0.890690        0.840219   \n",
       "Volume Sold (Gallons)             0.008660      0.890721        0.840231   \n",
       "year                             -0.000141     -0.003174       -0.005119   \n",
       "month                             0.007724      0.006813        0.009059   \n",
       "Sale Bottle Cost                  0.999991     -0.030136        0.106098   \n",
       "Sale Bottle Retail                1.000000     -0.030079        0.106165   \n",
       "\n",
       "                       Volume Sold (Liters)  Volume Sold (Gallons)      year  \\\n",
       "Store Number                      -0.016768              -0.016757  0.018093   \n",
       "County Number                      0.007548               0.007557  0.004811   \n",
       "Category                          -0.004846              -0.004838 -0.017479   \n",
       "Vendor Number                     -0.006107              -0.006103  0.006484   \n",
       "Item Number                       -0.007057              -0.007047  0.002174   \n",
       "Bottle Volume (ml)                 0.144204               0.144051 -0.001661   \n",
       "State Bottle Cost                  0.008483               0.008469  0.000026   \n",
       "State Bottle Retail                0.008674               0.008660 -0.000141   \n",
       "Bottles Sold                       0.890690               0.890721 -0.003174   \n",
       "Sale (Dollars)                     0.840219               0.840231 -0.005119   \n",
       "Volume Sold (Liters)               1.000000               1.000000 -0.003889   \n",
       "Volume Sold (Gallons)              1.000000               1.000000 -0.003889   \n",
       "year                              -0.003889              -0.003889  1.000000   \n",
       "month                              0.003156               0.003159 -0.506335   \n",
       "Sale Bottle Cost                   0.008483               0.008469  0.000026   \n",
       "Sale Bottle Retail                 0.008674               0.008660 -0.000141   \n",
       "\n",
       "                          month  Sale Bottle Cost  Sale Bottle Retail  \n",
       "Store Number           0.006599         -0.037061           -0.037123  \n",
       "County Number         -0.002051          0.006281            0.006248  \n",
       "Category               0.050501         -0.007616           -0.007701  \n",
       "Vendor Number         -0.001078          0.001454            0.001263  \n",
       "Item Number           -0.001255          0.079819            0.079689  \n",
       "Bottle Volume (ml)    -0.003110          0.343656            0.344080  \n",
       "State Bottle Cost      0.007656          1.000000            0.999991  \n",
       "State Bottle Retail    0.007724          0.999991            1.000000  \n",
       "Bottles Sold           0.006813         -0.030136           -0.030079  \n",
       "Sale (Dollars)         0.009059          0.106098            0.106165  \n",
       "Volume Sold (Liters)   0.003156          0.008483            0.008674  \n",
       "Volume Sold (Gallons)  0.003159          0.008469            0.008660  \n",
       "year                  -0.506335          0.000026           -0.000141  \n",
       "month                  1.000000          0.007656            0.007724  \n",
       "Sale Bottle Cost       0.007656          1.000000            0.999991  \n",
       "Sale Bottle Retail     0.007724          0.999991            1.000000  "
      ]
     },
     "execution_count": 28,
     "metadata": {},
     "output_type": "execute_result"
    }
   ],
   "source": [
    "#correlation matrix to see relationships between each predictor variable and the predictor variables and the response\n",
    "# variable \n",
    "df.corr()"
   ]
  },
  {
   "cell_type": "code",
   "execution_count": 29,
   "metadata": {
    "collapsed": true
   },
   "outputs": [],
   "source": [
    "# filter for 2015\n",
    "mask2015 = df[\"year\"] == 2015\n",
    "\n",
    "df15 = df[mask2015]\n",
    "\n",
    "df_1 = df.copy()\n",
    "\n"
   ]
  },
  {
   "cell_type": "code",
   "execution_count": 30,
   "metadata": {
    "collapsed": false
   },
   "outputs": [
    {
     "data": {
      "text/plain": [
       "array([2015])"
      ]
     },
     "execution_count": 30,
     "metadata": {},
     "output_type": "execute_result"
    }
   ],
   "source": [
    "# confirm 2015 only\n",
    "df15[\"year\"].unique()"
   ]
  },
  {
   "cell_type": "code",
   "execution_count": 31,
   "metadata": {
    "collapsed": false
   },
   "outputs": [],
   "source": [
    "\n",
    "df_1 = df.copy()"
   ]
  },
  {
   "cell_type": "markdown",
   "metadata": {},
   "source": [
    "Our attempt at modeling....\n",
    "I am quite certain that we have overfit our model...."
   ]
  },
  {
   "cell_type": "code",
   "execution_count": 32,
   "metadata": {
    "collapsed": false,
    "scrolled": true
   },
   "outputs": [
    {
     "name": "stdout",
     "output_type": "stream",
     "text": [
      "2653368     86.94\n",
      "2412726     22.23\n",
      "1147808     87.94\n",
      "790674     198.00\n",
      "1183270     21.00\n",
      "2486674     39.96\n",
      "2636956     85.56\n",
      "1324029     29.25\n",
      "1276999     12.39\n",
      "843737     136.56\n",
      "Name: Sale (Dollars), dtype: float64\n"
     ]
    }
   ],
   "source": [
    "# playing with linear regression and train_test_split\n",
    "\n",
    "from sklearn.linear_model import LinearRegression\n",
    "from sklearn.cross_validation import train_test_split\n",
    "lr = LinearRegression()\n",
    "\n",
    "df_2015= df_1[df_1['year'] == 2015]\n",
    "df_2016 = df_1[df_1['year'] == 2016]\n",
    "\n",
    "cols = ['State Bottle Cost','State Bottle Retail','Bottles Sold','Volume Sold (Liters)','year','month']\n",
    "x= df_2015[cols]\n",
    "y = df_2015['Sale (Dollars)']\n",
    "x_train, x_test, y_train, y_test = train_test_split(x,y,test_size = .33)\n",
    "\n",
    "\n",
    "lr.fit(x_train,y_train)\n",
    "\n",
    "print y_train[0:10]\n",
    "\n",
    "# print df_1.columns\n",
    "# fit a OLS model\n",
    "#X = sm.add_constant(x)\n",
    "#est = sm.OLS(y, X.astype(float)).fit()\n",
    "\n",
    "#print est.summary()"
   ]
  },
  {
   "cell_type": "code",
   "execution_count": 33,
   "metadata": {
    "collapsed": false
   },
   "outputs": [
    {
     "data": {
      "text/plain": [
       "LinearRegression(copy_X=True, fit_intercept=True, n_jobs=1, normalize=False)"
      ]
     },
     "execution_count": 33,
     "metadata": {},
     "output_type": "execute_result"
    }
   ],
   "source": [
    "# approach 1: seeing if we could predict Jan-March 2016 data training on 2015 data only\n",
    "\n",
    "# playing around with training\n",
    "# training model on 2015 data only\n",
    "xtrain_2015 = df_2015[cols]\n",
    "ytrain_2015 = df_2015[\"Sale (Dollars)\"]\n",
    "\n",
    "# fitting model\n",
    "xtest_2016 = df_2016[cols]\n",
    "ytest_2016 = df_2016[\"Sale (Dollars)\"]\n",
    "lr.fit(xtrain_2015,ytrain_2015)"
   ]
  },
  {
   "cell_type": "code",
   "execution_count": 34,
   "metadata": {
    "collapsed": false
   },
   "outputs": [],
   "source": [
    "#Approach 1 prediction\n",
    "pred = lr.predict(xtest_2016)"
   ]
  },
  {
   "cell_type": "code",
   "execution_count": 35,
   "metadata": {
    "collapsed": false
   },
   "outputs": [
    {
     "data": {
      "text/plain": [
       "0.74343377897442198"
      ]
     },
     "execution_count": 35,
     "metadata": {},
     "output_type": "execute_result"
    }
   ],
   "source": [
    "#Approach 1 score\n",
    "lr.score(xtest_2016,ytest_2016)"
   ]
  },
  {
   "cell_type": "code",
   "execution_count": 36,
   "metadata": {
    "collapsed": false
   },
   "outputs": [
    {
     "data": {
      "text/plain": [
       "LinearRegression(copy_X=True, fit_intercept=True, n_jobs=1, normalize=True)"
      ]
     },
     "execution_count": 36,
     "metadata": {},
     "output_type": "execute_result"
    }
   ],
   "source": [
    "# Approach 2: Train model on first quarter of 2015 only and see if model predicts rest of 2015\n",
    "\n",
    "from sklearn.linear_model import LinearRegression\n",
    "from sklearn.cross_validation import train_test_split\n",
    "lr2 = LinearRegression(normalize=True)\n",
    "\n",
    "df_2015= df_1[df_1['year'] == 2015]\n",
    "df_2015_train = df_2015[df_2015['month'] < 4]\n",
    "\n",
    "df_2015_test = df_2015[df_2015['month'] >= 4]\n",
    "df_2016 = df_1[df_1['year'] == 2016]\n",
    "\n",
    "\n",
    "cols = ['County Number','Category','State Bottle Cost','Bottles Sold','Volume Sold (Liters)','month']\n",
    "x_train = df_2015_train[cols]\n",
    "y_train = df_2015_train['Sale (Dollars)']\n",
    "x_test = df_2015_test[cols]\n",
    "y_test = df_2015_test['Sale (Dollars)']\n",
    "#x= df_2015[cols]\n",
    "#y = df_2015['Sale (Dollars)']\n",
    "#x_train, x_test, y_train, y_test = train_test_split(x,y,test_size = .33)\n",
    "\n",
    "\n",
    "lr2.fit(x_train,y_train)\n",
    "\n",
    "#print y_train[0:10]"
   ]
  },
  {
   "cell_type": "code",
   "execution_count": 37,
   "metadata": {
    "collapsed": false
   },
   "outputs": [],
   "source": [
    "# Approach 2 prediction\n",
    "x_test = df_2015_test[cols]\n",
    "y_test = df_2015_test['Sale (Dollars)']\n",
    "prediction = lr.predict(x_test)"
   ]
  },
  {
   "cell_type": "code",
   "execution_count": 38,
   "metadata": {
    "collapsed": false
   },
   "outputs": [
    {
     "data": {
      "text/plain": [
       "0.69704299008234072"
      ]
     },
     "execution_count": 38,
     "metadata": {},
     "output_type": "execute_result"
    }
   ],
   "source": [
    "# Approach 2 score\n",
    "lr2.score(x_test,y_test)"
   ]
  },
  {
   "cell_type": "code",
   "execution_count": 39,
   "metadata": {
    "collapsed": true
   },
   "outputs": [],
   "source": [
    "# predicting Jan-March 2016 with approach 2 \n",
    "\n",
    "x = df_2016[cols]\n",
    "y = df_2016['Sale (Dollars)']"
   ]
  },
  {
   "cell_type": "code",
   "execution_count": 40,
   "metadata": {
    "collapsed": false
   },
   "outputs": [
    {
     "name": "stdout",
     "output_type": "stream",
     "text": [
      "[ 179.88   37.5    53.76 ...,  225.     56.25  225.  ]\n"
     ]
    },
    {
     "data": {
      "text/plain": [
       "(515269,)"
      ]
     },
     "execution_count": 40,
     "metadata": {},
     "output_type": "execute_result"
    }
   ],
   "source": [
    "\n",
    "pred = lr2.predict(x)\n",
    "#print pred\n",
    "\n",
    "y = np.array(y)\n",
    "print y\n",
    "#type(pred)\n",
    "y.shape\n"
   ]
  },
  {
   "cell_type": "code",
   "execution_count": 41,
   "metadata": {
    "collapsed": false
   },
   "outputs": [
    {
     "data": {
      "text/plain": [
       "0.67540849568940353"
      ]
     },
     "execution_count": 41,
     "metadata": {},
     "output_type": "execute_result"
    }
   ],
   "source": [
    "# Approach 2 score\n",
    "lr2.score(x,y)"
   ]
  },
  {
   "cell_type": "code",
   "execution_count": 42,
   "metadata": {
    "collapsed": false
   },
   "outputs": [
    {
     "data": {
      "text/plain": [
       "<matplotlib.collections.PathCollection at 0x11a429b90>"
      ]
     },
     "execution_count": 42,
     "metadata": {},
     "output_type": "execute_result"
    },
    {
     "data": {
      "image/png": "[encoded data removed]",
      "text/plain": [
       "<matplotlib.figure.Figure at 0x117fd8190>"
      ]
     },
     "metadata": {},
     "output_type": "display_data"
    }
   ],
   "source": [
    "# plot results of approach 2 model\n",
    "plt.scatter(prediction,y_test)"
   ]
  },
  {
   "cell_type": "code",
   "execution_count": 43,
   "metadata": {
    "collapsed": true
   },
   "outputs": [],
   "source": [
    "# Visualization of sum of sales by zip code will submitted separately"
   ]
  },
  {
   "cell_type": "markdown",
   "metadata": {
    "collapsed": true
   },
   "source": [
    "Now that I have an idea on how to move through my \"paralysis by analysis\" my goal for project 4 will be to develop, test, and validate a model on my own.\n",
    "\n"
   ]
  },
  {
   "cell_type": "code",
   "execution_count": null,
   "metadata": {
    "collapsed": true
   },
   "outputs": [],
   "source": []
  }
 ],
 "metadata": {
  "kernelspec": {
   "display_name": "Python 2",
   "language": "python",
   "name": "python2"
  },
  "language_info": {
   "codemirror_mode": {
    "name": "ipython",
    "version": 2
   },
   "file_extension": ".py",
   "mimetype": "text/x-python",
   "name": "python",
   "nbconvert_exporter": "python",
   "pygments_lexer": "ipython2",
   "version": "2.7.11"
  }
 },
 "nbformat": 4,
 "nbformat_minor": 0
}
