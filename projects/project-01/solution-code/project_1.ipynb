{
 "cells": [
  {
   "cell_type": "markdown",
   "metadata": {},
   "source": [
    "# Project 1\n",
    "\n",
    "## Step 1: Open the `sat_scores.csv` file. Investigate the data, and answer the questions below.\n"
   ]
  },
  {
   "cell_type": "markdown",
   "metadata": {},
   "source": [
    "##### 1. What does the data describe?"
   ]
  },
  {
   "cell_type": "markdown",
   "metadata": {},
   "source": [
    "SAT Math and Verbal scores, and participation rates, by state for the year 2001."
   ]
  },
  {
   "cell_type": "markdown",
   "metadata": {},
   "source": [
    "##### 2. Does the data look complete? Are there any obvious issues with the observations?"
   ]
  },
  {
   "cell_type": "markdown",
   "metadata": {},
   "source": [
    "Data looks good, no missing or erroneous observations."
   ]
  },
  {
   "cell_type": "markdown",
   "metadata": {},
   "source": [
    "## Step 2: Load the data."
   ]
  },
  {
   "cell_type": "markdown",
   "metadata": {},
   "source": [
    "##### 3. Load the data into a list of lists"
   ]
  },
  {
   "cell_type": "code",
   "execution_count": 59,
   "metadata": {
    "collapsed": false
   },
   "outputs": [],
   "source": [
    "import csv\n",
    "\n",
    "data= []\n",
    "with open('../../assets/sat_scores.csv', 'rU') as f:\n",
    "    reader = csv.reader(f)\n",
    "    for row in reader:\n",
    "        data.append(row)\n",
    "f.close()"
   ]
  },
  {
   "cell_type": "markdown",
   "metadata": {},
   "source": [
    "##### 4. Print the data"
   ]
  },
  {
   "cell_type": "code",
   "execution_count": 60,
   "metadata": {
    "collapsed": false
   },
   "outputs": [
    {
     "data": {
      "text/plain": [
       "[['State', 'Rate', 'Verbal', 'Math'],\n",
       " ['CT', '82', '509', '510'],\n",
       " ['NJ', '81', '499', '513'],\n",
       " ['MA', '79', '511', '515'],\n",
       " ['NY', '77', '495', '505'],\n",
       " ['NH', '72', '520', '516'],\n",
       " ['RI', '71', '501', '499'],\n",
       " ['PA', '71', '500', '499'],\n",
       " ['VT', '69', '511', '506'],\n",
       " ['ME', '69', '506', '500'],\n",
       " ['VA', '68', '510', '501'],\n",
       " ['DE', '67', '501', '499'],\n",
       " ['MD', '65', '508', '510'],\n",
       " ['NC', '65', '493', '499'],\n",
       " ['GA', '63', '491', '489'],\n",
       " ['IN', '60', '499', '501'],\n",
       " ['SC', '57', '486', '488'],\n",
       " ['DC', '56', '482', '474'],\n",
       " ['OR', '55', '526', '526'],\n",
       " ['FL', '54', '498', '499'],\n",
       " ['WA', '53', '527', '527'],\n",
       " ['TX', '53', '493', '499'],\n",
       " ['HI', '52', '485', '515'],\n",
       " ['AK', '51', '514', '510'],\n",
       " ['CA', '51', '498', '517'],\n",
       " ['AZ', '34', '523', '525'],\n",
       " ['NV', '33', '509', '515'],\n",
       " ['CO', '31', '539', '542'],\n",
       " ['OH', '26', '534', '439'],\n",
       " ['MT', '23', '539', '539'],\n",
       " ['WV', '18', '527', '512'],\n",
       " ['ID', '17', '543', '542'],\n",
       " ['TN', '13', '562', '553'],\n",
       " ['NM', '13', '551', '542'],\n",
       " ['IL', '12', '576', '589'],\n",
       " ['KY', '12', '550', '550'],\n",
       " ['WY', '11', '547', '545'],\n",
       " ['MI', '11', '561', '572'],\n",
       " ['MN', '9', '580', '589'],\n",
       " ['KS', '9', '577', '580'],\n",
       " ['AL', '9', '559', '554'],\n",
       " ['NB', '8', '562', '568'],\n",
       " ['OK', '8', '567', '561'],\n",
       " ['MO', '8', '577', '577'],\n",
       " ['LA', '7', '564', '562'],\n",
       " ['WI', '6', '584', '596'],\n",
       " ['AR', '6', '562', '550'],\n",
       " ['UT', '5', '575', '570'],\n",
       " ['IA', '5', '593', '603'],\n",
       " ['SD', '4', '577', '582'],\n",
       " ['ND', '4', '592', '599'],\n",
       " ['MS', '4', '566', '551'],\n",
       " ['All', '45', '506', '514']]"
      ]
     },
     "execution_count": 60,
     "metadata": {},
     "output_type": "execute_result"
    }
   ],
   "source": [
    "[row for row in data]"
   ]
  },
  {
   "cell_type": "markdown",
   "metadata": {
    "collapsed": true
   },
   "source": [
    "##### 5. Extract a list of the labels from the data, and remove them from the data."
   ]
  },
  {
   "cell_type": "code",
   "execution_count": 61,
   "metadata": {
    "collapsed": false
   },
   "outputs": [],
   "source": [
    "labels = data[0]\n",
    "data = data[1:]"
   ]
  },
  {
   "cell_type": "markdown",
   "metadata": {},
   "source": [
    "##### 6. Create a list of State names extracted from the data. (Hint: use the list of labels to index on the State column)"
   ]
  },
  {
   "cell_type": "code",
   "execution_count": 62,
   "metadata": {
    "collapsed": false
   },
   "outputs": [
    {
     "data": {
      "text/plain": [
       "['NJ',\n",
       " 'MA',\n",
       " 'NY',\n",
       " 'NH',\n",
       " 'RI',\n",
       " 'PA',\n",
       " 'VT',\n",
       " 'ME',\n",
       " 'VA',\n",
       " 'DE',\n",
       " 'MD',\n",
       " 'NC',\n",
       " 'GA',\n",
       " 'IN',\n",
       " 'SC',\n",
       " 'DC',\n",
       " 'OR',\n",
       " 'FL',\n",
       " 'WA',\n",
       " 'TX',\n",
       " 'HI',\n",
       " 'AK',\n",
       " 'CA',\n",
       " 'AZ',\n",
       " 'NV',\n",
       " 'CO',\n",
       " 'OH',\n",
       " 'MT',\n",
       " 'WV',\n",
       " 'ID',\n",
       " 'TN',\n",
       " 'NM',\n",
       " 'IL',\n",
       " 'KY',\n",
       " 'WY',\n",
       " 'MI',\n",
       " 'MN',\n",
       " 'KS',\n",
       " 'AL',\n",
       " 'NB',\n",
       " 'OK',\n",
       " 'MO',\n",
       " 'LA',\n",
       " 'WI',\n",
       " 'AR',\n",
       " 'UT',\n",
       " 'IA',\n",
       " 'SD',\n",
       " 'ND',\n",
       " 'MS',\n",
       " 'All']"
      ]
     },
     "execution_count": 62,
     "metadata": {},
     "output_type": "execute_result"
    }
   ],
   "source": [
    "state_names = [row[labels.index('State')] for row in data[1:]]\n",
    "state_names"
   ]
  },
  {
   "cell_type": "markdown",
   "metadata": {},
   "source": [
    "##### 7. Print the types of each column"
   ]
  },
  {
   "cell_type": "code",
   "execution_count": 63,
   "metadata": {
    "collapsed": false
   },
   "outputs": [
    {
     "data": {
      "text/plain": [
       "[str, str, str, str]"
      ]
     },
     "execution_count": 63,
     "metadata": {},
     "output_type": "execute_result"
    }
   ],
   "source": [
    "[type(item) for item in data[0]]"
   ]
  },
  {
   "cell_type": "markdown",
   "metadata": {},
   "source": [
    "##### 8. Do any types need to be reassigned? If so, go ahead and do it."
   ]
  },
  {
   "cell_type": "code",
   "execution_count": 64,
   "metadata": {
    "collapsed": false
   },
   "outputs": [
    {
     "data": {
      "text/plain": [
       "[str, int, int, int]"
      ]
     },
     "execution_count": 64,
     "metadata": {},
     "output_type": "execute_result"
    }
   ],
   "source": [
    "rate = labels.index('Rate')\n",
    "math = labels.index('Math')\n",
    "verbal = labels.index('Verbal')\n",
    "\n",
    "for row in data:\n",
    "    row[rate] = int(row[rate])\n",
    "    row[math] = int(row[math])\n",
    "    row[verbal] = int(row[verbal])\n",
    "[type(item) for item in data[0]]"
   ]
  },
  {
   "cell_type": "markdown",
   "metadata": {},
   "source": [
    "##### 9. Create a dictionary for each column mapping the State to its respective value for that column. "
   ]
  },
  {
   "cell_type": "code",
   "execution_count": 65,
   "metadata": {
    "collapsed": true
   },
   "outputs": [],
   "source": [
    "state_rate = {}\n",
    "state_math = {}\n",
    "state_verbal = {}\n",
    "\n",
    "for row in data:\n",
    "    state_rate[row[0]] = row[rate]\n",
    "    state_math[row[0]] = row[math]\n",
    "    state_verbal[row[0]] = row[verbal]"
   ]
  },
  {
   "cell_type": "markdown",
   "metadata": {},
   "source": [
    "##### 10. Create a dictionary with the values for each of the numeric columns"
   ]
  },
  {
   "cell_type": "code",
   "execution_count": 66,
   "metadata": {
    "collapsed": false
   },
   "outputs": [
    {
     "data": {
      "text/plain": [
       "{'math': [510,\n",
       "  513,\n",
       "  515,\n",
       "  505,\n",
       "  516,\n",
       "  499,\n",
       "  499,\n",
       "  506,\n",
       "  500,\n",
       "  501,\n",
       "  499,\n",
       "  510,\n",
       "  499,\n",
       "  489,\n",
       "  501,\n",
       "  488,\n",
       "  474,\n",
       "  526,\n",
       "  499,\n",
       "  527,\n",
       "  499,\n",
       "  515,\n",
       "  510,\n",
       "  517,\n",
       "  525,\n",
       "  515,\n",
       "  542,\n",
       "  439,\n",
       "  539,\n",
       "  512,\n",
       "  542,\n",
       "  553,\n",
       "  542,\n",
       "  589,\n",
       "  550,\n",
       "  545,\n",
       "  572,\n",
       "  589,\n",
       "  580,\n",
       "  554,\n",
       "  568,\n",
       "  561,\n",
       "  577,\n",
       "  562,\n",
       "  596,\n",
       "  550,\n",
       "  570,\n",
       "  603,\n",
       "  582,\n",
       "  599,\n",
       "  551,\n",
       "  514],\n",
       " 'rate': [82,\n",
       "  81,\n",
       "  79,\n",
       "  77,\n",
       "  72,\n",
       "  71,\n",
       "  71,\n",
       "  69,\n",
       "  69,\n",
       "  68,\n",
       "  67,\n",
       "  65,\n",
       "  65,\n",
       "  63,\n",
       "  60,\n",
       "  57,\n",
       "  56,\n",
       "  55,\n",
       "  54,\n",
       "  53,\n",
       "  53,\n",
       "  52,\n",
       "  51,\n",
       "  51,\n",
       "  34,\n",
       "  33,\n",
       "  31,\n",
       "  26,\n",
       "  23,\n",
       "  18,\n",
       "  17,\n",
       "  13,\n",
       "  13,\n",
       "  12,\n",
       "  12,\n",
       "  11,\n",
       "  11,\n",
       "  9,\n",
       "  9,\n",
       "  9,\n",
       "  8,\n",
       "  8,\n",
       "  8,\n",
       "  7,\n",
       "  6,\n",
       "  6,\n",
       "  5,\n",
       "  5,\n",
       "  4,\n",
       "  4,\n",
       "  4,\n",
       "  45],\n",
       " 'verbal': [509,\n",
       "  499,\n",
       "  511,\n",
       "  495,\n",
       "  520,\n",
       "  501,\n",
       "  500,\n",
       "  511,\n",
       "  506,\n",
       "  510,\n",
       "  501,\n",
       "  508,\n",
       "  493,\n",
       "  491,\n",
       "  499,\n",
       "  486,\n",
       "  482,\n",
       "  526,\n",
       "  498,\n",
       "  527,\n",
       "  493,\n",
       "  485,\n",
       "  514,\n",
       "  498,\n",
       "  523,\n",
       "  509,\n",
       "  539,\n",
       "  534,\n",
       "  539,\n",
       "  527,\n",
       "  543,\n",
       "  562,\n",
       "  551,\n",
       "  576,\n",
       "  550,\n",
       "  547,\n",
       "  561,\n",
       "  580,\n",
       "  577,\n",
       "  559,\n",
       "  562,\n",
       "  567,\n",
       "  577,\n",
       "  564,\n",
       "  584,\n",
       "  562,\n",
       "  575,\n",
       "  593,\n",
       "  577,\n",
       "  592,\n",
       "  566,\n",
       "  506]}"
      ]
     },
     "execution_count": 66,
     "metadata": {},
     "output_type": "execute_result"
    }
   ],
   "source": [
    "data_dict = {'rate': [row[labels.index('Rate')] for row in data],\n",
    "             'math': [row[labels.index('Math')] for row in data],\n",
    "             'verbal': [row[labels.index('Verbal')] for row in data]\n",
    "            }\n",
    "data_dict"
   ]
  },
  {
   "cell_type": "markdown",
   "metadata": {},
   "source": [
    "## Step 3: Describe the data"
   ]
  },
  {
   "cell_type": "markdown",
   "metadata": {},
   "source": [
    "##### 11. Print the min and max of each column"
   ]
  },
  {
   "cell_type": "code",
   "execution_count": 67,
   "metadata": {
    "collapsed": false
   },
   "outputs": [
    {
     "name": "stdout",
     "output_type": "stream",
     "text": [
      "Rate: \n",
      " - min: 4\n",
      " - max: 82\n",
      "Math: \n",
      " - min: 439\n",
      " - max: 603\n",
      "Verbal: \n",
      " - min: 482\n",
      " - max: 593\n"
     ]
    }
   ],
   "source": [
    "print 'Rate: '\n",
    "print ' - min: '  + str(min(data_dict['rate']))\n",
    "print ' - max: '  + str(max(data_dict['rate']))\n",
    "\n",
    "print 'Math: '\n",
    "print ' - min: '  + str(min(data_dict['math']))\n",
    "print ' - max: '  + str(max(data_dict['math']))\n",
    "\n",
    "print 'Verbal: '\n",
    "print ' - min: '  + str(min(data_dict['verbal']))\n",
    "print ' - max: '  + str(max(data_dict['verbal']))"
   ]
  },
  {
   "cell_type": "markdown",
   "metadata": {},
   "source": [
    "##### 12. Write a function using only list comprehensions, no loops, to compute Standard Deviation. Print the Standard Deviation of each numeric column."
   ]
  },
  {
   "cell_type": "code",
   "execution_count": 68,
   "metadata": {
    "collapsed": false
   },
   "outputs": [
    {
     "name": "stdout",
     "output_type": "stream",
     "text": [
      "Rate:\n",
      "27.3017880729\n",
      "Math:\n",
      "36.0149750989\n",
      "Verbal:\n",
      "33.2362254438\n"
     ]
    }
   ],
   "source": [
    "from __future__ import division\n",
    "\n",
    "def standard_deviation(values):\n",
    "    mean = sum(values) / len(values)\n",
    "    variances = [x - mean for x in values]\n",
    "    squares = [y ** 2 for y in variances]\n",
    "    variance_figure = sum(squares) / (len(values) - 1)\n",
    "    sd = variance_figure ** 0.5\n",
    "    return sd\n",
    "    \n",
    "print 'Rate:'\n",
    "print standard_deviation(data_dict['rate'])\n",
    "\n",
    "print 'Math:'\n",
    "print standard_deviation(data_dict['math'])\n",
    "\n",
    "print 'Verbal:'\n",
    "print standard_deviation(data_dict['verbal'])\n",
    "\n"
   ]
  },
  {
   "cell_type": "markdown",
   "metadata": {},
   "source": [
    "## Step 4: Visualize the data"
   ]
  },
  {
   "cell_type": "markdown",
   "metadata": {
    "collapsed": true
   },
   "source": [
    "##### 13. Using MatPlotLib and PyPlot, plot the distribution of the Rate using histograms."
   ]
  },
  {
   "cell_type": "code",
   "execution_count": 69,
   "metadata": {
    "collapsed": false
   },
   "outputs": [
    {
     "data": {
      "image/png": "[encoded data removed]",
      "text/plain": [
       "<matplotlib.figure.Figure at 0x112dcc450>"
      ]
     },
     "metadata": {},
     "output_type": "display_data"
    }
   ],
   "source": [
    "import matplotlib as mpl\n",
    "import matplotlib.pyplot as plt\n",
    "%matplotlib inline\n",
    "\n",
    "n, bins, patches = plt.hist(data_dict['rate'], 50, normed=1, facecolor='green', alpha=0.75)"
   ]
  },
  {
   "cell_type": "markdown",
   "metadata": {},
   "source": [
    "##### 14. Plot the Math distribution"
   ]
  },
  {
   "cell_type": "code",
   "execution_count": 70,
   "metadata": {
    "collapsed": false
   },
   "outputs": [
    {
     "data": {
      "image/png": "[encoded data removed]",
      "text/plain": [
       "<matplotlib.figure.Figure at 0x113143890>"
      ]
     },
     "metadata": {},
     "output_type": "display_data"
    }
   ],
   "source": [
    "n, bins, patches = plt.hist(data_dict['math'], 50, normed=1, facecolor='green', alpha=0.75)"
   ]
  },
  {
   "cell_type": "markdown",
   "metadata": {},
   "source": [
    "##### 15. Plot the Verbal distribution"
   ]
  },
  {
   "cell_type": "code",
   "execution_count": 71,
   "metadata": {
    "collapsed": false
   },
   "outputs": [
    {
     "data": {
      "image/png": "[encoded data removed]",
      "text/plain": [
       "<matplotlib.figure.Figure at 0x10f72b810>"
      ]
     },
     "metadata": {},
     "output_type": "display_data"
    }
   ],
   "source": [
    "n, bins, patches = plt.hist(data_dict['verbal'], 50, normed=1, facecolor='green', alpha=0.75)"
   ]
  },
  {
   "cell_type": "markdown",
   "metadata": {},
   "source": [
    "##### 16. What is the typical assumption for data distribution?"
   ]
  },
  {
   "cell_type": "code",
   "execution_count": 72,
   "metadata": {
    "collapsed": false
   },
   "outputs": [
    {
     "name": "stdout",
     "output_type": "stream",
     "text": [
      "We assume the distribution is normal\n"
     ]
    }
   ],
   "source": [
    "print 'We assume the distribution is normal'"
   ]
  },
  {
   "cell_type": "markdown",
   "metadata": {},
   "source": [
    "##### 17. Does that distribution appear to hold true for our data?"
   ]
  },
  {
   "cell_type": "code",
   "execution_count": 73,
   "metadata": {
    "collapsed": false
   },
   "outputs": [
    {
     "name": "stdout",
     "output_type": "stream",
     "text": [
      "Nope\n"
     ]
    }
   ],
   "source": [
    "print 'Nope'"
   ]
  },
  {
   "cell_type": "markdown",
   "metadata": {},
   "source": [
    "##### 18. Plot some scatterplots. **BONUS**: Use a PyPlot `figure` to present multiple plots at once."
   ]
  },
  {
   "cell_type": "code",
   "execution_count": 74,
   "metadata": {
    "collapsed": false
   },
   "outputs": [
    {
     "data": {
      "text/plain": [
       "<matplotlib.collections.PathCollection at 0x11391ea50>"
      ]
     },
     "execution_count": 74,
     "metadata": {},
     "output_type": "execute_result"
    },
    {
     "data": {
      "image/png": "[encoded data removed]",
      "text/plain": [
       "<matplotlib.figure.Figure at 0x1132fd490>"
      ]
     },
     "metadata": {},
     "output_type": "display_data"
    }
   ],
   "source": [
    "fig = plt.figure()\n",
    "\n",
    "ax1 = fig.add_subplot(131)\n",
    "ax1.scatter(data_dict['rate'], data_dict['math'])\n",
    "ax2 = fig.add_subplot(132)\n",
    "ax2.scatter(data_dict['rate'], data_dict['verbal'])\n",
    "ax3 = fig.add_subplot(133)\n",
    "ax3.scatter(data_dict['math'], data_dict['verbal'])\n"
   ]
  },
  {
   "cell_type": "markdown",
   "metadata": {},
   "source": [
    "##### 19. Are there any interesting relationships to note?"
   ]
  },
  {
   "cell_type": "code",
   "execution_count": 75,
   "metadata": {
    "collapsed": false
   },
   "outputs": [
    {
     "name": "stdout",
     "output_type": "stream",
     "text": [
      "Loose correlation between rate and math/verbal, strong correlation between math and verbal scores\n"
     ]
    }
   ],
   "source": [
    "print 'Loose correlation between rate and math/verbal, strong correlation between math and verbal scores'"
   ]
  },
  {
   "cell_type": "markdown",
   "metadata": {},
   "source": [
    "##### 20. Create box plots for each variable. "
   ]
  },
  {
   "cell_type": "code",
   "execution_count": 76,
   "metadata": {
    "collapsed": false
   },
   "outputs": [
    {
     "data": {
      "text/plain": [
       "{'boxes': [<matplotlib.lines.Line2D at 0x113c565d0>],\n",
       " 'caps': [<matplotlib.lines.Line2D at 0x113c63510>,\n",
       "  <matplotlib.lines.Line2D at 0x113c63b50>],\n",
       " 'fliers': [<matplotlib.lines.Line2D at 0x113c70810>],\n",
       " 'means': [],\n",
       " 'medians': [<matplotlib.lines.Line2D at 0x113c701d0>],\n",
       " 'whiskers': [<matplotlib.lines.Line2D at 0x113c567d0>,\n",
       "  <matplotlib.lines.Line2D at 0x113c56e90>]}"
      ]
     },
     "execution_count": 76,
     "metadata": {},
     "output_type": "execute_result"
    },
    {
     "data": {
      "image/png": "[encoded data removed]",
      "text/plain": [
       "<matplotlib.figure.Figure at 0x113a87990>"
      ]
     },
     "metadata": {},
     "output_type": "display_data"
    }
   ],
   "source": [
    "fig = plt.figure()\n",
    "\n",
    "ax1 = fig.add_subplot(131)\n",
    "ax1.boxplot(data_dict['rate'])\n",
    "ax2 = fig.add_subplot(132)\n",
    "ax2.boxplot(data_dict['math'])\n",
    "ax3 = fig.add_subplot(133)\n",
    "ax3.boxplot(data_dict['verbal'])\n"
   ]
  },
  {
   "cell_type": "markdown",
   "metadata": {},
   "source": [
    "## BONUS: Using Tableau, create a heat map for each variable using a map of the US. "
   ]
  },
  {
   "cell_type": "code",
   "execution_count": null,
   "metadata": {
    "collapsed": true
   },
   "outputs": [],
   "source": []
  }
 ],
 "metadata": {
  "kernelspec": {
   "display_name": "Python 2",
   "language": "python",
   "name": "python2"
  },
  "language_info": {
   "codemirror_mode": {
    "name": "ipython",
    "version": 2
   },
   "file_extension": ".py",
   "mimetype": "text/x-python",
   "name": "python",
   "nbconvert_exporter": "python",
   "pygments_lexer": "ipython2",
   "version": "2.7.11"
  }
 },
 "nbformat": 4,
 "nbformat_minor": 0
}
