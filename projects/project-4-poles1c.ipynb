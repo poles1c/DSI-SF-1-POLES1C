{
 "cells": [
  {
   "cell_type": "markdown",
   "metadata": {},
   "source": [
    "# Classification with stumbleupon data\n",
    "\n",
    "Project 4 has been changed since scraping was untenable. The project now focuses on the stumbleupon kaggle dataset. For more information on this dataset, [check out the website here](https://www.kaggle.com/c/stumbleupon).\n",
    "\n",
    "---"
   ]
  },
  {
   "cell_type": "markdown",
   "metadata": {},
   "source": [
    "## 1. Load in the dataset\n",
    "\n",
    "This is the only part completed for you.\n",
    "\n",
    "---"
   ]
  },
  {
   "cell_type": "markdown",
   "metadata": {},
   "source": [
    "Link to field descriptions https://www.kaggle.com/c/stumbleupon/data"
   ]
  },
  {
   "cell_type": "code",
   "execution_count": 1,
   "metadata": {
    "collapsed": true
   },
   "outputs": [],
   "source": [
    "import pandas as pd\n",
    "import numpy as np\n",
    "import matplotlib.pyplot as plt\n",
    "import seaborn as sns\n",
    "\n",
    "sns.set_style('white')\n",
    "\n",
    "%matplotlib inline"
   ]
  },
  {
   "cell_type": "code",
   "execution_count": 2,
   "metadata": {
    "collapsed": false
   },
   "outputs": [],
   "source": [
    "su = pd.read_csv('../dataset/evergreen.tsv', delimiter='\\t')"
   ]
  },
  {
   "cell_type": "markdown",
   "metadata": {},
   "source": [
    "## 2. Clean up/examine your data\n",
    "\n",
    "Some of the columns may have values that need changing or that are of the wrong type. There could also be columns that aren't very useful.\n",
    "\n",
    "---"
   ]
  },
  {
   "cell_type": "code",
   "execution_count": 3,
   "metadata": {
    "collapsed": false
   },
   "outputs": [
    {
     "data": {
      "text/plain": [
       "Index([u'url', u'urlid', u'boilerplate', u'alchemy_category',\n",
       "       u'alchemy_category_score', u'avglinksize', u'commonlinkratio_1',\n",
       "       u'commonlinkratio_2', u'commonlinkratio_3', u'commonlinkratio_4',\n",
       "       u'compression_ratio', u'embed_ratio', u'framebased', u'frameTagRatio',\n",
       "       u'hasDomainLink', u'html_ratio', u'image_ratio', u'is_news',\n",
       "       u'lengthyLinkDomain', u'linkwordscore', u'news_front_page',\n",
       "       u'non_markup_alphanum_characters', u'numberOfLinks', u'numwords_in_url',\n",
       "       u'parametrizedLinkRatio', u'spelling_errors_ratio', u'label'],\n",
       "      dtype='object')"
      ]
     },
     "execution_count": 3,
     "metadata": {},
     "output_type": "execute_result"
    }
   ],
   "source": [
    "su.columns"
   ]
  },
  {
   "cell_type": "code",
   "execution_count": 4,
   "metadata": {
    "collapsed": false
   },
   "outputs": [
    {
     "data": {
      "text/html": [
       "<div>\n",
       "<table border=\"1\" class=\"dataframe\">\n",
       "  <thead>\n",
       "    <tr style=\"text-align: right;\">\n",
       "      <th></th>\n",
       "      <th>url</th>\n",
       "      <th>urlid</th>\n",
       "      <th>boilerplate</th>\n",
       "      <th>alchemy_category</th>\n",
       "      <th>alchemy_category_score</th>\n",
       "      <th>avglinksize</th>\n",
       "      <th>commonlinkratio_1</th>\n",
       "      <th>commonlinkratio_2</th>\n",
       "      <th>commonlinkratio_3</th>\n",
       "      <th>commonlinkratio_4</th>\n",
       "      <th>...</th>\n",
       "      <th>is_news</th>\n",
       "      <th>lengthyLinkDomain</th>\n",
       "      <th>linkwordscore</th>\n",
       "      <th>news_front_page</th>\n",
       "      <th>non_markup_alphanum_characters</th>\n",
       "      <th>numberOfLinks</th>\n",
       "      <th>numwords_in_url</th>\n",
       "      <th>parametrizedLinkRatio</th>\n",
       "      <th>spelling_errors_ratio</th>\n",
       "      <th>label</th>\n",
       "    </tr>\n",
       "  </thead>\n",
       "  <tbody>\n",
       "    <tr>\n",
       "      <th>0</th>\n",
       "      <td>http://www.bloomberg.com/news/2010-12-23/ibm-p...</td>\n",
       "      <td>4042</td>\n",
       "      <td>{\"title\":\"IBM Sees Holographic Calls Air Breat...</td>\n",
       "      <td>business</td>\n",
       "      <td>0.789131</td>\n",
       "      <td>2.055556</td>\n",
       "      <td>0.676471</td>\n",
       "      <td>0.205882</td>\n",
       "      <td>0.047059</td>\n",
       "      <td>0.023529</td>\n",
       "      <td>...</td>\n",
       "      <td>1</td>\n",
       "      <td>1</td>\n",
       "      <td>24</td>\n",
       "      <td>0</td>\n",
       "      <td>5424</td>\n",
       "      <td>170</td>\n",
       "      <td>8</td>\n",
       "      <td>0.152941</td>\n",
       "      <td>0.079130</td>\n",
       "      <td>0</td>\n",
       "    </tr>\n",
       "    <tr>\n",
       "      <th>1</th>\n",
       "      <td>http://www.popsci.com/technology/article/2012-...</td>\n",
       "      <td>8471</td>\n",
       "      <td>{\"title\":\"The Fully Electronic Futuristic Star...</td>\n",
       "      <td>recreation</td>\n",
       "      <td>0.574147</td>\n",
       "      <td>3.677966</td>\n",
       "      <td>0.508021</td>\n",
       "      <td>0.288770</td>\n",
       "      <td>0.213904</td>\n",
       "      <td>0.144385</td>\n",
       "      <td>...</td>\n",
       "      <td>1</td>\n",
       "      <td>1</td>\n",
       "      <td>40</td>\n",
       "      <td>0</td>\n",
       "      <td>4973</td>\n",
       "      <td>187</td>\n",
       "      <td>9</td>\n",
       "      <td>0.181818</td>\n",
       "      <td>0.125448</td>\n",
       "      <td>1</td>\n",
       "    </tr>\n",
       "    <tr>\n",
       "      <th>2</th>\n",
       "      <td>http://www.menshealth.com/health/flu-fighting-...</td>\n",
       "      <td>1164</td>\n",
       "      <td>{\"title\":\"Fruits that Fight the Flu fruits tha...</td>\n",
       "      <td>health</td>\n",
       "      <td>0.996526</td>\n",
       "      <td>2.382883</td>\n",
       "      <td>0.562016</td>\n",
       "      <td>0.321705</td>\n",
       "      <td>0.120155</td>\n",
       "      <td>0.042636</td>\n",
       "      <td>...</td>\n",
       "      <td>1</td>\n",
       "      <td>1</td>\n",
       "      <td>55</td>\n",
       "      <td>0</td>\n",
       "      <td>2240</td>\n",
       "      <td>258</td>\n",
       "      <td>11</td>\n",
       "      <td>0.166667</td>\n",
       "      <td>0.057613</td>\n",
       "      <td>1</td>\n",
       "    </tr>\n",
       "  </tbody>\n",
       "</table>\n",
       "<p>3 rows × 27 columns</p>\n",
       "</div>"
      ],
      "text/plain": [
       "                                                 url  urlid  \\\n",
       "0  http://www.bloomberg.com/news/2010-12-23/ibm-p...   4042   \n",
       "1  http://www.popsci.com/technology/article/2012-...   8471   \n",
       "2  http://www.menshealth.com/health/flu-fighting-...   1164   \n",
       "\n",
       "                                         boilerplate alchemy_category  \\\n",
       "0  {\"title\":\"IBM Sees Holographic Calls Air Breat...         business   \n",
       "1  {\"title\":\"The Fully Electronic Futuristic Star...       recreation   \n",
       "2  {\"title\":\"Fruits that Fight the Flu fruits tha...           health   \n",
       "\n",
       "  alchemy_category_score  avglinksize  commonlinkratio_1  commonlinkratio_2  \\\n",
       "0               0.789131     2.055556           0.676471           0.205882   \n",
       "1               0.574147     3.677966           0.508021           0.288770   \n",
       "2               0.996526     2.382883           0.562016           0.321705   \n",
       "\n",
       "   commonlinkratio_3  commonlinkratio_4  ...    is_news  lengthyLinkDomain  \\\n",
       "0           0.047059           0.023529  ...          1                  1   \n",
       "1           0.213904           0.144385  ...          1                  1   \n",
       "2           0.120155           0.042636  ...          1                  1   \n",
       "\n",
       "   linkwordscore  news_front_page  non_markup_alphanum_characters  \\\n",
       "0             24                0                            5424   \n",
       "1             40                0                            4973   \n",
       "2             55                0                            2240   \n",
       "\n",
       "   numberOfLinks  numwords_in_url parametrizedLinkRatio  \\\n",
       "0            170                8              0.152941   \n",
       "1            187                9              0.181818   \n",
       "2            258               11              0.166667   \n",
       "\n",
       "   spelling_errors_ratio  label  \n",
       "0               0.079130      0  \n",
       "1               0.125448      1  \n",
       "2               0.057613      1  \n",
       "\n",
       "[3 rows x 27 columns]"
      ]
     },
     "execution_count": 4,
     "metadata": {},
     "output_type": "execute_result"
    }
   ],
   "source": [
    "su.head(3)"
   ]
  },
  {
   "cell_type": "code",
   "execution_count": 5,
   "metadata": {
    "collapsed": false
   },
   "outputs": [
    {
     "data": {
      "text/plain": [
       "(7395, 27)"
      ]
     },
     "execution_count": 5,
     "metadata": {},
     "output_type": "execute_result"
    }
   ],
   "source": [
    "su.shape"
   ]
  },
  {
   "cell_type": "code",
   "execution_count": 6,
   "metadata": {
    "collapsed": false
   },
   "outputs": [
    {
     "data": {
      "text/plain": [
       "url                                object\n",
       "urlid                               int64\n",
       "boilerplate                        object\n",
       "alchemy_category                   object\n",
       "alchemy_category_score             object\n",
       "avglinksize                       float64\n",
       "commonlinkratio_1                 float64\n",
       "commonlinkratio_2                 float64\n",
       "commonlinkratio_3                 float64\n",
       "commonlinkratio_4                 float64\n",
       "compression_ratio                 float64\n",
       "embed_ratio                       float64\n",
       "framebased                          int64\n",
       "frameTagRatio                     float64\n",
       "hasDomainLink                       int64\n",
       "html_ratio                        float64\n",
       "image_ratio                       float64\n",
       "is_news                            object\n",
       "lengthyLinkDomain                   int64\n",
       "linkwordscore                       int64\n",
       "news_front_page                    object\n",
       "non_markup_alphanum_characters      int64\n",
       "numberOfLinks                       int64\n",
       "numwords_in_url                     int64\n",
       "parametrizedLinkRatio             float64\n",
       "spelling_errors_ratio             float64\n",
       "label                               int64\n",
       "dtype: object"
      ]
     },
     "execution_count": 6,
     "metadata": {},
     "output_type": "execute_result"
    }
   ],
   "source": [
    "su.dtypes"
   ]
  },
  {
   "cell_type": "code",
   "execution_count": 7,
   "metadata": {
    "collapsed": false
   },
   "outputs": [],
   "source": [
    "su.alchemy_category_score = su.alchemy_category_score.replace('?', np.nan)\n",
    "su = su.dropna()\n",
    "su.alchemy_category_score = su.alchemy_category_score.apply(float)"
   ]
  },
  {
   "cell_type": "markdown",
   "metadata": {},
   "source": [
    "## 3. Use statsmodels' logistic regression function to look at variable significance\n",
    "\n",
    "The **`import statsmodels.formula.api as smf`** code below gives us access to a statsmodels api that can run logistic regressions using patsy-style formulas.\n",
    "\n",
    "Ex:\n",
    "\n",
    "```python\n",
    "formula = 'target ~ var1 + var2 + C(var3) -1'\n",
    "logreg = smf.logit(formula, data=data)\n",
    "logreg_results = logreg.fit()\n",
    "print logreg_results.summary()\n",
    "```\n",
    "\n",
    "---"
   ]
  },
  {
   "cell_type": "code",
   "execution_count": 8,
   "metadata": {
    "collapsed": false
   },
   "outputs": [
    {
     "name": "stdout",
     "output_type": "stream",
     "text": [
      "Optimization terminated successfully.\n",
      "         Current function value: 0.645467\n",
      "         Iterations 5\n",
      "                           Logit Regression Results                           \n",
      "==============================================================================\n",
      "Dep. Variable:                  label   No. Observations:                 5053\n",
      "Model:                          Logit   Df Residuals:                     5033\n",
      "Method:                           MLE   Df Model:                           19\n",
      "Date:                Wed, 18 May 2016   Pseudo R-squ.:                 0.06787\n",
      "Time:                        16:42:27   Log-Likelihood:                -3261.5\n",
      "converged:                       True   LL-Null:                       -3499.0\n",
      "                                        LLR p-value:                 1.004e-88\n",
      "==================================================================================================\n",
      "                                     coef    std err          z      P>|z|      [95.0% Conf. Int.]\n",
      "--------------------------------------------------------------------------------------------------\n",
      "Intercept                          1.9466      0.242      8.051      0.000         1.473     2.420\n",
      "alchemy_category_score            -0.9681      0.146     -6.634      0.000        -1.254    -0.682\n",
      "avglinksize                        0.0043      0.003      1.314      0.189        -0.002     0.011\n",
      "commonlinkratio_1                  0.6804      0.276      2.463      0.014         0.139     1.222\n",
      "commonlinkratio_2                 -0.1273      0.467     -0.272      0.785        -1.043     0.789\n",
      "commonlinkratio_3                  3.0876      0.885      3.490      0.000         1.354     4.821\n",
      "commonlinkratio_4                 -2.2795      0.906     -2.517      0.012        -4.055    -0.504\n",
      "compression_ratio                 -0.0029      0.014     -0.208      0.835        -0.031     0.025\n",
      "embed_ratio                       -0.4426      0.229     -1.935      0.053        -0.891     0.006\n",
      "frameTagRatio                     -7.7304      0.969     -7.978      0.000        -9.630    -5.831\n",
      "hasDomainLink                      0.0889      0.212      0.419      0.675        -0.327     0.504\n",
      "html_ratio                        -0.5060      0.721     -0.702      0.483        -1.920     0.908\n",
      "image_ratio                       -0.0047      0.015     -0.303      0.762        -0.035     0.026\n",
      "lengthyLinkDomain                  0.0309      0.076      0.405      0.686        -0.119     0.181\n",
      "linkwordscore                     -0.0255      0.002    -11.542      0.000        -0.030    -0.021\n",
      "non_markup_alphanum_characters -2.562e-05   5.87e-06     -4.367      0.000     -3.71e-05 -1.41e-05\n",
      "numberOfLinks                      0.0009      0.000      3.248      0.001         0.000     0.001\n",
      "numwords_in_url                   -0.0275      0.010     -2.872      0.004        -0.046    -0.009\n",
      "parametrizedLinkRatio             -0.0789      0.175     -0.450      0.653        -0.423     0.265\n",
      "spelling_errors_ratio             -3.6745      0.596     -6.166      0.000        -4.843    -2.506\n",
      "==================================================================================================\n"
     ]
    }
   ],
   "source": [
    "# goal is to describe realtionships for dataset only\n",
    "\n",
    "import statsmodels.formula.api as smf\n",
    "# in this instance do not get rid of intercept (-1) if running stats logistic regression, only use if predicting\n",
    "\n",
    "formula = \"\"\"label ~ alchemy_category_score +  avglinksize + commonlinkratio_1 +\n",
    "       commonlinkratio_2 + commonlinkratio_3 + commonlinkratio_4 +\n",
    "       compression_ratio + embed_ratio + frameTagRatio +\n",
    "       hasDomainLink + html_ratio + image_ratio +\n",
    "       lengthyLinkDomain + linkwordscore +\n",
    "       non_markup_alphanum_characters + numberOfLinks + numwords_in_url +\n",
    "       parametrizedLinkRatio + spelling_errors_ratio \n",
    "       \"\"\"\n",
    "# X an Ys\n",
    "logreg = smf.logit(formula, data = su)\n",
    "\n",
    "#running model\n",
    "logreg_results = logreg.fit()\n",
    "\n",
    "# cross_val score\n",
    "\n",
    "\n",
    "\n",
    "#summary of results\n",
    "logreg_results = logreg_results.summary()\n",
    "\n",
    "print logreg_results\n",
    "\n",
    "\n"
   ]
  },
  {
   "cell_type": "code",
   "execution_count": 9,
   "metadata": {
    "collapsed": false
   },
   "outputs": [
    {
     "data": {
      "text/html": [
       "<div>\n",
       "<table border=\"1\" class=\"dataframe\">\n",
       "  <thead>\n",
       "    <tr style=\"text-align: right;\">\n",
       "      <th></th>\n",
       "      <th>url</th>\n",
       "      <th>urlid</th>\n",
       "      <th>boilerplate</th>\n",
       "      <th>alchemy_category</th>\n",
       "      <th>alchemy_category_score</th>\n",
       "      <th>avglinksize</th>\n",
       "      <th>commonlinkratio_1</th>\n",
       "      <th>commonlinkratio_2</th>\n",
       "      <th>commonlinkratio_3</th>\n",
       "      <th>commonlinkratio_4</th>\n",
       "      <th>...</th>\n",
       "      <th>is_news</th>\n",
       "      <th>lengthyLinkDomain</th>\n",
       "      <th>linkwordscore</th>\n",
       "      <th>news_front_page</th>\n",
       "      <th>non_markup_alphanum_characters</th>\n",
       "      <th>numberOfLinks</th>\n",
       "      <th>numwords_in_url</th>\n",
       "      <th>parametrizedLinkRatio</th>\n",
       "      <th>spelling_errors_ratio</th>\n",
       "      <th>label</th>\n",
       "    </tr>\n",
       "  </thead>\n",
       "  <tbody>\n",
       "    <tr>\n",
       "      <th>0</th>\n",
       "      <td>http://www.bloomberg.com/news/2010-12-23/ibm-p...</td>\n",
       "      <td>4042</td>\n",
       "      <td>{\"title\":\"IBM Sees Holographic Calls Air Breat...</td>\n",
       "      <td>business</td>\n",
       "      <td>0.789131</td>\n",
       "      <td>2.055556</td>\n",
       "      <td>0.676471</td>\n",
       "      <td>0.205882</td>\n",
       "      <td>0.047059</td>\n",
       "      <td>0.023529</td>\n",
       "      <td>...</td>\n",
       "      <td>1</td>\n",
       "      <td>1</td>\n",
       "      <td>24</td>\n",
       "      <td>0</td>\n",
       "      <td>5424</td>\n",
       "      <td>170</td>\n",
       "      <td>8</td>\n",
       "      <td>0.152941</td>\n",
       "      <td>0.079130</td>\n",
       "      <td>0</td>\n",
       "    </tr>\n",
       "    <tr>\n",
       "      <th>1</th>\n",
       "      <td>http://www.popsci.com/technology/article/2012-...</td>\n",
       "      <td>8471</td>\n",
       "      <td>{\"title\":\"The Fully Electronic Futuristic Star...</td>\n",
       "      <td>recreation</td>\n",
       "      <td>0.574147</td>\n",
       "      <td>3.677966</td>\n",
       "      <td>0.508021</td>\n",
       "      <td>0.288770</td>\n",
       "      <td>0.213904</td>\n",
       "      <td>0.144385</td>\n",
       "      <td>...</td>\n",
       "      <td>1</td>\n",
       "      <td>1</td>\n",
       "      <td>40</td>\n",
       "      <td>0</td>\n",
       "      <td>4973</td>\n",
       "      <td>187</td>\n",
       "      <td>9</td>\n",
       "      <td>0.181818</td>\n",
       "      <td>0.125448</td>\n",
       "      <td>1</td>\n",
       "    </tr>\n",
       "    <tr>\n",
       "      <th>2</th>\n",
       "      <td>http://www.menshealth.com/health/flu-fighting-...</td>\n",
       "      <td>1164</td>\n",
       "      <td>{\"title\":\"Fruits that Fight the Flu fruits tha...</td>\n",
       "      <td>health</td>\n",
       "      <td>0.996526</td>\n",
       "      <td>2.382883</td>\n",
       "      <td>0.562016</td>\n",
       "      <td>0.321705</td>\n",
       "      <td>0.120155</td>\n",
       "      <td>0.042636</td>\n",
       "      <td>...</td>\n",
       "      <td>1</td>\n",
       "      <td>1</td>\n",
       "      <td>55</td>\n",
       "      <td>0</td>\n",
       "      <td>2240</td>\n",
       "      <td>258</td>\n",
       "      <td>11</td>\n",
       "      <td>0.166667</td>\n",
       "      <td>0.057613</td>\n",
       "      <td>1</td>\n",
       "    </tr>\n",
       "    <tr>\n",
       "      <th>3</th>\n",
       "      <td>http://www.dumblittleman.com/2007/12/10-foolpr...</td>\n",
       "      <td>6684</td>\n",
       "      <td>{\"title\":\"10 Foolproof Tips for Better Sleep \"...</td>\n",
       "      <td>health</td>\n",
       "      <td>0.801248</td>\n",
       "      <td>1.543103</td>\n",
       "      <td>0.400000</td>\n",
       "      <td>0.100000</td>\n",
       "      <td>0.016667</td>\n",
       "      <td>0.000000</td>\n",
       "      <td>...</td>\n",
       "      <td>1</td>\n",
       "      <td>0</td>\n",
       "      <td>24</td>\n",
       "      <td>0</td>\n",
       "      <td>2737</td>\n",
       "      <td>120</td>\n",
       "      <td>5</td>\n",
       "      <td>0.041667</td>\n",
       "      <td>0.100858</td>\n",
       "      <td>1</td>\n",
       "    </tr>\n",
       "    <tr>\n",
       "      <th>4</th>\n",
       "      <td>http://bleacherreport.com/articles/1205138-the...</td>\n",
       "      <td>9006</td>\n",
       "      <td>{\"title\":\"The 50 Coolest Jerseys You Didn t Kn...</td>\n",
       "      <td>sports</td>\n",
       "      <td>0.719157</td>\n",
       "      <td>2.676471</td>\n",
       "      <td>0.500000</td>\n",
       "      <td>0.222222</td>\n",
       "      <td>0.123457</td>\n",
       "      <td>0.043210</td>\n",
       "      <td>...</td>\n",
       "      <td>1</td>\n",
       "      <td>1</td>\n",
       "      <td>14</td>\n",
       "      <td>0</td>\n",
       "      <td>12032</td>\n",
       "      <td>162</td>\n",
       "      <td>10</td>\n",
       "      <td>0.098765</td>\n",
       "      <td>0.082569</td>\n",
       "      <td>0</td>\n",
       "    </tr>\n",
       "    <tr>\n",
       "      <th>6</th>\n",
       "      <td>http://gofashionlane.blogspot.tw/2012/06/ameri...</td>\n",
       "      <td>8685</td>\n",
       "      <td>{\"title\":\"fashion lane American Wild Child \",\"...</td>\n",
       "      <td>arts_entertainment</td>\n",
       "      <td>0.221110</td>\n",
       "      <td>0.773810</td>\n",
       "      <td>0.215054</td>\n",
       "      <td>0.053763</td>\n",
       "      <td>0.043011</td>\n",
       "      <td>0.043011</td>\n",
       "      <td>...</td>\n",
       "      <td>1</td>\n",
       "      <td>0</td>\n",
       "      <td>21</td>\n",
       "      <td>0</td>\n",
       "      <td>1287</td>\n",
       "      <td>93</td>\n",
       "      <td>3</td>\n",
       "      <td>0.548387</td>\n",
       "      <td>0.064327</td>\n",
       "      <td>1</td>\n",
       "    </tr>\n",
       "    <tr>\n",
       "      <th>10</th>\n",
       "      <td>http://www.reuters.com/</td>\n",
       "      <td>2293</td>\n",
       "      <td>{\"title\":\"Business Financial News Breaking US ...</td>\n",
       "      <td>business</td>\n",
       "      <td>0.816604</td>\n",
       "      <td>2.506527</td>\n",
       "      <td>0.637755</td>\n",
       "      <td>0.293367</td>\n",
       "      <td>0.091837</td>\n",
       "      <td>0.048469</td>\n",
       "      <td>...</td>\n",
       "      <td>1</td>\n",
       "      <td>1</td>\n",
       "      <td>53</td>\n",
       "      <td>0</td>\n",
       "      <td>4401</td>\n",
       "      <td>392</td>\n",
       "      <td>0</td>\n",
       "      <td>0.160714</td>\n",
       "      <td>0.073684</td>\n",
       "      <td>0</td>\n",
       "    </tr>\n",
       "    <tr>\n",
       "      <th>11</th>\n",
       "      <td>http://www.midwestsportsfans.com/2010/12/photo...</td>\n",
       "      <td>3651</td>\n",
       "      <td>{\"title\":\"A Tip of the Cap to The Greatest Iro...</td>\n",
       "      <td>sports</td>\n",
       "      <td>0.891560</td>\n",
       "      <td>4.986111</td>\n",
       "      <td>0.640000</td>\n",
       "      <td>0.426667</td>\n",
       "      <td>0.320000</td>\n",
       "      <td>0.293333</td>\n",
       "      <td>...</td>\n",
       "      <td>?</td>\n",
       "      <td>1</td>\n",
       "      <td>40</td>\n",
       "      <td>0</td>\n",
       "      <td>2701</td>\n",
       "      <td>75</td>\n",
       "      <td>8</td>\n",
       "      <td>0.186667</td>\n",
       "      <td>0.115385</td>\n",
       "      <td>0</td>\n",
       "    </tr>\n",
       "    <tr>\n",
       "      <th>12</th>\n",
       "      <td>http://www.ivillage.com/our-dirty-mouths/4-b-1...</td>\n",
       "      <td>1917</td>\n",
       "      <td>{\"title\":\"9 Foods That Trash Your Teeth \",\"bod...</td>\n",
       "      <td>health</td>\n",
       "      <td>0.872323</td>\n",
       "      <td>3.056911</td>\n",
       "      <td>0.595588</td>\n",
       "      <td>0.227941</td>\n",
       "      <td>0.044118</td>\n",
       "      <td>0.014706</td>\n",
       "      <td>...</td>\n",
       "      <td>1</td>\n",
       "      <td>1</td>\n",
       "      <td>64</td>\n",
       "      <td>0</td>\n",
       "      <td>1062</td>\n",
       "      <td>136</td>\n",
       "      <td>9</td>\n",
       "      <td>0.169118</td>\n",
       "      <td>0.180328</td>\n",
       "      <td>1</td>\n",
       "    </tr>\n",
       "    <tr>\n",
       "      <th>14</th>\n",
       "      <td>http://www.phillyburbs.com/blogs/type-a-kitche...</td>\n",
       "      <td>2110</td>\n",
       "      <td>{\"url\":\"phillyburbs blogs type a kitchen frenc...</td>\n",
       "      <td>recreation</td>\n",
       "      <td>0.559991</td>\n",
       "      <td>2.299492</td>\n",
       "      <td>0.547414</td>\n",
       "      <td>0.206897</td>\n",
       "      <td>0.056034</td>\n",
       "      <td>0.017241</td>\n",
       "      <td>...</td>\n",
       "      <td>?</td>\n",
       "      <td>1</td>\n",
       "      <td>37</td>\n",
       "      <td>0</td>\n",
       "      <td>3610</td>\n",
       "      <td>232</td>\n",
       "      <td>11</td>\n",
       "      <td>0.215517</td>\n",
       "      <td>0.080205</td>\n",
       "      <td>0</td>\n",
       "    </tr>\n",
       "  </tbody>\n",
       "</table>\n",
       "<p>10 rows × 27 columns</p>\n",
       "</div>"
      ],
      "text/plain": [
       "                                                  url  urlid  \\\n",
       "0   http://www.bloomberg.com/news/2010-12-23/ibm-p...   4042   \n",
       "1   http://www.popsci.com/technology/article/2012-...   8471   \n",
       "2   http://www.menshealth.com/health/flu-fighting-...   1164   \n",
       "3   http://www.dumblittleman.com/2007/12/10-foolpr...   6684   \n",
       "4   http://bleacherreport.com/articles/1205138-the...   9006   \n",
       "6   http://gofashionlane.blogspot.tw/2012/06/ameri...   8685   \n",
       "10                            http://www.reuters.com/   2293   \n",
       "11  http://www.midwestsportsfans.com/2010/12/photo...   3651   \n",
       "12  http://www.ivillage.com/our-dirty-mouths/4-b-1...   1917   \n",
       "14  http://www.phillyburbs.com/blogs/type-a-kitche...   2110   \n",
       "\n",
       "                                          boilerplate    alchemy_category  \\\n",
       "0   {\"title\":\"IBM Sees Holographic Calls Air Breat...            business   \n",
       "1   {\"title\":\"The Fully Electronic Futuristic Star...          recreation   \n",
       "2   {\"title\":\"Fruits that Fight the Flu fruits tha...              health   \n",
       "3   {\"title\":\"10 Foolproof Tips for Better Sleep \"...              health   \n",
       "4   {\"title\":\"The 50 Coolest Jerseys You Didn t Kn...              sports   \n",
       "6   {\"title\":\"fashion lane American Wild Child \",\"...  arts_entertainment   \n",
       "10  {\"title\":\"Business Financial News Breaking US ...            business   \n",
       "11  {\"title\":\"A Tip of the Cap to The Greatest Iro...              sports   \n",
       "12  {\"title\":\"9 Foods That Trash Your Teeth \",\"bod...              health   \n",
       "14  {\"url\":\"phillyburbs blogs type a kitchen frenc...          recreation   \n",
       "\n",
       "    alchemy_category_score  avglinksize  commonlinkratio_1  commonlinkratio_2  \\\n",
       "0                 0.789131     2.055556           0.676471           0.205882   \n",
       "1                 0.574147     3.677966           0.508021           0.288770   \n",
       "2                 0.996526     2.382883           0.562016           0.321705   \n",
       "3                 0.801248     1.543103           0.400000           0.100000   \n",
       "4                 0.719157     2.676471           0.500000           0.222222   \n",
       "6                 0.221110     0.773810           0.215054           0.053763   \n",
       "10                0.816604     2.506527           0.637755           0.293367   \n",
       "11                0.891560     4.986111           0.640000           0.426667   \n",
       "12                0.872323     3.056911           0.595588           0.227941   \n",
       "14                0.559991     2.299492           0.547414           0.206897   \n",
       "\n",
       "    commonlinkratio_3  commonlinkratio_4  ...    is_news  lengthyLinkDomain  \\\n",
       "0            0.047059           0.023529  ...          1                  1   \n",
       "1            0.213904           0.144385  ...          1                  1   \n",
       "2            0.120155           0.042636  ...          1                  1   \n",
       "3            0.016667           0.000000  ...          1                  0   \n",
       "4            0.123457           0.043210  ...          1                  1   \n",
       "6            0.043011           0.043011  ...          1                  0   \n",
       "10           0.091837           0.048469  ...          1                  1   \n",
       "11           0.320000           0.293333  ...          ?                  1   \n",
       "12           0.044118           0.014706  ...          1                  1   \n",
       "14           0.056034           0.017241  ...          ?                  1   \n",
       "\n",
       "    linkwordscore  news_front_page  non_markup_alphanum_characters  \\\n",
       "0              24                0                            5424   \n",
       "1              40                0                            4973   \n",
       "2              55                0                            2240   \n",
       "3              24                0                            2737   \n",
       "4              14                0                           12032   \n",
       "6              21                0                            1287   \n",
       "10             53                0                            4401   \n",
       "11             40                0                            2701   \n",
       "12             64                0                            1062   \n",
       "14             37                0                            3610   \n",
       "\n",
       "    numberOfLinks  numwords_in_url parametrizedLinkRatio  \\\n",
       "0             170                8              0.152941   \n",
       "1             187                9              0.181818   \n",
       "2             258               11              0.166667   \n",
       "3             120                5              0.041667   \n",
       "4             162               10              0.098765   \n",
       "6              93                3              0.548387   \n",
       "10            392                0              0.160714   \n",
       "11             75                8              0.186667   \n",
       "12            136                9              0.169118   \n",
       "14            232               11              0.215517   \n",
       "\n",
       "    spelling_errors_ratio  label  \n",
       "0                0.079130      0  \n",
       "1                0.125448      1  \n",
       "2                0.057613      1  \n",
       "3                0.100858      1  \n",
       "4                0.082569      0  \n",
       "6                0.064327      1  \n",
       "10               0.073684      0  \n",
       "11               0.115385      0  \n",
       "12               0.180328      1  \n",
       "14               0.080205      0  \n",
       "\n",
       "[10 rows x 27 columns]"
      ]
     },
     "execution_count": 9,
     "metadata": {},
     "output_type": "execute_result"
    }
   ],
   "source": [
    "all_columns = su.columns\n",
    "cat_columns = ['alchemy_category']\n",
    "cont_columns = ['alchemy_category_score', 'avglinksize']\n",
    "su[all_columns].iloc[0:10]"
   ]
  },
  {
   "cell_type": "code",
   "execution_count": 10,
   "metadata": {
    "collapsed": false
   },
   "outputs": [],
   "source": [
    "# split apart columns that are target dummy coded\n",
    "#normalize all predictor columns \n",
    "#concantenate all columns back together\n",
    "\n",
    "dummytarget = su[[\"hasDomainLink\",\"lengthyLinkDomain\",\"label\"]]\n",
    "normalize = su[[\"alchemy_category_score\", \"avglinksize\",\"commonlinkratio_1\", \"commonlinkratio_2\", \"commonlinkratio_3\", \"commonlinkratio_4\", \"compression_ratio\",\"embed_ratio\",\"frameTagRatio\",\"html_ratio\",\"image_ratio\",\"linkwordscore\",\"non_markup_alphanum_characters\",\"numberOfLinks\", \"numwords_in_url\",\"parametrizedLinkRatio\",\"spelling_errors_ratio\"]]\n"
   ]
  },
  {
   "cell_type": "code",
   "execution_count": 11,
   "metadata": {
    "collapsed": false
   },
   "outputs": [],
   "source": [
    "# how do I use pipeline to normalize my predictor columns?\n",
    "from sklearn.preprocessing import StandardScaler\n",
    "standard_scaler = StandardScaler()\n",
    "predictorsnormalized = standard_scaler.fit_transform(normalize)\n"
   ]
  },
  {
   "cell_type": "code",
   "execution_count": 12,
   "metadata": {
    "collapsed": false
   },
   "outputs": [],
   "source": [
    "#convert numpy array to dataframe\n",
    "predictorsnormdf = pd.DataFrame(predictorsnormalized, columns = [\"alchemy_category_score\", \"avglinksize\",\"commonlinkratio_1\", \"commonlinkratio_2\", \"commonlinkratio_3\", \"commonlinkratio_4\", \"compression_ratio\",\"embed_ratio\",\"frameTagRatio\",\"html_ratio\",\"image_ratio\",\"linkwordscore\",\"non_markup_alphanum_characters\",\"numberOfLinks\", \"numwords_in_url\",\"parametrizedLinkRatio\",\"spelling_errors_ratio\"\n",
    "\n",
    "])"
   ]
  },
  {
   "cell_type": "code",
   "execution_count": 13,
   "metadata": {
    "collapsed": false
   },
   "outputs": [
    {
     "data": {
      "text/plain": [
       "<matplotlib.axes._subplots.AxesSubplot at 0x1185c6490>"
      ]
     },
     "execution_count": 13,
     "metadata": {},
     "output_type": "execute_result"
    },
    {
     "data": {
      "image/png": "[encoded data removed]",
      "text/plain": [
       "<matplotlib.figure.Figure at 0x118461c90>"
      ]
     },
     "metadata": {},
     "output_type": "display_data"
    }
   ],
   "source": [
    "# normalization of predictor rows; makes mean of column 0; pushes distribution towards normal; for ease of interpreting\n",
    "#coeffcients \n",
    "#import seaborn as sns\n",
    "sns.distplot(predictorsnormalized[:,0])\n"
   ]
  },
  {
   "cell_type": "code",
   "execution_count": 14,
   "metadata": {
    "collapsed": false
   },
   "outputs": [],
   "source": [
    "#rejoin dataframes\n",
    "\n",
    "\n",
    "frames = [dummytarget, predictorsnormdf]\n",
    "\n",
    "su_norm = pd.concat(frames, axis = 1)\n",
    "\n"
   ]
  },
  {
   "cell_type": "code",
   "execution_count": 15,
   "metadata": {
    "collapsed": false
   },
   "outputs": [
    {
     "name": "stdout",
     "output_type": "stream",
     "text": [
      "[  0.  nan   1.]\n",
      "[  1.   0.  nan]\n",
      "[  0.   1.  nan]\n",
      "[ 0.87292916 -0.13713086  1.84733377 ..., -1.91249751  0.06832124\n",
      "         nan]\n",
      "[-0.0874052   0.07266537 -0.05511037 ..., -0.0723594  -0.18895223\n",
      "         nan]\n",
      "[ 1.07095745  0.22349295  0.49513625 ...,  1.03621667  0.3820367\n",
      "         nan]\n",
      "[-0.05356346  0.52177356  0.75038335 ...,  0.0024596   0.2295271\n",
      "         nan]\n",
      "[-0.47635608  1.310514    0.30648729 ..., -0.78109362 -0.58765366\n",
      "         nan]\n",
      "[-0.36456953  1.32831061 -0.09693954 ..., -0.43355292  1.99414351\n",
      "         nan]\n",
      "[-0.2274663  -0.22142494 -0.20762514 ..., -0.19967178 -0.16703149\n",
      "         nan]\n",
      "[ 0.25150447  0.26847736  0.29592287  0.26006047  0.48346723 -3.92382517\n",
      "  0.38198352  0.2759216   0.25782116  0.2774382   0.26580355  0.42547654\n",
      "  0.28438108  0.27727811  0.28743674  0.29165187  0.28464201  0.2564751\n",
      "  0.32606393  0.33729892  0.30949516  0.25956495  0.29789702  0.27665706\n",
      "  0.26439129  0.28116934  0.27793061  0.27325098  0.26035051  0.2989514\n",
      "  0.26565813  0.2691219   0.5497423   0.30419002  0.57268367  0.59944861\n",
      "  0.27483033  0.26054198  0.26585268  0.28111674  0.26556282  0.66903744\n",
      "  0.27879421  0.30644302  0.28912005  0.25806946  0.25682336  0.29325777\n",
      "  0.25879126  0.25719293  0.25410988  0.2573687   0.26484418  0.27065736\n",
      "  0.261059    0.27248603  0.26657786  0.28243284  0.25584023  0.2585455\n",
      "  0.26463444  0.2572955   0.2599737   0.32882539  0.2571621   0.26029464\n",
      "  0.25471948  0.26343399  0.25807979  0.33759374  0.264043    0.25708646\n",
      "  0.25723981  0.28490711  0.2600082   0.27148213  0.26523911  0.25622236\n",
      "  0.26378485  0.26714241  0.27509391  0.29204165  0.26976393  0.29367952\n",
      "  0.28154282  0.27407382  0.26965808  0.300626    0.26447133  0.77342068\n",
      "  0.27563933  0.36748585  0.26732012  0.37430829  0.29284437  0.27031226\n",
      "  0.29126952  0.36967418  0.25633144  0.25785962  0.26080364  0.26646981\n",
      "  0.2753635   0.25353786  0.30305175  0.28719105  0.25791819  0.27269904\n",
      "  0.2547153   0.25358379  0.27177306  0.26004298  0.25516624  0.25602323\n",
      "  0.38619253  0.36435122  0.25652893  0.35801798  0.25871575  0.37079961\n",
      "  0.29243908  0.28545024  0.2922394   0.25658395  0.28558879  0.52985978\n",
      "  0.26473848  0.25225603  0.27238112  0.25751214  0.32741956  0.25763565\n",
      "  0.27915566  0.34034127  0.3210933   0.25896042  0.26919655  0.29454911\n",
      "  0.29949677  0.26068102  0.27444584  0.26320007  0.28209297  0.25491154\n",
      "  0.27336484  1.14621796  0.25842873  0.26610352  0.27110696  0.28829152\n",
      "  0.26110293  0.25366729  0.27291642  0.25967537  0.26313491  0.34326996\n",
      "  0.3120165   0.25709394  0.25995655  0.26528444  0.26989799  0.26510489\n",
      "  0.25470277  0.2672012   0.26156551  0.26738025  0.28946201  0.2633326\n",
      "  0.44129218  0.27048324  0.26890168  0.27371367  0.25733594  0.27635762\n",
      "  0.29499749  0.26423413  0.26927183  0.26519408  0.25415581  0.25697673\n",
      "  0.27039737  0.26146946  0.26708406  0.28281944  0.28688862  0.26615475\n",
      "  0.25302012  0.25817433  0.2585813   0.25447731  0.2887842   0.41209407\n",
      "  0.25845178  0.26115841  0.51246257  0.28629888  0.2563765   0.25426854\n",
      "  0.25450653  0.37614118  0.39548136  0.25676307  0.26221045  0.36138157\n",
      "  0.32227277  0.26570628  0.25577373  0.30503434  0.28509908  0.25541676\n",
      "  0.35485421  0.25936762  0.31476704  0.29640049  0.2837464   0.27187193\n",
      "  0.63107989  0.2547487   0.34428957  0.27952682  0.27006149  0.27897374\n",
      "  0.33337368  0.25280717  0.26385752  0.25801824  0.25673016  0.25252743\n",
      "  0.25511196  0.25470695  0.28220542  0.25965941  0.25406812  0.27776441\n",
      "  0.278617    0.25616964  0.25859332  0.25901406  0.28981025  0.26211252\n",
      "  0.28387137  0.26625829  0.26455238  0.25869092  0.27457259  0.25518711\n",
      "  0.2578693   0.31164296  0.28572848  0.2615959   0.25291156  0.25589956\n",
      "  0.25597485  0.25326229  0.33546905  0.27096988  0.30180965  0.26066089\n",
      "  0.26048368  0.25769014  0.26411876  0.27157817  0.33179927         nan]\n",
      "[ 0.81014891  1.00157247  0.36797615 ...,  2.89166701  1.61477641\n",
      "         nan]\n",
      "[ 0.21754986 -0.60441091 -0.15962606 ...,  0.26717606  0.41630665\n",
      "         nan]\n",
      "[-0.14613731 -0.10316155 -0.08699755 ..., -0.00909688 -0.0335493\n",
      "         nan]\n",
      "[ -3.01909614e-01   4.94228176e-01   1.24060735e+00  -7.99495733e-01\n",
      "  -4.51185450e-01   1.14109013e+00   1.68843486e+00   3.44952340e-01\n",
      "   1.19084874e+00   9.91814295e-01   9.42055683e-01  -3.51668226e-01\n",
      "   4.64006688e-02  -1.34684046e+00   7.43021235e-01   3.38022766e+00\n",
      "  -1.39659908e+00  -9.48771569e-01  -8.99012957e-01   2.45435116e-01\n",
      "   6.93262623e-01  -2.52151003e-01  -1.19756463e+00  -4.01426838e-01\n",
      "  -1.24732324e+00   2.28553820e+00  -3.35794313e-03  -1.29708185e+00\n",
      "   1.95676504e-01   2.78312432e+00   1.43964180e+00  -6.99978510e-01\n",
      "  -1.14780602e+00  -1.02875167e-01   1.34012458e+00  -1.04828879e+00\n",
      "  -8.49254345e-01   1.53915903e+00   1.45917893e-01  -1.09804740e+00\n",
      "   1.04157291e+00  -5.50702674e-01  -2.02392391e-01   1.29036597e+00\n",
      "   1.09133152e+00  -6.00461286e-01   6.43504011e-01  -5.31165550e-02\n",
      "   5.43986788e-01   1.63867625e+00   1.88746931e+00   5.93745399e-01\n",
      "   3.47974489e+00  -1.52633779e-01   2.33529682e+00   1.58891764e+00\n",
      "   2.23577959e+00  -6.50219898e-01   2.18602098e+00   9.61592806e-02\n",
      "  -5.00944062e-01   3.23095183e+00   8.42538459e-01   2.95193728e-01\n",
      "   3.94710952e-01  -7.49737121e-01   2.53433126e+00   2.73336571e+00\n",
      "   1.98698653e+00   1.78795208e+00   1.73819347e+00  -9.98530181e-01\n",
      "   8.92297071e-01   1.38988319e+00  -1.49611630e+00   1.48940041e+00\n",
      "   2.63384849e+00   1.83771070e+00   2.03674514e+00   7.92779847e-01\n",
      "   2.83288293e+00   4.44469564e-01   2.58408987e+00   2.98215877e+00\n",
      "   2.48457265e+00   2.13626237e+00   2.38505543e+00   3.33046905e+00\n",
      "   2.88264155e+00   1.93722792e+00  -1.44635769e+00   2.68360710e+00\n",
      "   3.13143461e+00   3.28071044e+00   2.08650376e+00   2.43481404e+00\n",
      "   3.18119322e+00   3.42998628e+00   2.93240016e+00   3.03191738e+00\n",
      "   3.08167599e+00              nan]\n",
      "[-0.00206543 -0.06624749 -0.45518221 ..., -0.51509495  0.03322758\n",
      "         nan]\n",
      "[ -5.66842455e-02   5.33126681e-02   5.12711542e-01  -3.80204580e-01\n",
      "  -1.08447499e-01  -5.54905560e-01   1.37974604e+00  -6.71372880e-01\n",
      "  -2.76678073e-01   3.44480969e-01   2.79776902e-01  -7.81369794e-01\n",
      "  -5.41964747e-01  -5.93728000e-01  -2.57266853e-01   2.99188122e-01\n",
      "  -1.08547891e+00  -6.00198407e-01  -2.31385226e-01  -4.25497426e-01\n",
      "   1.18563384e+00   2.40954462e-01   1.43898362e-01   1.44902280e-02\n",
      "  -7.36076947e-01   6.35649269e-01  -7.03724914e-01   7.19764556e-01\n",
      "   6.16238049e-01  -1.04018606e+00  -5.35494340e-01  -2.96089293e-01\n",
      "   4.68422614e-02   2.08502037e+00   5.38593169e-01   2.02132022e-01\n",
      "  -3.86674986e-01   1.24487142e-01  -1.53740346e-01   1.51562458e+00\n",
      "   1.18016735e-01  -3.41382139e-01   1.05075922e-01  -4.64319866e-01\n",
      "  -5.03142306e-01  -4.83731086e-01  -1.86092379e-01  -3.28441326e-01\n",
      "  -5.61375967e-01  -2.37855633e-01  -4.70790273e-01  -2.70207666e-01\n",
      "   2.21543242e-01  -4.90201493e-01  -7.74899387e-01  -1.05959728e+00\n",
      "  -3.99615800e-01  -2.18444413e-01  -8.00781014e-01   7.27238881e-02\n",
      "  -8.59014674e-01  -9.23718741e-01   1.11546328e-01  -3.73734173e-01\n",
      "  -6.97254507e-01  -7.55488167e-01   1.48327254e+00  -4.57849460e-01\n",
      "  -7.42547354e-01  -2.05503599e-01  -8.13721827e-01   1.76150003e+00\n",
      "   2.08602428e-01  -1.13913987e-02   1.34092360e+00   9.86055148e-02\n",
      "  -3.34911733e-01   2.40854070e+00   4.03718547e-02   4.15655442e-01\n",
      "  -3.09030106e-01   9.65640010e-01  -9.55066856e-02   8.62113503e-01\n",
      "  -6.39020847e-01  -7.49017760e-01   1.56839175e-01  -1.12430135e+00\n",
      "  -1.09194931e+00  -9.75481994e-01  -2.83148479e-01  -7.87840200e-01\n",
      "  -3.54322953e-01   6.62534814e-02  -4.06086206e-01  -1.79621972e-01\n",
      "  -4.37434321e-02  -7.61958574e-01  -1.00136362e+00  -9.17248334e-01\n",
      "  -5.87257593e-01  -5.67846373e-01  -9.04307521e-01   1.25033790e+00\n",
      "  -7.94310607e-01   2.15619484e+00   2.07207955e+00   8.42702283e-01\n",
      "  -3.72730255e-02   4.21378416e+00  -4.38438240e-01   2.24678053e+00\n",
      "   1.45092051e+00  -4.77260680e-01   1.69779988e-01  -6.19609627e-01\n",
      "   1.69032556e+00   2.15072835e-01  -8.26662641e-01   2.28013648e-01\n",
      "  -5.09612713e-01   1.54941462e-03   3.05658529e-01   1.43797970e+00\n",
      "  -2.43322121e-02  -1.14371257e+00  -6.13139220e-01  -8.07251420e-01\n",
      "   2.47424868e-01  -3.47852546e-01  -3.93145393e-01   1.28916034e+00\n",
      "   2.88088039e+00   2.74310413e-02  -5.22553527e-01   6.93882929e-01\n",
      "   7.52116590e-01  -5.48435153e-01  -9.36659554e-01  -5.16083120e-01\n",
      "  -6.84313694e-01   2.57677127e+00  -3.02559699e-01   3.89773815e-01\n",
      "   1.13387058e+00  -5.29023933e-01  -4.44908646e-01  -3.60793360e-01\n",
      "   5.70945203e-01  -1.73151566e-01  -1.09841972e+00   7.58586996e-01\n",
      "  -6.64902473e-01   5.25652356e-01  -4.92099206e-03   2.97793649e+00\n",
      "   7.06823743e-01   2.34484055e-01  -6.06668813e-01   1.66444393e+00\n",
      "   3.38010562e-01  -6.31546522e-02  -1.02724525e+00   7.39175776e-01\n",
      "  -1.06606769e+00  -8.91366707e-01   7.45646183e-01   4.99023297e+00\n",
      "   4.86829916e-01   3.76833002e-01   4.48007476e-01  -1.34329126e-01\n",
      "  -1.21388312e-01  -9.30189147e-01   1.56738783e+00  -3.21970919e-01\n",
      "   9.85051230e-01   6.29178863e-01  -2.89618886e-01  -9.88422808e-01\n",
      "   2.92717715e-01  -1.99033192e-01   6.05137966e+00  -7.23136134e-01\n",
      "   1.82720802e-01  -7.29606540e-01  -1.11136053e+00   1.09504814e+00\n",
      "   1.19210424e+00   2.70617941e+00  -6.77843287e-01   4.54477882e-01\n",
      "  -1.10489013e+00  -2.50796446e-01  -4.19027020e-01  -1.01977092e-01\n",
      "   3.12128935e-01  -1.04665647e+00   4.73889102e-01   1.01740326e+00\n",
      "  -4.12556613e-01  -5.02138388e-02  -6.96250589e-02   1.62562149e+00\n",
      "   1.36680522e+00  -3.67263766e-01  -5.80787187e-01   8.16820656e-01\n",
      "  -9.81952401e-01   1.35386441e+00  -6.32550440e-01   3.25069749e-01\n",
      "  -1.14917906e-01  -9.43129961e-01  -6.26080033e-01  -2.24914819e-01\n",
      "  -8.33133047e-01   2.42795192e+00  -2.11974006e-01   4.22125849e-01\n",
      "  -8.25658722e-02   1.27621953e+00   1.37427955e-01   9.21351082e-02\n",
      "   5.58004389e-01  -2.44326039e-01   9.13876757e-01  -7.16665727e-01\n",
      "   7.26234963e-01  -4.31967833e-01  -1.02077484e+00  -7.60954655e-02\n",
      "   7.32705370e-01  -4.51379053e-01   1.10151855e+00  -5.74316780e-01\n",
      "   6.87412523e-01   8.56647015e-02  -1.66681159e-01  -9.62541181e-01\n",
      "  -8.84896301e-01   2.35677745e+00  -1.07900850e+00   1.70973678e+00\n",
      "   1.48974295e+00   2.09149077e+00  -9.49600367e-01   1.46386132e+00\n",
      "   3.23675276e+00  -1.27858719e-01   5.64474796e-01  -1.78618054e-02\n",
      "   2.53895275e-01   1.89191208e-01   5.51533982e-01   3.23028235e+00\n",
      "  -1.00783403e+00   1.05622570e+00   4.53730450e+00   2.35030704e+00\n",
      "   1.72267759e+00   2.36971826e+00   1.08857774e+00   1.15328180e+00\n",
      "  -9.10777927e-01  -1.13724216e+00  -2.63737259e-01  -9.56070774e-01\n",
      "   2.03325711e+00  -1.60210752e-01   2.66836089e-01   3.50951375e-01\n",
      "   1.32151238e+00   3.54086187e+00  -8.71955487e-01   7.91942948e-02\n",
      "  -8.90362789e-02   4.99770729e-01  -1.01430443e+00   5.45063576e-01\n",
      "   3.85144139e+00  -3.08026188e-02   1.76250395e-01   5.19181949e-01\n",
      "   1.23739709e+00   3.83303409e-01   1.10798896e+00   2.90029161e+00\n",
      "  -1.47269939e-01   5.83886016e-01   1.77444085e+00   1.15975221e+00\n",
      "  -8.78425894e-01  -6.90784100e-01   7.71527810e-01  -9.69011587e-01\n",
      "   1.95661615e-01  -8.65485081e-01   2.73853144e+00   1.50268376e+00\n",
      "   8.68583910e-01   1.59973986e+00   8.01982130e-03   4.41537069e-01\n",
      "   1.32798278e+00   1.50368768e-01  -1.03371565e+00   7.84468623e-01\n",
      "   1.30957548e-01  -1.07253809e+00   3.63892189e-01   6.61530896e-01\n",
      "   1.21151546e+00  -1.40799532e-01   7.65057403e-01   3.70362595e-01\n",
      "   6.22708456e-01   3.19793031e+00   6.09767643e-01  -3.15500513e-01\n",
      "   8.03879843e-01   1.49621336e+00   9.97992043e-01  -8.39603454e-01\n",
      "  -1.92562786e-01   1.41856848e+00  -1.13077175e+00   5.06241136e-01\n",
      "   1.23092668e+00   9.91521637e-01  -9.94893214e-01   2.47324477e+00\n",
      "   3.57421782e-01  -6.45491253e-01   2.39559989e+00   1.40562766e+00\n",
      "  -1.15018297e+00  -7.10195320e-01   4.28596256e-01   1.28268994e+00\n",
      "   1.06269611e+00   3.30792723e+00   2.73306495e-01   2.09606347e-02\n",
      "   9.26817570e-01   1.81973369e+00  -7.68428980e-01  -8.46073861e-01\n",
      "   5.77415609e-01   1.17269302e+00  -8.20192234e-01   1.16622262e+00\n",
      "   1.54797661e+00   1.53503580e+00  -4.96671900e-01   1.08210733e+00\n",
      "   4.09185036e-01   9.46228790e-01   1.01093286e+00  -6.58432067e-01\n",
      "   4.67418696e-01   1.63309582e-01   5.72785933e+00   2.03972752e+00\n",
      "   1.29563075e+00   9.20347163e-01   2.25325094e+00   5.32122762e-01\n",
      "   4.54377490e+00   1.92326020e+00   1.47033173e+00   6.48590083e-01\n",
      "   2.06560915e+00   1.12740018e+00  -6.51961660e-01   2.11737240e+00\n",
      "   5.96826829e-01   1.42503888e+00   1.26327872e+00   4.89317687e+00\n",
      "   5.97830747e-02   6.68001303e-01   3.18599342e-01   4.93300322e-01\n",
      "  -1.05312687e+00   5.90356423e-01   1.33445319e+00   1.60621027e+00\n",
      "  -8.97837114e-01   1.44445010e+00   3.22381194e+00   5.24904923e+00\n",
      "   4.35066662e-01   1.68385515e+00   6.74471709e-01   1.21798587e+00\n",
      "   4.02714629e-01   2.60365682e-01   1.07563692e+00   1.19857465e+00\n",
      "   1.14681140e+00   2.34383663e+00   1.80679288e+00   1.25680831e+00\n",
      "   1.63209190e+00   2.36324785e+00   1.64503271e+00   3.13322625e+00\n",
      "   2.00090508e+00   2.75147225e+00  -8.52544267e-01   1.12092977e+00\n",
      "   2.00737549e+00   2.12384281e+00   1.90384898e+00   5.21022679e+00\n",
      "   3.09440381e+00   2.01384589e+00   1.45739092e+00   9.00935943e-01\n",
      "   4.80359509e-01   1.34739400e+00   1.03034408e+00   2.58324168e+00\n",
      "   2.19501728e+00   2.38265907e+00   1.39268685e+00   1.76797044e+00\n",
      "   2.14325403e+00   7.97409436e-01   2.17560606e+00   2.27266216e+00\n",
      "   2.21442850e+00   3.31540155e-01   6.55060489e-01   2.77735388e+00\n",
      "   2.80970591e+00   6.40078162e+00   2.91323242e+00   3.43086496e+00\n",
      "   3.34674967e+00   2.77088347e+00   2.13678362e+00   1.91678979e+00\n",
      "   2.07854996e+00   2.71912022e+00   2.80323551e+00   4.60948289e-01\n",
      "  -1.11783094e+00   1.36033482e+00   9.72110417e-01   2.98440689e+00\n",
      "   6.03297236e-01   8.29761470e-01   1.47680214e+00   2.64147534e+00\n",
      "   3.18498950e+00   4.18790254e+00   8.23291063e-01   1.85208573e+00\n",
      "   1.26974912e+00   1.91031939e+00   3.39014480e-02   1.54150620e+00\n",
      "   3.96244222e-01   9.33287977e-01   7.13294150e-01   3.90320464e+00\n",
      "   1.22445628e+00   2.05266833e+00   8.87995130e-01   2.86247309e-01\n",
      "   1.06916652e+00   1.56091742e+00   2.16913565e+00   1.37327563e+00\n",
      "   1.92973061e+00   1.81326329e+00   2.93911405e+00   4.07790562e+00\n",
      "   1.74855922e+00   6.80942116e-01   1.59326946e+00   1.61915108e+00\n",
      "   6.20019901e+00   1.02387367e+00   9.52699197e-01   1.98149386e+00\n",
      "   1.50915417e+00   2.54441924e+00   3.01028852e+00   1.65797352e+00\n",
      "   1.14034099e+00   1.73561841e+00   8.36231876e-01   3.17851909e+00\n",
      "   1.79385207e+00   3.97437912e+00   1.52856539e+00   3.81261895e+00\n",
      "   1.55444702e+00   2.41501111e+00   3.24969357e+00   4.14908010e+00\n",
      "   1.11445936e+00   2.14972443e+00   1.03681448e+00   1.89090817e+00\n",
      "   3.24322316e+00   9.07406350e-01   1.96208264e+00   2.51206721e+00\n",
      "   2.31148460e+00   6.42119676e-01   1.78091125e+00   3.30145682e+00\n",
      "   2.71264981e+00   1.31504197e+00   9.78580823e-01   2.02678671e+00\n",
      "   2.20148769e+00   1.30857156e+00   4.50495246e+00   6.84723968e+00\n",
      "   3.26910479e+00   7.77998216e-01   8.75054317e-01   1.89737857e+00\n",
      "   2.84205795e+00   8.94465537e-01   3.52145065e+00   1.58679905e+00\n",
      "   1.87149695e+00   1.71620719e+00   1.67091434e+00   2.72559063e+00\n",
      "   1.70326637e+00   8.81524723e-01   2.16266525e+00   3.57321390e+00\n",
      "   2.11090199e+00   1.82620410e+00   2.18207647e+00   2.44089273e+00\n",
      "   2.87440998e+00   1.94267142e+00   2.97146608e+00   3.33380886e+00\n",
      "   1.74208881e+00   8.55643096e-01   1.75502963e+00   2.67382737e+00\n",
      "   4.02614237e+00   1.39915726e+00   3.52792106e+00   2.90676201e+00\n",
      "   1.69679596e+00   4.95788093e+00   2.23383972e+00   3.80614854e+00\n",
      "   8.10350250e-01   2.22736931e+00   2.30501419e+00   5.66315526e+00\n",
      "   2.10443159e+00   3.28204560e+00   3.13969665e+00   2.28560297e+00\n",
      "   9.59169603e-01   5.52727672e+00   8.49172690e-01   2.13031321e+00\n",
      "   1.20504506e+00   1.67738474e+00   4.15555050e+00   4.35613311e+00\n",
      "   4.00673115e+00   2.92617323e+00   1.52209498e+00   2.57030087e+00\n",
      "   1.63856230e+00   2.05913874e+00   1.00446245e+00   3.02969974e+00\n",
      "   2.32442541e+00   2.22089891e+00   1.78738166e+00   3.32086804e+00\n",
      "   2.62853453e+00   1.95561223e+00   2.99734771e+00   2.51853761e+00\n",
      "   1.61268068e+00   7.00353336e-01   1.57385824e+00   1.98796427e+00\n",
      "   1.41209807e+00   4.43377799e+00   4.80259117e+00   2.85499876e+00\n",
      "   3.16557828e+00   3.21734153e+00   4.47907084e+00   3.15910787e+00\n",
      "   2.50559680e+00   4.58906775e+00   3.02322933e+00   2.38912948e+00\n",
      "   1.17916343e+00   3.94849749e+00   3.12028543e+00   2.26619175e+00\n",
      "   2.31795501e+00   1.97502345e+00   4.44024840e+00   3.14616706e+00\n",
      "   3.41792414e+00   2.84852835e+00   1.04975530e+00   2.95205486e+00\n",
      "   2.29854379e+00   3.87085261e+00   2.46030395e+00   4.62789019e+00\n",
      "   3.70909244e+00   2.25972135e+00   2.62206412e+00   2.46677436e+00\n",
      "   4.27848823e+00   2.00856918e+01   7.90939030e-01   1.04328489e+00\n",
      "   5.84432665e+00   3.28851601e+00   2.74500185e+00   2.53147843e+00\n",
      "   6.33607756e+00   2.68676819e+00   3.01675893e+00              nan]\n",
      "[ 0.90098844  1.20703136  1.81911721 -0.01714034  1.51307429 -0.62922619\n",
      " -1.54735497 -0.32318327 -0.93526912  0.28890258  0.59494551  3.34933184\n",
      " -1.24131204  2.73724599  2.43120306  2.12516014  3.04328891  3.65537477\n",
      "  4.87954647  3.96141769  4.26746062  4.57350354         nan]\n",
      "[-0.10244609  0.06126667 -0.024632   ...,  1.61463421  1.49215764\n",
      "         nan]\n",
      "[-0.2997209   0.46692924 -0.65585445 ..., -1.23987564  0.20217961\n",
      "         nan]\n"
     ]
    }
   ],
   "source": [
    "# check for unique values in all columns\n",
    "col = su_norm.columns\n",
    "for i in col:\n",
    "    print su_norm[i].unique()"
   ]
  },
  {
   "cell_type": "code",
   "execution_count": 16,
   "metadata": {
    "collapsed": false
   },
   "outputs": [],
   "source": [
    "#drop null values\n",
    "su_norm.dropna(inplace = True)"
   ]
  },
  {
   "cell_type": "code",
   "execution_count": 17,
   "metadata": {
    "collapsed": false
   },
   "outputs": [],
   "source": [
    "# back to \"dummy\" code format of int\n",
    "su_norm[[\"hasDomainLink\",\"lengthyLinkDomain\",\"label\"]] = su_norm[[\"hasDomainLink\",\"lengthyLinkDomain\",\"label\"]].astype(int)"
   ]
  },
  {
   "cell_type": "code",
   "execution_count": 18,
   "metadata": {
    "collapsed": false
   },
   "outputs": [
    {
     "data": {
      "text/plain": [
       "hasDomainLink                       int64\n",
       "lengthyLinkDomain                   int64\n",
       "label                               int64\n",
       "alchemy_category_score            float64\n",
       "avglinksize                       float64\n",
       "commonlinkratio_1                 float64\n",
       "commonlinkratio_2                 float64\n",
       "commonlinkratio_3                 float64\n",
       "commonlinkratio_4                 float64\n",
       "compression_ratio                 float64\n",
       "embed_ratio                       float64\n",
       "frameTagRatio                     float64\n",
       "html_ratio                        float64\n",
       "image_ratio                       float64\n",
       "linkwordscore                     float64\n",
       "non_markup_alphanum_characters    float64\n",
       "numberOfLinks                     float64\n",
       "numwords_in_url                   float64\n",
       "parametrizedLinkRatio             float64\n",
       "spelling_errors_ratio             float64\n",
       "dtype: object"
      ]
     },
     "execution_count": 18,
     "metadata": {},
     "output_type": "execute_result"
    }
   ],
   "source": [
    "su_norm.dtypes"
   ]
  },
  {
   "cell_type": "code",
   "execution_count": 19,
   "metadata": {
    "collapsed": true
   },
   "outputs": [],
   "source": [
    "#forgot to add alchemy_category to su_norm data frame\n",
    "\n",
    "su_norm[\"alchemy_category\"] = su[\"alchemy_category\"]"
   ]
  },
  {
   "cell_type": "markdown",
   "metadata": {},
   "source": [
    "### 3.1 Run a logistic regression predicting evergreen from the numeric columns\n",
    "\n",
    "And print out the results as shown in the example above.\n",
    "\n",
    "---"
   ]
  },
  {
   "cell_type": "markdown",
   "metadata": {},
   "source": [
    "### 3.2 Run a logistic regression predicting evergreen from the numeric columns and a categorical variable of alchemy_category\n",
    "\n",
    "And print out the results as shown in the example.\n",
    "\n",
    "---"
   ]
  },
  {
   "cell_type": "code",
   "execution_count": 20,
   "metadata": {
    "collapsed": false
   },
   "outputs": [],
   "source": [
    "from sklearn.linear_model import LogisticRegression\n",
    "from sklearn.cross_validation import train_test_split\n"
   ]
  },
  {
   "cell_type": "code",
   "execution_count": 21,
   "metadata": {
    "collapsed": false
   },
   "outputs": [],
   "source": [
    "#to cross_validate you SKlearn\n",
    "\n",
    "import patsy\n",
    "\n",
    "from patsy import dmatrices\n",
    "\n",
    "# create Patsy formula and matrices\n",
    "\n",
    "formula7 = \"\"\"label ~ alchemy_category_score +  avglinksize + commonlinkratio_1 +\n",
    "       commonlinkratio_2 + commonlinkratio_3 + commonlinkratio_4 +\n",
    "       compression_ratio + embed_ratio + frameTagRatio +\n",
    "       hasDomainLink + html_ratio + image_ratio +\n",
    "       lengthyLinkDomain + linkwordscore +\n",
    "       non_markup_alphanum_characters + numberOfLinks + numwords_in_url +\n",
    "       parametrizedLinkRatio + spelling_errors_ratio + C(alchemy_category) -1\n",
    "       \"\"\"\n",
    "\n",
    "\n",
    "Y7, X7 = patsy.dmatrices(formula7, data = su_norm, return_type='dataframe')"
   ]
  },
  {
   "cell_type": "code",
   "execution_count": 22,
   "metadata": {
    "collapsed": false
   },
   "outputs": [],
   "source": [
    "lg7 = LogisticRegression()"
   ]
  },
  {
   "cell_type": "code",
   "execution_count": 23,
   "metadata": {
    "collapsed": false
   },
   "outputs": [],
   "source": [
    "X7_train, X7_test, Y7_train, Y7_test = train_test_split(X7, Y7, test_size=0.33)"
   ]
  },
  {
   "cell_type": "code",
   "execution_count": 24,
   "metadata": {
    "collapsed": false
   },
   "outputs": [
    {
     "name": "stderr",
     "output_type": "stream",
     "text": [
      "/Users/ltdanp21/anaconda/lib/python2.7/site-packages/sklearn/utils/validation.py:515: DataConversionWarning: A column-vector y was passed when a 1d array was expected. Please change the shape of y to (n_samples, ), for example using ravel().\n",
      "  y = column_or_1d(y, warn=True)\n"
     ]
    },
    {
     "data": {
      "text/plain": [
       "LogisticRegression(C=1.0, class_weight=None, dual=False, fit_intercept=True,\n",
       "          intercept_scaling=1, max_iter=100, multi_class='ovr', n_jobs=1,\n",
       "          penalty='l2', random_state=None, solver='liblinear', tol=0.0001,\n",
       "          verbose=0, warm_start=False)"
      ]
     },
     "execution_count": 24,
     "metadata": {},
     "output_type": "execute_result"
    }
   ],
   "source": [
    "lg7.fit(X7_train, Y7_train)"
   ]
  },
  {
   "cell_type": "code",
   "execution_count": 25,
   "metadata": {
    "collapsed": false
   },
   "outputs": [
    {
     "data": {
      "text/plain": [
       "array([ 1.,  1.,  0., ...,  0.,  0.,  0.])"
      ]
     },
     "execution_count": 25,
     "metadata": {},
     "output_type": "execute_result"
    }
   ],
   "source": [
    "lg7.predict(X7_test)"
   ]
  },
  {
   "cell_type": "code",
   "execution_count": 26,
   "metadata": {
    "collapsed": false
   },
   "outputs": [
    {
     "data": {
      "text/plain": [
       "0.6502636203866432"
      ]
     },
     "execution_count": 26,
     "metadata": {},
     "output_type": "execute_result"
    }
   ],
   "source": [
    "lg7.score(X7_test,Y7_test)"
   ]
  },
  {
   "cell_type": "code",
   "execution_count": 27,
   "metadata": {
    "collapsed": false,
    "scrolled": false
   },
   "outputs": [
    {
     "name": "stderr",
     "output_type": "stream",
     "text": [
      "/Users/ltdanp21/anaconda/lib/python2.7/site-packages/ipykernel/__main__.py:3: FutureWarning: sort(columns=....) is deprecated, use sort_values(by=.....)\n",
      "  app.launch_new_instance()\n"
     ]
    },
    {
     "data": {
      "text/plain": [
       "<matplotlib.axes._subplots.AxesSubplot at 0x1195c9790>"
      ]
     },
     "execution_count": 27,
     "metadata": {},
     "output_type": "execute_result"
    },
    {
     "data": {
      "image/png": "[encoded data removed]",
      "text/plain": [
       "<matplotlib.figure.Figure at 0x119577d50>"
      ]
     },
     "metadata": {},
     "output_type": "display_data"
    }
   ],
   "source": [
    "# Create Dataframe with Features tied to their Coefs\n",
    "coef_df = pd.DataFrame(zip(X7.columns, lg7.coef_[0]), columns=['feature', 'coef'])\n",
    "coef_df = coef_df.sort('coef')\n",
    "coef_df.plot('feature', 'coef', kind='bar')"
   ]
  },
  {
   "cell_type": "code",
   "execution_count": 28,
   "metadata": {
    "collapsed": false
   },
   "outputs": [
    {
     "name": "stdout",
     "output_type": "stream",
     "text": [
      "[[-0.3541533   1.14506601 -0.90827852 -0.07464794  0.15159746  0.61358005\n",
      "  -0.11194055  0.90470065 -0.34386374  0.04465987 -1.12704387  0.43994447\n",
      "  -0.62156398 -0.03992681  0.25426884 -0.06377514 -0.02431744  0.14349762\n",
      "  -0.11180246 -0.04395149 -0.04177845 -0.04884079 -0.09633521  0.09517176\n",
      "  -0.00754431  0.1027142   0.05361096  0.08663682 -0.04253589 -0.00447264\n",
      "  -0.05588765  0.01862767]]\n"
     ]
    }
   ],
   "source": [
    "coef = lg7.coef_\n",
    "print coef\n"
   ]
  },
  {
   "cell_type": "markdown",
   "metadata": {},
   "source": [
    "## 4. Use sklearn to cross-validate the accuracy of the model above\n",
    "\n",
    "Normalize the numeric and categorical columns of the predictor matrix.\n",
    "\n",
    "---"
   ]
  },
  {
   "cell_type": "code",
   "execution_count": 29,
   "metadata": {
    "collapsed": false
   },
   "outputs": [],
   "source": [
    "\n",
    "\n",
    "#1import below modules\n",
    "from sklearn.cross_validation import cross_val_score\n",
    "from sklearn.linear_model import LogisticRegression\n",
    "\n",
    "#2import patsy and create formula/matrices-see above\n",
    "\n",
    "#3instantiatee LR sckikit learn model object\n",
    "lr = LogisticRegression()\n",
    "\n",
    "# make Y column one dimensional array so cross_validate can run.\n",
    "y7 = np.ravel(Y7)\n",
    "\n",
    "#4cross_validate score\n",
    "scores = cross_val_score(lr, X7, y7, cv=5)"
   ]
  },
  {
   "cell_type": "code",
   "execution_count": 30,
   "metadata": {
    "collapsed": false
   },
   "outputs": [
    {
     "name": "stdout",
     "output_type": "stream",
     "text": [
      "[ 0.63913043  0.67971014  0.63623188  0.64150943  0.66763425]\n",
      "0.652843230054\n",
      "0.514211136891\n"
     ]
    }
   ],
   "source": [
    "# 5 my model scores\n",
    "print scores\n",
    "#mean score of my model\n",
    "print np.mean(scores)\n",
    "#baseline of how well you model is doing soley based on accuracy; essentially 50/50 guessing\n",
    "print np.mean(y7)\n",
    "\n",
    "\n"
   ]
  },
  {
   "cell_type": "code",
   "execution_count": 31,
   "metadata": {
    "collapsed": false
   },
   "outputs": [],
   "source": [
    "#how do I print coefficients of the best model?"
   ]
  },
  {
   "cell_type": "markdown",
   "metadata": {},
   "source": [
    "## 5. Gridsearch regularization parameters for logistic regression\n",
    "\n",
    "Find the best regularization type (Ridge, Lasso) across a set of regularization strengths.\n",
    "\n",
    "[NOTE: C is the inverse of the regularization strength. Lower C values are stronger regularization. Having a C higher than 1 will significantly slow down the search. I'm not particularly interested in values over 1, since this is the default regularization strength in LogisticRegression.]\n",
    "\n",
    "**After you find the best set of parameters, build a Logistic Regression with those parameters and crossvalidate the score.**\n",
    "\n",
    "[NOTE 2: to run Lasso regularization the solver should be `'liblinear'`]\n",
    "\n",
    "---"
   ]
  },
  {
   "cell_type": "code",
   "execution_count": 48,
   "metadata": {
    "collapsed": false
   },
   "outputs": [],
   "source": [
    "import pandas as pd, numpy as np\n",
    "from patsy import dmatrices, dmatrix\n",
    "\n",
    "from sklearn import linear_model \n",
    "from sklearn.grid_search import GridSearchCV\n",
    "from sklearn.cross_validation import train_test_split\n",
    "from sklearn.metrics import classification_report"
   ]
  },
  {
   "cell_type": "code",
   "execution_count": 49,
   "metadata": {
    "collapsed": true
   },
   "outputs": [],
   "source": [
    "formula4 = \"\"\"label ~ alchemy_category_score +  avglinksize + commonlinkratio_1 +\n",
    "       commonlinkratio_2 + commonlinkratio_3 + commonlinkratio_4 +\n",
    "       compression_ratio + embed_ratio + frameTagRatio +\n",
    "       hasDomainLink + html_ratio + image_ratio +\n",
    "       lengthyLinkDomain + linkwordscore +\n",
    "       non_markup_alphanum_characters + numberOfLinks + numwords_in_url +\n",
    "       parametrizedLinkRatio + spelling_errors_ratio + C(alchemy_category) -1\n",
    "       \"\"\"\n",
    "\n",
    "\n",
    "Y2, X2 = patsy.dmatrices(formula4, data = su_norm)"
   ]
  },
  {
   "cell_type": "code",
   "execution_count": 50,
   "metadata": {
    "collapsed": true
   },
   "outputs": [],
   "source": [
    "logistic = linear_model.LogisticRegression()"
   ]
  },
  {
   "cell_type": "code",
   "execution_count": 51,
   "metadata": {
    "collapsed": false
   },
   "outputs": [
    {
     "name": "stdout",
     "output_type": "stream",
     "text": [
      "100000.0\n",
      "0.1\n"
     ]
    }
   ],
   "source": [
    "print max(np.logspace(0.0, 5.0, 20))\n",
    "print min(np.logspace(-1.0, 5.0, 20))"
   ]
  },
  {
   "cell_type": "code",
   "execution_count": 52,
   "metadata": {
    "collapsed": false
   },
   "outputs": [
    {
     "data": {
      "text/plain": [
       "640"
      ]
     },
     "execution_count": 52,
     "metadata": {},
     "output_type": "execute_result"
    }
   ],
   "source": [
    "20 * 2 * 2* 2 * 2* 2"
   ]
  },
  {
   "cell_type": "code",
   "execution_count": 53,
   "metadata": {
    "collapsed": true
   },
   "outputs": [],
   "source": [
    "logistic = linear_model.LogisticRegression()"
   ]
  },
  {
   "cell_type": "code",
   "execution_count": 54,
   "metadata": {
    "collapsed": true
   },
   "outputs": [],
   "source": [
    "Cs = np.logspace(0.0, 5.0, 20)\n",
    "# Cs = [.1, .5, 1, 1.2]\n",
    "\n",
    "search_parameters = {\n",
    "    \"penalty\":             ['l1','l2'],   \n",
    "    \"C\":                   Cs,  \n",
    "    \"fit_intercept\":       [False, True], \n",
    "    \"class_weight\":        [None, \"balanced\"], \n",
    "    \"intercept_scaling\":   [2, 1],        \n",
    "    \"warm_start\":          [False, True]\n",
    "}\n",
    "\n",
    "gs1 = GridSearchCV(logistic, search_parameters)"
   ]
  },
  {
   "cell_type": "code",
   "execution_count": 62,
   "metadata": {
    "collapsed": false
   },
   "outputs": [
    {
     "data": {
      "text/plain": [
       "GridSearchCV(cv=None, error_score='raise',\n",
       "       estimator=LogisticRegression(C=1.0, class_weight=None, dual=False, fit_intercept=True,\n",
       "          intercept_scaling=1, max_iter=100, multi_class='ovr', n_jobs=1,\n",
       "          penalty='l2', random_state=None, solver='liblinear', tol=0.0001,\n",
       "          verbose=0, warm_start=False),\n",
       "       fit_params={}, iid=True, n_jobs=1,\n",
       "       param_grid={'warm_start': [False, True], 'C': array([  1.00000e+00,   1.83298e+00,   3.35982e+00,   6.15848e+00,\n",
       "         1.12884e+01,   2.06914e+01,   3.79269e+01,   6.95193e+01,\n",
       "         1.27427e+02,   2.33572e+02,   4.28133e+02,   7.84760e+02,\n",
       "         1.43845e+03,   2.63665e+03,   4.83293e+03,  ...[2, 1], 'fit_intercept': [False, True], 'penalty': ['l1', 'l2'], 'class_weight': [None, 'balanced']},\n",
       "       pre_dispatch='2*n_jobs', refit=True, scoring=None, verbose=0)"
      ]
     },
     "execution_count": 62,
     "metadata": {},
     "output_type": "execute_result"
    }
   ],
   "source": [
    "y2 = np.ravel(Y2)\n",
    "gs1.fit(X2, y2)"
   ]
  },
  {
   "cell_type": "code",
   "execution_count": 72,
   "metadata": {
    "collapsed": false
   },
   "outputs": [
    {
     "name": "stdout",
     "output_type": "stream",
     "text": [
      " Best C / Regularization Param: 1.0\n",
      "Best Params: {'warm_start': False, 'C': 1.0, 'intercept_scaling': 2, 'fit_intercept': False, 'penalty': 'l2', 'class_weight': None}\n",
      "Best Score: 0.651972157773\n"
     ]
    }
   ],
   "source": [
    "\n",
    "print \"Best C / Regularization Param:\", gs1.best_estimator_.C # This estimator.best_estimator_ object has many great reporting metrics\n",
    "print \"Best Params:\", gs1.best_params_\n",
    "print \"Best Score:\", gs1.best_score_\n"
   ]
  },
  {
   "cell_type": "code",
   "execution_count": 82,
   "metadata": {
    "collapsed": false
   },
   "outputs": [],
   "source": [
    " a = linear_model.LogisticRegression(warm_start = False, C= 1.0, \n",
    "                                     intercept_scaling = 2, \n",
    "                                     fit_intercept = False, \n",
    "                                     penalty = \"l2\", \n",
    "                                     class_weight= None)"
   ]
  },
  {
   "cell_type": "code",
   "execution_count": 83,
   "metadata": {
    "collapsed": true
   },
   "outputs": [],
   "source": [
    "from sklearn.cross_validation import cross_val_score"
   ]
  },
  {
   "cell_type": "code",
   "execution_count": 85,
   "metadata": {
    "collapsed": false
   },
   "outputs": [],
   "source": [
    "scores2 = cross_val_score(a, X2, y2, cv=5)"
   ]
  },
  {
   "cell_type": "code",
   "execution_count": 86,
   "metadata": {
    "collapsed": false
   },
   "outputs": [
    {
     "name": "stdout",
     "output_type": "stream",
     "text": [
      "[ 0.64347826  0.67681159  0.63478261  0.64150943  0.66618287]\n"
     ]
    }
   ],
   "source": [
    "print scores2"
   ]
  },
  {
   "cell_type": "markdown",
   "metadata": {},
   "source": [
    "# I learned too late how to pass data to grid seach, that is all of dataset should be passed.\n",
    "\n",
    "# I now understand that you train_test_split or cross_val_ your subsequent model to test the \"quality\" of your model.\n",
    "\n",
    "# Therefore the rest of the gridsearches below will be executed incorrectly.\n"
   ]
  },
  {
   "cell_type": "markdown",
   "metadata": {},
   "source": [
    "## 6. Gridsearch neighbors for kNN\n",
    "\n",
    "Find the best number of neighbors with your predictors to predict the `label` target variable.\n",
    "\n",
    "Start by bulding a kNN model with a set number of neighbors, then use gridsearch to run through a series of neighbors.\n",
    "\n",
    "---"
   ]
  },
  {
   "cell_type": "code",
   "execution_count": 54,
   "metadata": {
    "collapsed": true
   },
   "outputs": [],
   "source": [
    "# KNN MODEL WITH A SET NUMBER OF NEIGHBORS\n",
    "\n",
    "from sklearn.neighbors import KNeighborsClassifier\n",
    "\n",
    "\n",
    "# instantiate model object and set n_neighbors\n",
    "modelone = KNeighborsClassifier(n_neighbors=5)"
   ]
  },
  {
   "cell_type": "code",
   "execution_count": 55,
   "metadata": {
    "collapsed": true
   },
   "outputs": [],
   "source": [
    "import patsy\n",
    "\n",
    "from patsy import dmatrices\n",
    "\n",
    "\n",
    "\n",
    "formula5 = \"\"\"label ~ alchemy_category_score +  avglinksize + commonlinkratio_1 +\n",
    "       commonlinkratio_2 + commonlinkratio_3 + commonlinkratio_4 +\n",
    "       compression_ratio + embed_ratio + frameTagRatio +\n",
    "       hasDomainLink + html_ratio + image_ratio +\n",
    "       lengthyLinkDomain + linkwordscore +\n",
    "       non_markup_alphanum_characters + numberOfLinks + numwords_in_url +\n",
    "       parametrizedLinkRatio + spelling_errors_ratio + C(alchemy_category) -1\n",
    "       \"\"\"\n",
    "\n",
    "\n",
    "Y, X = patsy.dmatrices(formula5, data = su_norm)"
   ]
  },
  {
   "cell_type": "code",
   "execution_count": 56,
   "metadata": {
    "collapsed": false
   },
   "outputs": [],
   "source": [
    "from sklearn.cross_validation import train_test_split\n",
    "\n",
    "# splits data into test and train at the percentage you specify \n",
    "X_train, X_test, Y_train, Y_test = train_test_split(X, Y, test_size=0.30)"
   ]
  },
  {
   "cell_type": "code",
   "execution_count": 57,
   "metadata": {
    "collapsed": false
   },
   "outputs": [
    {
     "name": "stderr",
     "output_type": "stream",
     "text": [
      "/Users/ltdanp21/anaconda/lib/python2.7/site-packages/ipykernel/__main__.py:2: DataConversionWarning: A column-vector y was passed when a 1d array was expected. Please change the shape of y to (n_samples, ), for example using ravel().\n",
      "  from ipykernel import kernelapp as app\n"
     ]
    },
    {
     "data": {
      "text/plain": [
       "KNeighborsClassifier(algorithm='auto', leaf_size=30, metric='minkowski',\n",
       "           metric_params=None, n_jobs=1, n_neighbors=5, p=2,\n",
       "           weights='uniform')"
      ]
     },
     "execution_count": 57,
     "metadata": {},
     "output_type": "execute_result"
    }
   ],
   "source": [
    "#train and fit your the model\n",
    "modelone.fit(X_train,Y_train)"
   ]
  },
  {
   "cell_type": "code",
   "execution_count": 58,
   "metadata": {
    "collapsed": false
   },
   "outputs": [
    {
     "data": {
      "text/plain": [
       "array([ 1.,  1.,  0., ...,  1.,  1.,  0.])"
      ]
     },
     "execution_count": 58,
     "metadata": {},
     "output_type": "execute_result"
    }
   ],
   "source": [
    "# predict on X_Test\n",
    "modelone.predict(X_test)"
   ]
  },
  {
   "cell_type": "code",
   "execution_count": 59,
   "metadata": {
    "collapsed": false
   },
   "outputs": [
    {
     "data": {
      "text/plain": [
       "0.55555555555555558"
      ]
     },
     "execution_count": 59,
     "metadata": {},
     "output_type": "execute_result"
    }
   ],
   "source": [
    "#model score\n",
    "modelone.score(X_test,Y_test)"
   ]
  },
  {
   "cell_type": "code",
   "execution_count": 60,
   "metadata": {
    "collapsed": true
   },
   "outputs": [],
   "source": [
    "#grid search CV KNN"
   ]
  },
  {
   "cell_type": "code",
   "execution_count": 61,
   "metadata": {
    "collapsed": false
   },
   "outputs": [],
   "source": [
    "import numpy as np\n",
    "from sklearn.grid_search import GridSearchCV\n",
    "from sklearn.neighbors import KNeighborsClassifier\n",
    "from sklearn.metrics import classification_report\n"
   ]
  },
  {
   "cell_type": "code",
   "execution_count": 62,
   "metadata": {
    "collapsed": true
   },
   "outputs": [],
   "source": [
    "import patsy\n",
    "\n",
    "from patsy import dmatrices\n",
    "\n",
    "\n",
    "\n",
    "formula6 = \"\"\"label ~ alchemy_category_score +  avglinksize + commonlinkratio_1 +\n",
    "       commonlinkratio_2 + commonlinkratio_3 + commonlinkratio_4 +\n",
    "       compression_ratio + embed_ratio + frameTagRatio +\n",
    "       hasDomainLink + html_ratio + image_ratio +\n",
    "       lengthyLinkDomain + linkwordscore +\n",
    "       non_markup_alphanum_characters + numberOfLinks + numwords_in_url +\n",
    "       parametrizedLinkRatio + spelling_errors_ratio + C(alchemy_category) -1\n",
    "       \"\"\"\n",
    "\n",
    "\n",
    "Y6, X6 = patsy.dmatrices(formula6, data = su_norm)"
   ]
  },
  {
   "cell_type": "code",
   "execution_count": 63,
   "metadata": {
    "collapsed": true
   },
   "outputs": [],
   "source": [
    "search_parameters_knn = {\n",
    "    'n_neighbors':  [3,50], \n",
    "    'weights':      (\"uniform\", \"distance\"),\n",
    "    'algorithm':    (\"ball_tree\", \"kd_tree\", \"brute\", \"auto\"),\n",
    "    'p':            [1,2]\n",
    "}"
   ]
  },
  {
   "cell_type": "code",
   "execution_count": 64,
   "metadata": {
    "collapsed": false
   },
   "outputs": [],
   "source": [
    "from sklearn.cross_validation import train_test_split\n",
    "\n",
    "# splits data into test and train at the percentage you specify \n",
    "X6_train, X6_test, Y6_train, Y6_test = train_test_split(X6, Y6, test_size=0.30)"
   ]
  },
  {
   "cell_type": "code",
   "execution_count": 65,
   "metadata": {
    "collapsed": false
   },
   "outputs": [
    {
     "data": {
      "text/plain": [
       "GridSearchCV(cv=None, error_score='raise',\n",
       "       estimator=KNeighborsClassifier(algorithm='auto', leaf_size=30, metric='minkowski',\n",
       "           metric_params=None, n_jobs=1, n_neighbors=5, p=2,\n",
       "           weights='uniform'),\n",
       "       fit_params={}, iid=True, n_jobs=1,\n",
       "       param_grid={'n_neighbors': [3, 50], 'weights': ('uniform', 'distance'), 'algorithm': ('ball_tree', 'kd_tree', 'brute', 'auto'), 'p': [1, 2]},\n",
       "       pre_dispatch='2*n_jobs', refit=True, scoring=None, verbose=0)"
      ]
     },
     "execution_count": 65,
     "metadata": {},
     "output_type": "execute_result"
    }
   ],
   "source": [
    "\n",
    "### instantiate knn classifier \n",
    "modeltwo = KNeighborsClassifier()\n",
    "\n",
    "# Intialize GridSearchCV\n",
    "clf = GridSearchCV(modeltwo, search_parameters_knn)\n",
    "\n",
    "y6_train = np.ravel(Y6_train)\n",
    "\n",
    "# Fit our training data\n",
    "clf.fit(X6_train,y6_train)"
   ]
  },
  {
   "cell_type": "code",
   "execution_count": 66,
   "metadata": {
    "collapsed": false
   },
   "outputs": [
    {
     "name": "stdout",
     "output_type": "stream",
     "text": [
      "Best Estimator: 50\n",
      "Best Params: {'n_neighbors': 50, 'weights': 'distance', 'algorithm': 'ball_tree', 'p': 1}\n",
      "Best Score: 0.605470368835\n"
     ]
    }
   ],
   "source": [
    "# print best number of neighbors\n",
    "print \"Best Estimator:\", clf.best_estimator_.n_neighbors\n",
    "# print best parameters for model\n",
    "print \"Best Params:\", clf.best_params_\n",
    "#print best score of model\n",
    "print \"Best Score:\", clf.best_score_"
   ]
  },
  {
   "cell_type": "markdown",
   "metadata": {},
   "source": [
    "## 7. Choose a new target from alchemy_category to predict with logistic regression\n",
    "\n",
    "**Ideally your category choice will have a small fraction of the total rows, but not TOO small!**\n",
    "\n",
    "---"
   ]
  },
  {
   "cell_type": "markdown",
   "metadata": {},
   "source": [
    "### 7.1 Chose your target category, create the Y vector, and check the fraction of instances\n",
    "\n",
    "---"
   ]
  },
  {
   "cell_type": "code",
   "execution_count": 67,
   "metadata": {
    "collapsed": false
   },
   "outputs": [
    {
     "data": {
      "text/plain": [
       "recreation            1229\n",
       "arts_entertainment     941\n",
       "business               880\n",
       "health                 506\n",
       "sports                 380\n",
       "culture_politics       343\n",
       "computer_internet      296\n",
       "science_technology     289\n",
       "gaming                  76\n",
       "religion                72\n",
       "law_crime               31\n",
       "unknown                  6\n",
       "weather                  4\n",
       "Name: alchemy_category, dtype: int64"
      ]
     },
     "execution_count": 67,
     "metadata": {},
     "output_type": "execute_result"
    }
   ],
   "source": [
    "su[\"alchemy_category\"].value_counts()"
   ]
  },
  {
   "cell_type": "code",
   "execution_count": 68,
   "metadata": {
    "collapsed": true
   },
   "outputs": [],
   "source": [
    "df = su.copy()"
   ]
  },
  {
   "cell_type": "code",
   "execution_count": 69,
   "metadata": {
    "collapsed": false
   },
   "outputs": [
    {
     "data": {
      "text/html": [
       "<div>\n",
       "<table border=\"1\" class=\"dataframe\">\n",
       "  <thead>\n",
       "    <tr style=\"text-align: right;\">\n",
       "      <th></th>\n",
       "      <th>url</th>\n",
       "      <th>urlid</th>\n",
       "      <th>boilerplate</th>\n",
       "      <th>alchemy_category</th>\n",
       "      <th>alchemy_category_score</th>\n",
       "      <th>avglinksize</th>\n",
       "      <th>commonlinkratio_1</th>\n",
       "      <th>commonlinkratio_2</th>\n",
       "      <th>commonlinkratio_3</th>\n",
       "      <th>commonlinkratio_4</th>\n",
       "      <th>...</th>\n",
       "      <th>is_news</th>\n",
       "      <th>lengthyLinkDomain</th>\n",
       "      <th>linkwordscore</th>\n",
       "      <th>news_front_page</th>\n",
       "      <th>non_markup_alphanum_characters</th>\n",
       "      <th>numberOfLinks</th>\n",
       "      <th>numwords_in_url</th>\n",
       "      <th>parametrizedLinkRatio</th>\n",
       "      <th>spelling_errors_ratio</th>\n",
       "      <th>label</th>\n",
       "    </tr>\n",
       "  </thead>\n",
       "  <tbody>\n",
       "    <tr>\n",
       "      <th>0</th>\n",
       "      <td>http://www.bloomberg.com/news/2010-12-23/ibm-p...</td>\n",
       "      <td>4042</td>\n",
       "      <td>{\"title\":\"IBM Sees Holographic Calls Air Breat...</td>\n",
       "      <td>business</td>\n",
       "      <td>0.789131</td>\n",
       "      <td>2.055556</td>\n",
       "      <td>0.676471</td>\n",
       "      <td>0.205882</td>\n",
       "      <td>0.047059</td>\n",
       "      <td>0.023529</td>\n",
       "      <td>...</td>\n",
       "      <td>1</td>\n",
       "      <td>1</td>\n",
       "      <td>24</td>\n",
       "      <td>0</td>\n",
       "      <td>5424</td>\n",
       "      <td>170</td>\n",
       "      <td>8</td>\n",
       "      <td>0.152941</td>\n",
       "      <td>0.079130</td>\n",
       "      <td>0</td>\n",
       "    </tr>\n",
       "    <tr>\n",
       "      <th>1</th>\n",
       "      <td>http://www.popsci.com/technology/article/2012-...</td>\n",
       "      <td>8471</td>\n",
       "      <td>{\"title\":\"The Fully Electronic Futuristic Star...</td>\n",
       "      <td>recreation</td>\n",
       "      <td>0.574147</td>\n",
       "      <td>3.677966</td>\n",
       "      <td>0.508021</td>\n",
       "      <td>0.288770</td>\n",
       "      <td>0.213904</td>\n",
       "      <td>0.144385</td>\n",
       "      <td>...</td>\n",
       "      <td>1</td>\n",
       "      <td>1</td>\n",
       "      <td>40</td>\n",
       "      <td>0</td>\n",
       "      <td>4973</td>\n",
       "      <td>187</td>\n",
       "      <td>9</td>\n",
       "      <td>0.181818</td>\n",
       "      <td>0.125448</td>\n",
       "      <td>1</td>\n",
       "    </tr>\n",
       "  </tbody>\n",
       "</table>\n",
       "<p>2 rows × 27 columns</p>\n",
       "</div>"
      ],
      "text/plain": [
       "                                                 url  urlid  \\\n",
       "0  http://www.bloomberg.com/news/2010-12-23/ibm-p...   4042   \n",
       "1  http://www.popsci.com/technology/article/2012-...   8471   \n",
       "\n",
       "                                         boilerplate alchemy_category  \\\n",
       "0  {\"title\":\"IBM Sees Holographic Calls Air Breat...         business   \n",
       "1  {\"title\":\"The Fully Electronic Futuristic Star...       recreation   \n",
       "\n",
       "   alchemy_category_score  avglinksize  commonlinkratio_1  commonlinkratio_2  \\\n",
       "0                0.789131     2.055556           0.676471           0.205882   \n",
       "1                0.574147     3.677966           0.508021           0.288770   \n",
       "\n",
       "   commonlinkratio_3  commonlinkratio_4  ...    is_news  lengthyLinkDomain  \\\n",
       "0           0.047059           0.023529  ...          1                  1   \n",
       "1           0.213904           0.144385  ...          1                  1   \n",
       "\n",
       "   linkwordscore  news_front_page  non_markup_alphanum_characters  \\\n",
       "0             24                0                            5424   \n",
       "1             40                0                            4973   \n",
       "\n",
       "   numberOfLinks  numwords_in_url parametrizedLinkRatio  \\\n",
       "0            170                8              0.152941   \n",
       "1            187                9              0.181818   \n",
       "\n",
       "   spelling_errors_ratio  label  \n",
       "0               0.079130      0  \n",
       "1               0.125448      1  \n",
       "\n",
       "[2 rows x 27 columns]"
      ]
     },
     "execution_count": 69,
     "metadata": {},
     "output_type": "execute_result"
    }
   ],
   "source": [
    "df.head(2)"
   ]
  },
  {
   "cell_type": "code",
   "execution_count": 70,
   "metadata": {
    "collapsed": false
   },
   "outputs": [
    {
     "data": {
      "text/html": [
       "<div>\n",
       "<table border=\"1\" class=\"dataframe\">\n",
       "  <thead>\n",
       "    <tr style=\"text-align: right;\">\n",
       "      <th></th>\n",
       "      <th>url</th>\n",
       "      <th>urlid</th>\n",
       "      <th>boilerplate</th>\n",
       "      <th>alchemy_category</th>\n",
       "      <th>alchemy_category_score</th>\n",
       "      <th>avglinksize</th>\n",
       "      <th>commonlinkratio_1</th>\n",
       "      <th>commonlinkratio_2</th>\n",
       "      <th>commonlinkratio_3</th>\n",
       "      <th>commonlinkratio_4</th>\n",
       "      <th>...</th>\n",
       "      <th>is_news</th>\n",
       "      <th>lengthyLinkDomain</th>\n",
       "      <th>linkwordscore</th>\n",
       "      <th>news_front_page</th>\n",
       "      <th>non_markup_alphanum_characters</th>\n",
       "      <th>numberOfLinks</th>\n",
       "      <th>numwords_in_url</th>\n",
       "      <th>parametrizedLinkRatio</th>\n",
       "      <th>spelling_errors_ratio</th>\n",
       "      <th>label</th>\n",
       "    </tr>\n",
       "  </thead>\n",
       "  <tbody>\n",
       "    <tr>\n",
       "      <th>0</th>\n",
       "      <td>http://www.bloomberg.com/news/2010-12-23/ibm-p...</td>\n",
       "      <td>4042</td>\n",
       "      <td>{\"title\":\"IBM Sees Holographic Calls Air Breat...</td>\n",
       "      <td>business</td>\n",
       "      <td>0.789131</td>\n",
       "      <td>2.055556</td>\n",
       "      <td>0.676471</td>\n",
       "      <td>0.205882</td>\n",
       "      <td>0.047059</td>\n",
       "      <td>0.023529</td>\n",
       "      <td>...</td>\n",
       "      <td>1</td>\n",
       "      <td>1</td>\n",
       "      <td>24</td>\n",
       "      <td>0</td>\n",
       "      <td>5424</td>\n",
       "      <td>170</td>\n",
       "      <td>8</td>\n",
       "      <td>0.152941</td>\n",
       "      <td>0.079130</td>\n",
       "      <td>0</td>\n",
       "    </tr>\n",
       "    <tr>\n",
       "      <th>1</th>\n",
       "      <td>http://www.popsci.com/technology/article/2012-...</td>\n",
       "      <td>8471</td>\n",
       "      <td>{\"title\":\"The Fully Electronic Futuristic Star...</td>\n",
       "      <td>recreation</td>\n",
       "      <td>0.574147</td>\n",
       "      <td>3.677966</td>\n",
       "      <td>0.508021</td>\n",
       "      <td>0.288770</td>\n",
       "      <td>0.213904</td>\n",
       "      <td>0.144385</td>\n",
       "      <td>...</td>\n",
       "      <td>1</td>\n",
       "      <td>1</td>\n",
       "      <td>40</td>\n",
       "      <td>0</td>\n",
       "      <td>4973</td>\n",
       "      <td>187</td>\n",
       "      <td>9</td>\n",
       "      <td>0.181818</td>\n",
       "      <td>0.125448</td>\n",
       "      <td>1</td>\n",
       "    </tr>\n",
       "    <tr>\n",
       "      <th>2</th>\n",
       "      <td>http://www.menshealth.com/health/flu-fighting-...</td>\n",
       "      <td>1164</td>\n",
       "      <td>{\"title\":\"Fruits that Fight the Flu fruits tha...</td>\n",
       "      <td>health</td>\n",
       "      <td>0.996526</td>\n",
       "      <td>2.382883</td>\n",
       "      <td>0.562016</td>\n",
       "      <td>0.321705</td>\n",
       "      <td>0.120155</td>\n",
       "      <td>0.042636</td>\n",
       "      <td>...</td>\n",
       "      <td>1</td>\n",
       "      <td>1</td>\n",
       "      <td>55</td>\n",
       "      <td>0</td>\n",
       "      <td>2240</td>\n",
       "      <td>258</td>\n",
       "      <td>11</td>\n",
       "      <td>0.166667</td>\n",
       "      <td>0.057613</td>\n",
       "      <td>1</td>\n",
       "    </tr>\n",
       "    <tr>\n",
       "      <th>3</th>\n",
       "      <td>http://www.dumblittleman.com/2007/12/10-foolpr...</td>\n",
       "      <td>6684</td>\n",
       "      <td>{\"title\":\"10 Foolproof Tips for Better Sleep \"...</td>\n",
       "      <td>health</td>\n",
       "      <td>0.801248</td>\n",
       "      <td>1.543103</td>\n",
       "      <td>0.400000</td>\n",
       "      <td>0.100000</td>\n",
       "      <td>0.016667</td>\n",
       "      <td>0.000000</td>\n",
       "      <td>...</td>\n",
       "      <td>1</td>\n",
       "      <td>0</td>\n",
       "      <td>24</td>\n",
       "      <td>0</td>\n",
       "      <td>2737</td>\n",
       "      <td>120</td>\n",
       "      <td>5</td>\n",
       "      <td>0.041667</td>\n",
       "      <td>0.100858</td>\n",
       "      <td>1</td>\n",
       "    </tr>\n",
       "    <tr>\n",
       "      <th>4</th>\n",
       "      <td>http://bleacherreport.com/articles/1205138-the...</td>\n",
       "      <td>9006</td>\n",
       "      <td>{\"title\":\"The 50 Coolest Jerseys You Didn t Kn...</td>\n",
       "      <td>sports</td>\n",
       "      <td>0.719157</td>\n",
       "      <td>2.676471</td>\n",
       "      <td>0.500000</td>\n",
       "      <td>0.222222</td>\n",
       "      <td>0.123457</td>\n",
       "      <td>0.043210</td>\n",
       "      <td>...</td>\n",
       "      <td>1</td>\n",
       "      <td>1</td>\n",
       "      <td>14</td>\n",
       "      <td>0</td>\n",
       "      <td>12032</td>\n",
       "      <td>162</td>\n",
       "      <td>10</td>\n",
       "      <td>0.098765</td>\n",
       "      <td>0.082569</td>\n",
       "      <td>0</td>\n",
       "    </tr>\n",
       "  </tbody>\n",
       "</table>\n",
       "<p>5 rows × 27 columns</p>\n",
       "</div>"
      ],
      "text/plain": [
       "                                                 url  urlid  \\\n",
       "0  http://www.bloomberg.com/news/2010-12-23/ibm-p...   4042   \n",
       "1  http://www.popsci.com/technology/article/2012-...   8471   \n",
       "2  http://www.menshealth.com/health/flu-fighting-...   1164   \n",
       "3  http://www.dumblittleman.com/2007/12/10-foolpr...   6684   \n",
       "4  http://bleacherreport.com/articles/1205138-the...   9006   \n",
       "\n",
       "                                         boilerplate alchemy_category  \\\n",
       "0  {\"title\":\"IBM Sees Holographic Calls Air Breat...         business   \n",
       "1  {\"title\":\"The Fully Electronic Futuristic Star...       recreation   \n",
       "2  {\"title\":\"Fruits that Fight the Flu fruits tha...           health   \n",
       "3  {\"title\":\"10 Foolproof Tips for Better Sleep \"...           health   \n",
       "4  {\"title\":\"The 50 Coolest Jerseys You Didn t Kn...           sports   \n",
       "\n",
       "   alchemy_category_score  avglinksize  commonlinkratio_1  commonlinkratio_2  \\\n",
       "0                0.789131     2.055556           0.676471           0.205882   \n",
       "1                0.574147     3.677966           0.508021           0.288770   \n",
       "2                0.996526     2.382883           0.562016           0.321705   \n",
       "3                0.801248     1.543103           0.400000           0.100000   \n",
       "4                0.719157     2.676471           0.500000           0.222222   \n",
       "\n",
       "   commonlinkratio_3  commonlinkratio_4  ...    is_news  lengthyLinkDomain  \\\n",
       "0           0.047059           0.023529  ...          1                  1   \n",
       "1           0.213904           0.144385  ...          1                  1   \n",
       "2           0.120155           0.042636  ...          1                  1   \n",
       "3           0.016667           0.000000  ...          1                  0   \n",
       "4           0.123457           0.043210  ...          1                  1   \n",
       "\n",
       "   linkwordscore  news_front_page  non_markup_alphanum_characters  \\\n",
       "0             24                0                            5424   \n",
       "1             40                0                            4973   \n",
       "2             55                0                            2240   \n",
       "3             24                0                            2737   \n",
       "4             14                0                           12032   \n",
       "\n",
       "   numberOfLinks  numwords_in_url parametrizedLinkRatio  \\\n",
       "0            170                8              0.152941   \n",
       "1            187                9              0.181818   \n",
       "2            258               11              0.166667   \n",
       "3            120                5              0.041667   \n",
       "4            162               10              0.098765   \n",
       "\n",
       "   spelling_errors_ratio  label  \n",
       "0               0.079130      0  \n",
       "1               0.125448      1  \n",
       "2               0.057613      1  \n",
       "3               0.100858      1  \n",
       "4               0.082569      0  \n",
       "\n",
       "[5 rows x 27 columns]"
      ]
     },
     "execution_count": 70,
     "metadata": {},
     "output_type": "execute_result"
    }
   ],
   "source": [
    "df.head()\n"
   ]
  },
  {
   "cell_type": "code",
   "execution_count": 71,
   "metadata": {
    "collapsed": false
   },
   "outputs": [],
   "source": [
    "df['religion'] = [1 if x == 'religion' else 0 for x in df[\"alchemy_category\"]]\n"
   ]
  },
  {
   "cell_type": "code",
   "execution_count": 72,
   "metadata": {
    "collapsed": false
   },
   "outputs": [
    {
     "name": "stdout",
     "output_type": "stream",
     "text": [
      "url\n",
      "[ 'http://www.bloomberg.com/news/2010-12-23/ibm-predicts-holographic-calls-air-breathing-batteries-by-2015.html'\n",
      " 'http://www.popsci.com/technology/article/2012-07/electronic-futuristic-starting-gun-eliminates-advantages-races'\n",
      " 'http://www.menshealth.com/health/flu-fighting-fruits?cm_mmc=Facebook-_-MensHealth-_-Content-Health-_-FightFluWithFruit'\n",
      " ..., 'http://www.uncoached.com/category/why-i-miss-college/'\n",
      " 'http://eatthis.menshealth.com/slide/sweet-potatoes?slideshow=77661'\n",
      " 'http://naturallyella.com/']\n",
      "urlid\n",
      "[4042 8471 1164 ..., 8895 1191 5612]\n",
      "boilerplate\n",
      "[ '{\"title\":\"IBM Sees Holographic Calls Air Breathing Batteries ibm sees holographic calls, air-breathing batteries\",\"body\":\"A sign stands outside the International Business Machines Corp IBM Almaden Research Center campus in San Jose California Photographer Tony Avelar Bloomberg Buildings stand at the International Business Machines Corp IBM Almaden Research Center campus in the Santa Teresa Hills of San Jose California Photographer Tony Avelar Bloomberg By 2015 your mobile phone will project a 3 D image of anyone who calls and your laptop will be powered by kinetic energy At least that s what International Business Machines Corp sees in its crystal ball The predictions are part of an annual tradition for the Armonk New York based company which surveys its 3 000 researchers to find five ideas expected to take root in the next five years IBM the world s largest provider of computer services looks to Silicon Valley for input gleaning many ideas from its Almaden research center in San Jose California Holographic conversations projected from mobile phones lead this year s list The predictions also include air breathing batteries computer programs that can tell when and where traffic jams will take place environmental information generated by sensors in cars and phones and cities powered by the heat thrown off by computer servers These are all stretch goals and that s good said Paul Saffo managing director of foresight at the investment advisory firm Discern in San Francisco In an era when pessimism is the new black a little dose of technological optimism is not a bad thing For IBM it s not just idle speculation The company is one of the few big corporations investing in long range research projects and it counts on innovation to fuel growth Saffo said Not all of its predictions pan out though IBM was overly optimistic about the spread of speech technology for instance When the ideas do lead to products they can have broad implications for society as well as IBM s bottom line he said Research Spending They have continued to do research when all the other grand research organizations are gone said Saffo who is also a consulting associate professor at Stanford University IBM invested 5 8 billion in research and development last year 6 1 percent of revenue While that s down from about 10 percent in the early 1990s the company spends a bigger share on research than its computing rivals Hewlett Packard Co the top maker of personal computers spent 2 4 percent last year At Almaden scientists work on projects that don t always fit in with IBM s computer business The lab s research includes efforts to develop an electric car battery that runs 500 miles on one charge a filtration system for desalination and a program that shows changes in geographic data IBM rose 9 cents to 146 04 at 11 02 a m in New York Stock Exchange composite trading The stock had gained 11 percent this year before today Citizen Science The list is meant to give a window into the company s innovation engine said Josephine Cheng a vice president at IBM s Almaden lab All this demonstrates a real culture of innovation at IBM and willingness to devote itself to solving some of the world s biggest problems she said Many of the predictions are based on projects that IBM has in the works One of this year s ideas that sensors in cars wallets and personal devices will give scientists better data about the environment is an expansion of the company s citizen science initiative Earlier this year IBM teamed up with the California State Water Resources Control Board and the City of San Jose Environmental Services to help gather information about waterways Researchers from Almaden created an application that lets smartphone users snap photos of streams and creeks and report back on conditions The hope is that these casual observations will help local and state officials who don t have the resources to do the work themselves Traffic Predictors IBM also sees data helping shorten commutes in the next five years Computer programs will use algorithms and real time traffic information to predict which roads will have backups and how to avoid getting stuck Batteries may last 10 times longer in 2015 than today IBM says Rather than using the current lithium ion technology new models could rely on energy dense metals that only need to interact with the air to recharge Some electronic devices might ditch batteries altogether and use something similar to kinetic wristwatches which only need to be shaken to generate a charge The final prediction involves recycling the heat generated by computers and data centers Almost half of the power used by data centers is currently spent keeping the computers cool IBM scientists say it would be better to harness that heat to warm houses and offices In IBM s first list of predictions compiled at the end of 2006 researchers said instantaneous speech translation would become the norm That hasn t happened yet While some programs can quickly translate electronic documents and instant messages and other apps can perform limited speech translation there s nothing widely available that acts like the universal translator in Star Trek Second Life The company also predicted that online immersive environments such as Second Life would become more widespread While immersive video games are as popular as ever Second Life s growth has slowed Internet users are flocking instead to the more 2 D environments of Facebook Inc and Twitter Inc Meanwhile a 2007 prediction that mobile phones will act as a wallet ticket broker concierge bank and shopping assistant is coming true thanks to the explosion of smartphone applications Consumers can pay bills through their banking apps buy movie tickets and get instant feedback on potential purchases all with a few taps on their phones The nice thing about the list is that it provokes thought Saffo said If everything came true they wouldn t be doing their job To contact the reporter on this story Ryan Flinn in San Francisco at rflinn bloomberg net To contact the editor responsible for this story Tom Giles at tgiles5 bloomberg net by 2015, your mobile phone will project a 3-d image of anyone who calls and your laptop will be powered by kinetic energy. at least that\\\\u2019s what international business machines corp. sees in its crystal ball.\",\"url\":\"bloomberg news 2010 12 23 ibm predicts holographic calls air breathing batteries by 2015 html\"}'\n",
      " '{\"title\":\"The Fully Electronic Futuristic Starting Gun That Eliminates Advantages in Races the fully electronic, futuristic starting gun that eliminates advantages in races the fully electronic, futuristic starting gun that eliminates advantages in races\",\"body\":\"And that can be carried on a plane without the hassle too The Omega E Gun Starting Pistol Omega It s easy to take for granted just how insanely close some Olympic races are and how much the minutiae of it all can matter The perfect example is the traditional starting gun Seems easy You pull a trigger and the race starts Boom What people don t consider When a conventional gun goes off the sound travels to the ears of the closest runner a fraction of a second sooner than the others That s just enough to matter and why the latest starting pistol has traded in the mechanical boom for orchestrated electronic noise Omega has been the watch company tasked as the official timekeeper of the Olympic Games since 1932 At the 2010 Vancouver games they debuted their new starting gun which is a far cry from the iconic revolvers associated with early games it s clearly electronic but still more than a button that s pressed to get the show rolling About as far away as you can get probably while still clearly being a starting gun Pull the trigger once and off the Olympians go If it s pressed twice consecutively it signals a false start Working through a speaker system is what eliminates any kind of advantage for athletes It s not a big advantage being close to a gun but the sound of the bullet traveling one meter every three milliseconds could contribute to a win Powder pistols have been connected to a speaker system before but even then runners could react to the sound of the real pistol firing rather than wait for the speaker sounds to reach them This year s setup will have speakers placed equidistant from runners forcing the sound to reach each competitor at exactly the same time It wouldn t be an enormous difference Omega Timing board member Peter H\\\\u00fcrzeler said in an email but when you think about reaction times being measured in tiny fractions of a second placing a speaker behind each lane has eliminated any sort of advantage for any athlete They all hear the start commands and signal at exactly the same moment There s also an ulterior reason for its look In a post September 11th world a gun on its way to a major event is going to raise more than a few TSA eyebrows even if it s a realistic looking fake Rather than deal with that the e gun can be transported while still maintaining the general look of a starting gun But there s still nothing like hearing a starting gun go off at the start of a race more than signaling the runners there s probably some Pavlovian response after more than a century of Olympic games that make people want to hear the real thing not a whiny electronic noise Everyone in the stands at home thankfully will still be getting that The sound is programmable and can be synthesized to sound like almost anything H\\\\u00fcrzeler says but we program it to sound like a pistol it s a way to use the best possible starting technology but to keep a rich tradition alive and that can be carried on a plane without the hassle, too technology,gadgets,london 2012,london olympics,olympics,omega,starting guns,summer olympics,timing,popular science,popsci\",\"url\":\"popsci technology article 2012 07 electronic futuristic starting gun eliminates advantages races\"}'\n",
      " '{\"title\":\"Fruits that Fight the Flu fruits that fight the flu | cold & flu | men\\'s health\",\"body\":\"Apples The most popular source of antioxidants in our diet one apple has an antioxidant effect equivalent to 1 500 mg of vitamin C Apples are loaded with protective flavonoids which may prevent heart disease and cancer Next Papayas With 250 percent of the RDA of vitamin C a papaya can help kick a cold right out of your system The beta carotene and vitamins C and E in papayas reduce inflammation throughout the body lessening the effects of asthma Next Cranberries Cranberries have more antioxidants than other common fruits and veggies One serving has five times the amount in broccoli Cranberries are a natural probiotic enhancing good bacteria levels in the gut and protecting it from foodborne illnesses Next Grapefruit Loaded with vitamin C grapefruit also contains natural compounds called limonoids which can lower cholesterol The red varieties are a potent source of the cancer fighting substance lycopene Next Bananas One of the top food sources of vitamin B6 bananas help reduce fatigue depression stress and insomnia Bananas are high in magnesium which keeps bones strong and potassium which helps prevent heart disease and high blood pressure Next everything you need to know about cold and flu so you don\\\\u2019t get sick this season, at men\\\\u2019s health.com cold, flu, infection, sore throat, sneeze, immunity, germs, allergies, stay healthy, sick, contagious, medicines, cold medicine\",\"url\":\"menshealth health flu fighting fruits cm mmc Facebook Mens Health Content Health Fight Flu With Fruit\"}'\n",
      " ...,\n",
      " '{\"title\":\"Why I Miss College \",\"body\":\"Mar 30 2009 I d like to congratulate Jane on having what I believe to be the best body at Duke University And of course this makes me miss college Because many of the fellas at Duke who could never land a girl that looks like this in the real world all have a decent shot next year And who knows who had a shot this year You see Jane is going to be graduating in 2012 which means she s still young for Duke There are still nearly 3 years left for her to put on significant weight However given her tan and penchant for partying with Duke basketball players the smart money says this girl is going to stay in top form for a long time Jane I just want to thank you for giving me another moment that gets me that much closer to suicide It s pictures like these that are the building blocks to me having to either start an adult fraternity which will inevitably fail or a bar which I have no patience for Either way I m 30 now and just can t do it anymore Good God is life this bad After you see these pictures you might realize that yes it is Continue Reading \",\"url\":\"uncoached category why i miss college\"}'\n",
      " '{\"title\":\"Sweet Potatoes Eat This Not That  i\\'m eating this, not that \",\"body\":\"They re loaded with vitamin C which smoothes out wrinkles by stimulating the production of collagen A recent study in the American Journal of Clinical Nutrition found that volunteers who consumed 4 milligrams of C about half a small sweet potato daily for 3 years decreased the appearance of wrinkles by 11 percent Try papaya and carrot too eatthis\",\"url\":\"eatthis menshealth slide sweet potatoes slideshow 77661\"}'\n",
      " '{\"title\":\"Naturally Ella \",\"body\":\" \",\"url\":\"naturallyella\"}']\n",
      "alchemy_category\n",
      "['business' 'recreation' 'health' 'sports' 'arts_entertainment'\n",
      " 'science_technology' 'gaming' 'culture_politics' 'computer_internet'\n",
      " 'law_crime' 'religion' 'weather' 'unknown']\n",
      "alchemy_category_score\n",
      "[ 0.789131  0.574147  0.996526 ...,  0.14192   0.196273  0.617876]\n",
      "avglinksize\n",
      "[ 2.05555556  3.6779661   2.38288288 ...,  1.75373134  2.20805369\n",
      "  1.02631579]\n",
      "commonlinkratio_1\n",
      "[ 0.67647059  0.50802139  0.5620155  ...,  0.53125     0.66956522\n",
      "  0.53953488]\n",
      "commonlinkratio_2\n",
      "[ 0.20588235  0.28877005  0.32170543 ...,  0.25179856  0.21395349\n",
      "  0.24666667]\n",
      "commonlinkratio_3\n",
      "[ 0.04705882  0.21390374  0.12015504 ...,  0.52803738  0.01860465\n",
      "  0.03666667]\n",
      "commonlinkratio_4\n",
      "[ 0.02352941  0.14438503  0.04263566 ...,  0.49065421  0.01860465\n",
      "  0.19191919]\n",
      "compression_ratio\n",
      "[ 0.44378317  0.468649    0.52544803 ...,  0.47427293  0.55818354\n",
      "  0.69252874]\n",
      "embed_ratio\n",
      "[  0.00000000e+00   4.06504100e-03   1.06382980e-02   2.04918000e-03\n",
      "   5.55555560e-02  -1.00000000e+00   3.12500000e-02   5.84795300e-03\n",
      "   1.51285900e-03   6.21118000e-03   3.42465800e-03   4.16666670e-02\n",
      "   7.87401600e-03   6.17284000e-03   8.60585200e-03   9.61538500e-03\n",
      "   7.93650800e-03   1.19047600e-03   1.78571430e-02   2.05479450e-02\n",
      "   1.38888890e-02   1.93050200e-03   1.11111110e-02   6.02409600e-03\n",
      "   3.08642000e-03   7.10479600e-03   6.32911400e-03   5.20833300e-03\n",
      "   2.11864400e-03   1.13636360e-02   3.38983100e-03   4.21940900e-03\n",
      "   7.14285710e-02   1.26182970e-02   7.69230770e-02   8.33333330e-02\n",
      "   5.58659200e-03   2.16450200e-03   3.43642600e-03   7.09219900e-03\n",
      "   3.36700300e-03   1.00000000e-01   6.53594800e-03   1.31578950e-02\n",
      "   9.00900900e-03   1.57232700e-03   1.27388500e-03   1.00000000e-02\n",
      "   1.74520100e-03   1.36239800e-03   6.24000000e-04   1.40449400e-03\n",
      "   3.19488800e-03   4.58715600e-03   2.28833000e-03   5.02512600e-03\n",
      "   3.61010800e-03   7.40740700e-03   1.03842200e-03   1.68634100e-03\n",
      "   3.14465400e-03   1.38696300e-03   2.02839800e-03   1.85185190e-02\n",
      "   1.35501400e-03   2.10526300e-03   7.70000000e-04   2.85714300e-03\n",
      "   1.57480300e-03   2.06185570e-02   3.00300300e-03   1.33689800e-03\n",
      "   1.37362600e-03   8.00000000e-03   2.03666000e-03   4.78468900e-03\n",
      "   3.28947400e-03   1.12994400e-03   2.94117600e-03   3.74531800e-03\n",
      "   5.64971800e-03   9.70873800e-03   4.37317800e-03   1.01010100e-02\n",
      "   7.19424500e-03   5.40540500e-03   4.34782600e-03   1.17647060e-02\n",
      "   3.10559000e-03   1.25000000e-01   5.78034700e-03   2.77777780e-02\n",
      "   3.78787900e-03   2.94117650e-02   9.90099000e-03   4.50450500e-03\n",
      "   9.52381000e-03   2.83018870e-02   1.15606900e-03   1.52207000e-03\n",
      "   2.22717100e-03   3.58422900e-03   5.71428600e-03   4.87000000e-04\n",
      "   1.23456790e-02   8.54700900e-03   1.53609800e-03   5.07614200e-03\n",
      "   7.69000000e-04   4.98000000e-04   4.85436900e-03   2.04499000e-03\n",
      "   8.77000000e-04   1.08225100e-03   3.22580650e-02   2.70270270e-02\n",
      "   1.20336900e-03   2.55102040e-02   1.72711600e-03   2.85714290e-02\n",
      "   9.80392200e-03   8.13008100e-03   9.75609800e-03   1.21654500e-03\n",
      "   8.16326500e-03   6.66666670e-02   3.16957200e-03   1.80000000e-04\n",
      "   5.00000000e-03   1.43884900e-03   1.81818180e-02   1.46842900e-03\n",
      "   6.62251700e-03   2.12765960e-02   1.66666670e-02   1.78571400e-03\n",
      "   4.23728800e-03   1.03092780e-02   1.14942530e-02   2.19780200e-03\n",
      "   5.49450500e-03   2.80112000e-03   7.32600700e-03   8.16000000e-04\n",
      "   5.23560200e-03   2.14285714e-01   1.65837500e-03   3.49650300e-03\n",
      "   4.69483600e-03   8.81057300e-03   2.29885100e-03   5.18000000e-04\n",
      "   5.12820500e-03   1.95694700e-03   2.78551500e-03   2.19780220e-02\n",
      "   1.44927540e-02   1.33868800e-03   2.02429100e-03   3.30033000e-03\n",
      "   4.40528600e-03   3.25732900e-03   7.66000000e-04   3.75939800e-03\n",
      "   2.40963900e-03   3.80228100e-03   9.09090900e-03   2.83286100e-03\n",
      "   4.54545450e-02   4.54545500e-03   4.16666700e-03   5.31914900e-03\n",
      "   1.39664800e-03   5.95238100e-03   1.04166670e-02   3.04878000e-03\n",
      "   4.25531900e-03   3.27868900e-03   6.35000000e-04   1.31061600e-03\n",
      "   4.52488700e-03   2.38663500e-03   3.73134300e-03   7.50000000e-03\n",
      "   8.47457600e-03   3.50877200e-03   3.63000000e-04   1.59744400e-03\n",
      "   1.69491500e-03   7.12000000e-04   8.92857100e-03   3.84615380e-02\n",
      "   1.66389400e-03   2.31213900e-03   6.25000000e-02   8.33333300e-03\n",
      "   1.16686100e-03   6.62000000e-04   7.19000000e-04   2.98507460e-02\n",
      "   3.44827590e-02   1.25944600e-03   2.56410300e-03   2.63157890e-02\n",
      "   1.69491530e-02   3.40136100e-03   1.02249500e-03   1.28205130e-02\n",
      "   8.04597700e-03   9.37000000e-04   2.47524750e-02   1.88323900e-03\n",
      "   1.51515150e-02   1.07526880e-02   7.72200800e-03   4.87804900e-03\n",
      "   9.09090910e-02   7.77000000e-04   2.22222220e-02   6.71140900e-03\n",
      "   4.44444400e-03   6.57894700e-03   1.96078430e-02   3.12000000e-04\n",
      "   2.95858000e-03   1.56006200e-03   1.25156400e-03   2.45000000e-04\n",
      "   8.64000000e-04   7.67000000e-04   7.35294100e-03   1.95312500e-03\n",
      "   6.14000000e-04   6.28930800e-03   6.49350600e-03   1.11731800e-03\n",
      "   1.69779300e-03   1.79856100e-03   9.17431200e-03   2.54065000e-03\n",
      "   7.75193800e-03   3.53356900e-03   3.12500000e-03   1.72117000e-03\n",
      "   5.52486200e-03   8.82000000e-04   1.52439000e-03   1.44032920e-02\n",
      "   8.19672100e-03   2.41691800e-03   3.37000000e-04   1.05263200e-03\n",
      "   1.07066400e-03   4.21000000e-04   2.01096890e-02   4.66200500e-03\n",
      "   1.20481930e-02   2.19298200e-03   2.15053800e-03   1.48148100e-03\n",
      "   3.02114800e-03   4.80769200e-03   1.92307690e-02]\n",
      "framebased\n",
      "[0]\n",
      "frameTagRatio\n",
      "[ 0.09077381  0.0987074   0.07244786 ...,  0.04029304  0.1770428\n",
      "  0.12412178]\n",
      "hasDomainLink\n",
      "[0 1]\n",
      "html_ratio\n",
      "[ 0.24583118  0.20348963  0.22640177 ...,  0.21801442  0.24838757\n",
      "  0.25606971]\n",
      "image_ratio\n",
      "[ 0.00388349  0.08865248  0.12053571 ...,  0.00312175  0.27419355\n",
      "  0.22596154]\n",
      "is_news\n",
      "['1' '?']\n",
      "lengthyLinkDomain\n",
      "[1 0]\n",
      "linkwordscore\n",
      "[ 24  40  55  14  21  53  64  37  54  50  49  23  31   3  45  98   2  11\n",
      "  12  35  44  25   6  22   5  76  30   4  34  86  59  16   7  28  57   9\n",
      "  13  61  33   8  51  19  26  56  52  18  43  29  41  63  68  42 100  27\n",
      "  77  62  75  17  74  32  20  95  47  36  38  15  81  85  70  66  65  10\n",
      "  48  58   0  60  83  67  71  46  87  39  82  90  80  73  78  97  88  69\n",
      "   1  84  93  96  72  79  94  99  89  91  92]\n",
      "news_front_page\n",
      "['0' '1' '?']\n",
      "non_markup_alphanum_characters\n",
      "[ 5424  4973  2240 ..., 12714  1819  5672]\n",
      "numberOfLinks\n",
      "[ 170  187  258  120  162   93  392   75  136  232  222   58   95   87  139\n",
      "  225   11   86  143  113  362  216  201  181   65  277   70  290  274   18\n",
      "   96  133  186  501  262  210  119  198  155  413  197  126  195  107  101\n",
      "  104  150  128   92  142  106  137  213  103   59   15  117  145   55  190\n",
      "   46   36  196  121   71   62  408  108   64  147   53  451  211  177  386\n",
      "  194  127  551  185  243  131  328  164  312   80   63  203    5   10   28\n",
      "  135   57  124  189  116  151  172   61   24   37   88   91   39  372   56\n",
      "  512  499  309  173  830  111  526  403  105  205   83  440  212   51  214\n",
      "  100  179  226  401  175    2   84   54  217  125  118  378  624  183   98\n",
      "  286  295   94   34   99   73  577  132  239  354   97  110  123  267  152\n",
      "    9  296   76  260  178  639  288  215   85  436  231  169   20  293   14\n",
      "   41  294  950  254  237  248  158  160   35  421  129  331  276  134   26\n",
      "  224  148 1114   67  207   66    7  348  363  597   74  249    8  140  114\n",
      "  163  227   17  252  336  115  171  168  430  390  122   89  305   27  388\n",
      "   81  229  161   33   82  144   50  554  146  244  166  376  200  193  265\n",
      "  141  320   68  291  112   21  167  292  109  349   90  285  192  153   30\n",
      "   42  543   12  443  409  502   32  405  679  159  266  176  218  208  264\n",
      "  678   23  342  880  542  445  545  347  357   38    3  138   31  493  154\n",
      "  220  233  383  726   44  191  165  256   22  263  774  174  206  259  370\n",
      "  238  350  627  156  269  453  358   43   72  298   29  209   45  602  411\n",
      "  313  426  180  247  384  202   19  300  199   13  235  281  366  157  297\n",
      "  236  275  673  273  130  303  410  333   49  149  398    4  257  369  332\n",
      "   25  561  234   79  549  396    1   69  245  377  343  690  221  182  322\n",
      "  460   60   48  268  360   52  359  418  416  102  346  242  325  335   77\n",
      "  251  204 1064  494  379  321  527  261  881  476  406  279  498  353   78\n",
      "  506  271  399  374  935  188  282  228  255   16  270  385  427   40  402\n",
      "  677  990  246  439  283  367  241  219  345  364  356  541  458  373  431\n",
      "  544  433  663  488  604   47  352  489  507  473  984  657  490  404  318\n",
      "  253  387  338  578  518  547  394  452  510  302  515  530  521  230  280\n",
      "  608  613 1168  629  709  696  607  509  475  500  599  612  250    6  389\n",
      "  329  640  272  307  407  587  671  826  306  465  375  474  184  417  240\n",
      "  323  289  782  368  496  316  223  344  420  514  391  477  459  633  809\n",
      "  449  284  425  429 1137  337  326  485  412  572  644  435  355  447  308\n",
      "  670  456  793  415  768  419  552  681  820  351  511  339  471  680  319\n",
      "  482  567  536  278  454  689  598  382  330  492  519  381  875 1237  684\n",
      "  299  314  472  618  317  723  424  468  444  437  600  442  315  513  731\n",
      "  505  461  516  556  623  479  638  694  448  311  450  592  801  395  724\n",
      "  628  441  945  524  767  304  523  535 1054  504  686  664  532  327 1033\n",
      "  310  508  365  438  821  852  798  631  414  576  432  497  334  647  538\n",
      "  522  455  692  585  481  642  568  428  287  422  486  397  864  921  620\n",
      "  668  676  871  667  566  888  646  548  361  789  661  529  537  484  865\n",
      "  665  707  619  341  635  534  777  559  894  752  528  584  560  840 3283\n",
      "  301  340 1082  687  603  570 1158  594  645]\n",
      "numwords_in_url\n",
      "[ 8  9 11  5 10  3  0  4  2  6  7 16  1 14 13 12 15 17 21 18 19 20]\n",
      "parametrizedLinkRatio\n",
      "[ 0.15294118  0.18181818  0.16666667 ...,  0.15827338  0.45581395\n",
      "  0.43421053]\n",
      "spelling_errors_ratio\n",
      "[ 0.07912957  0.12544803  0.05761317 ...,  0.07786885  0.02232855\n",
      "  0.10945274]\n",
      "label\n",
      "[0 1]\n",
      "religion\n",
      "[0 1]\n"
     ]
    }
   ],
   "source": [
    "col2 = df.columns\n",
    "for i in col2:\n",
    "    print i\n",
    "    print df[i].unique()"
   ]
  },
  {
   "cell_type": "code",
   "execution_count": 73,
   "metadata": {
    "collapsed": true
   },
   "outputs": [],
   "source": [
    "from sklearn.preprocessing import StandardScaler"
   ]
  },
  {
   "cell_type": "code",
   "execution_count": 74,
   "metadata": {
    "collapsed": false
   },
   "outputs": [
    {
     "data": {
      "text/plain": [
       "Index([u'url', u'urlid', u'boilerplate', u'alchemy_category',\n",
       "       u'alchemy_category_score', u'avglinksize', u'commonlinkratio_1',\n",
       "       u'commonlinkratio_2', u'commonlinkratio_3', u'commonlinkratio_4',\n",
       "       u'compression_ratio', u'embed_ratio', u'framebased', u'frameTagRatio',\n",
       "       u'hasDomainLink', u'html_ratio', u'image_ratio', u'is_news',\n",
       "       u'lengthyLinkDomain', u'linkwordscore', u'news_front_page',\n",
       "       u'non_markup_alphanum_characters', u'numberOfLinks', u'numwords_in_url',\n",
       "       u'parametrizedLinkRatio', u'spelling_errors_ratio', u'label',\n",
       "       u'religion'],\n",
       "      dtype='object')"
      ]
     },
     "execution_count": 74,
     "metadata": {},
     "output_type": "execute_result"
    }
   ],
   "source": [
    "df.columns"
   ]
  },
  {
   "cell_type": "code",
   "execution_count": 75,
   "metadata": {
    "collapsed": true
   },
   "outputs": [],
   "source": [
    "standard_scaler = StandardScaler() #initialize the function"
   ]
  },
  {
   "cell_type": "code",
   "execution_count": 76,
   "metadata": {
    "collapsed": true
   },
   "outputs": [],
   "source": [
    "norm = df[['alchemy_category_score','avglinksize','commonlinkratio_1','commonlinkratio_2','commonlinkratio_3','commonlinkratio_4','compression_ratio','embed_ratio','frameTagRatio','html_ratio','image_ratio','linkwordscore','non_markup_alphanum_characters','numberOfLinks','numwords_in_url','parametrizedLinkRatio','spelling_errors_ratio']]\n",
    "# columns to normalized"
   ]
  },
  {
   "cell_type": "code",
   "execution_count": 77,
   "metadata": {
    "collapsed": true
   },
   "outputs": [],
   "source": [
    "binary = df[['alchemy_category','hasDomainLink','lengthyLinkDomain','religion']] #binary columns"
   ]
  },
  {
   "cell_type": "code",
   "execution_count": 78,
   "metadata": {
    "collapsed": true
   },
   "outputs": [],
   "source": [
    "pred_norm = standard_scaler.fit_transform(norm)"
   ]
  },
  {
   "cell_type": "code",
   "execution_count": 79,
   "metadata": {
    "collapsed": false
   },
   "outputs": [],
   "source": [
    "pred_norm_df = pd.DataFrame(pred_norm, columns = ['alchemy_category_score','avglinksize','commonlinkratio_1','commonlinkratio_2','commonlinkratio_3','commonlinkratio_4','compression_ratio','embed_ratio','frameTagRatio','html_ratio','image_ratio','linkwordscore','non_markup_alphanum_characters','numberOfLinks','numwords_in_url','parametrizedLinkRatio','spelling_errors_ratio']\n",
    "\n",
    ")\n",
    "\n",
    "# normalized columns"
   ]
  },
  {
   "cell_type": "code",
   "execution_count": 80,
   "metadata": {
    "collapsed": false
   },
   "outputs": [],
   "source": [
    "df_list = [pred_norm_df,binary]  #list of dataframes to concat\n",
    "final = pd.concat(df_list,axis=1) #concat dataframes"
   ]
  },
  {
   "cell_type": "code",
   "execution_count": 81,
   "metadata": {
    "collapsed": false
   },
   "outputs": [
    {
     "data": {
      "text/html": [
       "<div>\n",
       "<table border=\"1\" class=\"dataframe\">\n",
       "  <thead>\n",
       "    <tr style=\"text-align: right;\">\n",
       "      <th></th>\n",
       "      <th>alchemy_category_score</th>\n",
       "      <th>avglinksize</th>\n",
       "      <th>commonlinkratio_1</th>\n",
       "      <th>commonlinkratio_2</th>\n",
       "      <th>commonlinkratio_3</th>\n",
       "      <th>commonlinkratio_4</th>\n",
       "      <th>compression_ratio</th>\n",
       "      <th>embed_ratio</th>\n",
       "      <th>frameTagRatio</th>\n",
       "      <th>html_ratio</th>\n",
       "      <th>...</th>\n",
       "      <th>linkwordscore</th>\n",
       "      <th>non_markup_alphanum_characters</th>\n",
       "      <th>numberOfLinks</th>\n",
       "      <th>numwords_in_url</th>\n",
       "      <th>parametrizedLinkRatio</th>\n",
       "      <th>spelling_errors_ratio</th>\n",
       "      <th>alchemy_category</th>\n",
       "      <th>hasDomainLink</th>\n",
       "      <th>lengthyLinkDomain</th>\n",
       "      <th>religion</th>\n",
       "    </tr>\n",
       "  </thead>\n",
       "  <tbody>\n",
       "    <tr>\n",
       "      <th>0</th>\n",
       "      <td>0.872929</td>\n",
       "      <td>-0.087405</td>\n",
       "      <td>1.070957</td>\n",
       "      <td>-0.053563</td>\n",
       "      <td>-0.476356</td>\n",
       "      <td>-0.364570</td>\n",
       "      <td>-0.227466</td>\n",
       "      <td>0.251504</td>\n",
       "      <td>0.810149</td>\n",
       "      <td>0.217550</td>\n",
       "      <td>...</td>\n",
       "      <td>-0.301910</td>\n",
       "      <td>-0.002065</td>\n",
       "      <td>-0.056684</td>\n",
       "      <td>0.900988</td>\n",
       "      <td>-0.102446</td>\n",
       "      <td>-0.299721</td>\n",
       "      <td>business</td>\n",
       "      <td>0.0</td>\n",
       "      <td>1.0</td>\n",
       "      <td>0.0</td>\n",
       "    </tr>\n",
       "    <tr>\n",
       "      <th>1</th>\n",
       "      <td>-0.137131</td>\n",
       "      <td>0.072665</td>\n",
       "      <td>0.223493</td>\n",
       "      <td>0.521774</td>\n",
       "      <td>1.310514</td>\n",
       "      <td>1.328311</td>\n",
       "      <td>-0.221425</td>\n",
       "      <td>0.251504</td>\n",
       "      <td>1.001572</td>\n",
       "      <td>-0.604411</td>\n",
       "      <td>...</td>\n",
       "      <td>0.494228</td>\n",
       "      <td>-0.066247</td>\n",
       "      <td>0.053313</td>\n",
       "      <td>1.207031</td>\n",
       "      <td>0.061267</td>\n",
       "      <td>0.466929</td>\n",
       "      <td>recreation</td>\n",
       "      <td>0.0</td>\n",
       "      <td>1.0</td>\n",
       "      <td>0.0</td>\n",
       "    </tr>\n",
       "    <tr>\n",
       "      <th>2</th>\n",
       "      <td>1.847334</td>\n",
       "      <td>-0.055110</td>\n",
       "      <td>0.495136</td>\n",
       "      <td>0.750383</td>\n",
       "      <td>0.306487</td>\n",
       "      <td>-0.096940</td>\n",
       "      <td>-0.207625</td>\n",
       "      <td>0.251504</td>\n",
       "      <td>0.367976</td>\n",
       "      <td>-0.159626</td>\n",
       "      <td>...</td>\n",
       "      <td>1.240607</td>\n",
       "      <td>-0.455182</td>\n",
       "      <td>0.512712</td>\n",
       "      <td>1.819117</td>\n",
       "      <td>-0.024632</td>\n",
       "      <td>-0.655854</td>\n",
       "      <td>health</td>\n",
       "      <td>0.0</td>\n",
       "      <td>1.0</td>\n",
       "      <td>0.0</td>\n",
       "    </tr>\n",
       "    <tr>\n",
       "      <th>3</th>\n",
       "      <td>0.929859</td>\n",
       "      <td>-0.137965</td>\n",
       "      <td>-0.319960</td>\n",
       "      <td>-0.788510</td>\n",
       "      <td>-0.801849</td>\n",
       "      <td>-0.694157</td>\n",
       "      <td>-0.218491</td>\n",
       "      <td>0.251504</td>\n",
       "      <td>0.932883</td>\n",
       "      <td>0.602397</td>\n",
       "      <td>...</td>\n",
       "      <td>-0.301910</td>\n",
       "      <td>-0.384454</td>\n",
       "      <td>-0.380205</td>\n",
       "      <td>-0.017140</td>\n",
       "      <td>-0.733296</td>\n",
       "      <td>0.059928</td>\n",
       "      <td>health</td>\n",
       "      <td>0.0</td>\n",
       "      <td>0.0</td>\n",
       "      <td>0.0</td>\n",
       "    </tr>\n",
       "    <tr>\n",
       "      <th>4</th>\n",
       "      <td>0.544170</td>\n",
       "      <td>-0.026144</td>\n",
       "      <td>0.183138</td>\n",
       "      <td>0.059854</td>\n",
       "      <td>0.341848</td>\n",
       "      <td>-0.088896</td>\n",
       "      <td>-0.226893</td>\n",
       "      <td>0.251504</td>\n",
       "      <td>-0.779066</td>\n",
       "      <td>-0.111376</td>\n",
       "      <td>...</td>\n",
       "      <td>-0.799496</td>\n",
       "      <td>0.938323</td>\n",
       "      <td>-0.108447</td>\n",
       "      <td>1.513074</td>\n",
       "      <td>-0.409585</td>\n",
       "      <td>-0.242796</td>\n",
       "      <td>sports</td>\n",
       "      <td>0.0</td>\n",
       "      <td>1.0</td>\n",
       "      <td>0.0</td>\n",
       "    </tr>\n",
       "  </tbody>\n",
       "</table>\n",
       "<p>5 rows × 21 columns</p>\n",
       "</div>"
      ],
      "text/plain": [
       "   alchemy_category_score  avglinksize  commonlinkratio_1  commonlinkratio_2  \\\n",
       "0                0.872929    -0.087405           1.070957          -0.053563   \n",
       "1               -0.137131     0.072665           0.223493           0.521774   \n",
       "2                1.847334    -0.055110           0.495136           0.750383   \n",
       "3                0.929859    -0.137965          -0.319960          -0.788510   \n",
       "4                0.544170    -0.026144           0.183138           0.059854   \n",
       "\n",
       "   commonlinkratio_3  commonlinkratio_4  compression_ratio  embed_ratio  \\\n",
       "0          -0.476356          -0.364570          -0.227466     0.251504   \n",
       "1           1.310514           1.328311          -0.221425     0.251504   \n",
       "2           0.306487          -0.096940          -0.207625     0.251504   \n",
       "3          -0.801849          -0.694157          -0.218491     0.251504   \n",
       "4           0.341848          -0.088896          -0.226893     0.251504   \n",
       "\n",
       "   frameTagRatio  html_ratio    ...     linkwordscore  \\\n",
       "0       0.810149    0.217550    ...         -0.301910   \n",
       "1       1.001572   -0.604411    ...          0.494228   \n",
       "2       0.367976   -0.159626    ...          1.240607   \n",
       "3       0.932883    0.602397    ...         -0.301910   \n",
       "4      -0.779066   -0.111376    ...         -0.799496   \n",
       "\n",
       "   non_markup_alphanum_characters  numberOfLinks  numwords_in_url  \\\n",
       "0                       -0.002065      -0.056684         0.900988   \n",
       "1                       -0.066247       0.053313         1.207031   \n",
       "2                       -0.455182       0.512712         1.819117   \n",
       "3                       -0.384454      -0.380205        -0.017140   \n",
       "4                        0.938323      -0.108447         1.513074   \n",
       "\n",
       "   parametrizedLinkRatio  spelling_errors_ratio  alchemy_category  \\\n",
       "0              -0.102446              -0.299721          business   \n",
       "1               0.061267               0.466929        recreation   \n",
       "2              -0.024632              -0.655854            health   \n",
       "3              -0.733296               0.059928            health   \n",
       "4              -0.409585              -0.242796            sports   \n",
       "\n",
       "  hasDomainLink  lengthyLinkDomain  religion  \n",
       "0           0.0                1.0       0.0  \n",
       "1           0.0                1.0       0.0  \n",
       "2           0.0                1.0       0.0  \n",
       "3           0.0                0.0       0.0  \n",
       "4           0.0                1.0       0.0  \n",
       "\n",
       "[5 rows x 21 columns]"
      ]
     },
     "execution_count": 81,
     "metadata": {},
     "output_type": "execute_result"
    }
   ],
   "source": [
    "final.head()"
   ]
  },
  {
   "cell_type": "code",
   "execution_count": 82,
   "metadata": {
    "collapsed": false
   },
   "outputs": [
    {
     "data": {
      "text/plain": [
       "<matplotlib.axes._subplots.AxesSubplot at 0x11a204a90>"
      ]
     },
     "execution_count": 82,
     "metadata": {},
     "output_type": "execute_result"
    },
    {
     "data": {
      "image/png": "[encoded data removed]",
      "text/plain": [
       "<matplotlib.figure.Figure at 0x11a212990>"
      ]
     },
     "metadata": {},
     "output_type": "display_data"
    }
   ],
   "source": [
    "sns.distplot(pred_norm[:,0])"
   ]
  },
  {
   "cell_type": "markdown",
   "metadata": {},
   "source": [
    "### 7.2 Use patsy to create an X matrix of the numeric predictors and all two-way interactions between them\n",
    "\n",
    "Ex:\n",
    "\n",
    "```python\n",
    "import patsy\n",
    "\n",
    "formula_interactions = '~ (var1 + var2 + var3)**2 -1'\n",
    "X_interactions = patsy.dmatrix(formula_interactions, data=data\n",
    "```\n",
    "\n",
    "Get the column names from the `design_info` property of the patsy X matrix.\n",
    "\n",
    "---"
   ]
  },
  {
   "cell_type": "code",
   "execution_count": 83,
   "metadata": {
    "collapsed": true
   },
   "outputs": [],
   "source": [
    "#goal is to see how the variables together (not individually) affect the response variable"
   ]
  },
  {
   "cell_type": "markdown",
   "metadata": {},
   "source": [
    "### 7.3 Normalize the predictor matrix columns\n",
    "\n",
    "---"
   ]
  },
  {
   "cell_type": "markdown",
   "metadata": {},
   "source": [
    "### 7.4 Gridsearch a logistic regression to predict accuracy on your new target from the interaction predictors\n",
    "\n",
    "Include Ridge and Lasso.\n",
    "\n",
    "---"
   ]
  },
  {
   "cell_type": "code",
   "execution_count": 84,
   "metadata": {
    "collapsed": false
   },
   "outputs": [],
   "source": [
    "from sklearn.linear_model import LogisticRegression\n",
    "from sklearn.grid_search import GridSearchCV\n",
    "from sklearn.metrics import classification_report\n"
   ]
  },
  {
   "cell_type": "code",
   "execution_count": 87,
   "metadata": {
    "collapsed": false
   },
   "outputs": [],
   "source": [
    "import patsy\n",
    "\n",
    "formula8 = \"\"\"religion~ (alchemy_category_score) + (avglinksize + commonlinkratio_1 + \n",
    "commonlinkratio_2 + commonlinkratio_3)**2 + (compression_ratio + \n",
    "embed_ratio + frameTagRatio + html_ratio + image_ratio)**2 + linkwordscore + \n",
    "non_markup_alphanum_characters +(parametrizedLinkRatio + spelling_errors_ratio)**2 + C(hasDomainLink) + C(lengthyLinkDomain) -1\n",
    "\"\"\"\n",
    "\n",
    "\n",
    "\n",
    "Y8, X8 = patsy.dmatrices(formula8, data = df)"
   ]
  },
  {
   "cell_type": "code",
   "execution_count": 88,
   "metadata": {
    "collapsed": false
   },
   "outputs": [],
   "source": [
    "logistic3 = linear_model.LogisticRegression()\n",
    "\n",
    "#X8_train, X8_test, Y8_train, Y8_test = train_test_split(X8, Y8, test_size=0.33)\n",
    "\n",
    "#y8_train = np.ravel(Y8_train)\n",
    "\n",
    "\n",
    "\n",
    "#y8_true, y8_pred = Y8_test, estimator3.predict(X8_test)\n",
    "\n"
   ]
  },
  {
   "cell_type": "code",
   "execution_count": 89,
   "metadata": {
    "collapsed": false
   },
   "outputs": [],
   "source": [
    "Ct = np.logspace(0.0, 5.0, 20)\n",
    "\n",
    "search_parameters3 = {\n",
    "    \"penalty\":             ['l1','l2'],   \n",
    "    \"C\":                   Ct,  \n",
    "    \"fit_intercept\":       [False, True], \n",
    "    \"class_weight\":        [None, \"balanced\"], \n",
    "    \"intercept_scaling\":   [2, 1],        \n",
    "    \"warm_start\":          [False, True]\n",
    "}\n",
    "\n",
    "estimator3 = GridSearchCV(logistic3, search_parameters3)"
   ]
  },
  {
   "cell_type": "code",
   "execution_count": 90,
   "metadata": {
    "collapsed": false
   },
   "outputs": [
    {
     "data": {
      "text/plain": [
       "GridSearchCV(cv=None, error_score='raise',\n",
       "       estimator=LogisticRegression(C=1.0, class_weight=None, dual=False, fit_intercept=True,\n",
       "          intercept_scaling=1, max_iter=100, multi_class='ovr', n_jobs=1,\n",
       "          penalty='l2', random_state=None, solver='liblinear', tol=0.0001,\n",
       "          verbose=0, warm_start=False),\n",
       "       fit_params={}, iid=True, n_jobs=1,\n",
       "       param_grid={'warm_start': [False, True], 'C': array([  1.00000e+00,   1.83298e+00,   3.35982e+00,   6.15848e+00,\n",
       "         1.12884e+01,   2.06914e+01,   3.79269e+01,   6.95193e+01,\n",
       "         1.27427e+02,   2.33572e+02,   4.28133e+02,   7.84760e+02,\n",
       "         1.43845e+03,   2.63665e+03,   4.83293e+03,  ...[2, 1], 'fit_intercept': [False, True], 'penalty': ['l1', 'l2'], 'class_weight': [None, 'balanced']},\n",
       "       pre_dispatch='2*n_jobs', refit=True, scoring=None, verbose=0)"
      ]
     },
     "execution_count": 90,
     "metadata": {},
     "output_type": "execute_result"
    }
   ],
   "source": [
    "y8 = np.ravel(Y8)\n",
    "estimator3.fit(X8, y8)"
   ]
  },
  {
   "cell_type": "code",
   "execution_count": 91,
   "metadata": {
    "collapsed": false
   },
   "outputs": [
    {
     "name": "stdout",
     "output_type": "stream",
     "text": [
      "Best Estimator: 1.0\n",
      "Best Params: {'warm_start': False, 'C': 1.0, 'intercept_scaling': 2, 'fit_intercept': False, 'penalty': 'l1', 'class_weight': None}\n",
      "Best Score: 0.98555313675\n"
     ]
    }
   ],
   "source": [
    "\n",
    "print \"Best Estimator:\", estimator3.best_estimator_.C\n",
    "# print best parameters for model\n",
    "print \"Best Params:\", estimator3.best_params_\n",
    "#print best score of model\n",
    "print \"Best Score:\", estimator3.best_score_"
   ]
  },
  {
   "cell_type": "code",
   "execution_count": null,
   "metadata": {
    "collapsed": true
   },
   "outputs": [],
   "source": [
    "# I could not get my grid search to complete running so I stopped."
   ]
  },
  {
   "cell_type": "markdown",
   "metadata": {},
   "source": [
    "### 7.5 Build a logistic regression with the optimal parameters, and look at the coefficients\n",
    "\n",
    "---"
   ]
  },
  {
   "cell_type": "code",
   "execution_count": null,
   "metadata": {
    "collapsed": true
   },
   "outputs": [],
   "source": []
  },
  {
   "cell_type": "markdown",
   "metadata": {},
   "source": [
    "### 7.6 Gridsearch parameters for a logistic regression with the same target and predictors, but score based on precision rather than accuracy\n",
    "\n",
    "Look at the documentation.\n",
    "\n",
    "---"
   ]
  },
  {
   "cell_type": "code",
   "execution_count": null,
   "metadata": {
    "collapsed": true
   },
   "outputs": [],
   "source": []
  },
  {
   "cell_type": "markdown",
   "metadata": {},
   "source": [
    "## [BONUS] 8. Build models predicting from words\n",
    "\n",
    "This is a bit of the NLP we covered in the pipeline lecture!\n",
    "\n",
    "---"
   ]
  },
  {
   "cell_type": "markdown",
   "metadata": {},
   "source": [
    "### 8.1 Choose 'body' or 'title' from the boilerplate to be the basis of your word predictors\n",
    "\n",
    "You will need to parse the json from the boilerplate field.\n",
    "\n",
    "---"
   ]
  },
  {
   "cell_type": "code",
   "execution_count": null,
   "metadata": {
    "collapsed": true
   },
   "outputs": [],
   "source": [
    "import json"
   ]
  },
  {
   "cell_type": "markdown",
   "metadata": {},
   "source": [
    "### 8.2 Use CountVectorizer to create your predictor matrix from the string column\n",
    "\n",
    "It is up to you what range of ngrams and features, and whether or not you want the columns binary or counts.\n",
    "\n",
    "---"
   ]
  },
  {
   "cell_type": "code",
   "execution_count": null,
   "metadata": {
    "collapsed": true
   },
   "outputs": [],
   "source": []
  },
  {
   "cell_type": "markdown",
   "metadata": {},
   "source": [
    "### 8.3 Gridsearch a logistic regression predicting accuracy of your chosen target category from word predictor matrix\n",
    "\n",
    "---"
   ]
  },
  {
   "cell_type": "code",
   "execution_count": null,
   "metadata": {
    "collapsed": true
   },
   "outputs": [],
   "source": []
  },
  {
   "cell_type": "markdown",
   "metadata": {},
   "source": [
    "### 8.4 Do the same as above, but score the gridsearch based on precision rather than accuracy\n",
    "\n",
    "---"
   ]
  },
  {
   "cell_type": "code",
   "execution_count": null,
   "metadata": {
    "collapsed": true
   },
   "outputs": [],
   "source": []
  },
  {
   "cell_type": "markdown",
   "metadata": {},
   "source": [
    "### 8.5 Build a logistic regression with optimal precision categories\n",
    "\n",
    "Print out the top 20 or 25 word features as ranked by their coefficients.\n",
    "\n",
    "---"
   ]
  },
  {
   "cell_type": "code",
   "execution_count": null,
   "metadata": {
    "collapsed": true
   },
   "outputs": [],
   "source": []
  }
 ],
 "metadata": {
  "kernelspec": {
   "display_name": "Python 2",
   "language": "python",
   "name": "python2"
  },
  "language_info": {
   "codemirror_mode": {
    "name": "ipython",
    "version": 2
   },
   "file_extension": ".py",
   "mimetype": "text/x-python",
   "name": "python",
   "nbconvert_exporter": "python",
   "pygments_lexer": "ipython2",
   "version": "2.7.11"
  }
 },
 "nbformat": 4,
 "nbformat_minor": 0
}
