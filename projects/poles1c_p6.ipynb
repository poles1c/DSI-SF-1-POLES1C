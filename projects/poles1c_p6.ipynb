{
 "cells": [
  {
   "cell_type": "markdown",
   "metadata": {},
   "source": [
    "# Project 6: IMDB\n",
    "\n",
    "This project involves NLP, decision trees, bagging, boosting, and more!\n",
    "\n",
    "---"
   ]
  },
  {
   "cell_type": "markdown",
   "metadata": {},
   "source": [
    "## Load packages\n",
    "\n",
    "You are likely going to need to install the `imdbpie` package:\n",
    "\n",
    "    > pip install imdbpie\n",
    "\n",
    "---"
   ]
  },
  {
   "cell_type": "code",
   "execution_count": 1,
   "metadata": {
    "collapsed": false
   },
   "outputs": [],
   "source": [
    "import os\n",
    "import subprocess\n",
    "import collections\n",
    "import re\n",
    "import csv\n",
    "import json\n",
    "\n",
    "import pandas as pd\n",
    "import numpy as np\n",
    "import scipy\n",
    "\n",
    "from sklearn.ensemble import RandomForestClassifier\n",
    "from sklearn.ensemble import RandomForestRegressor\n",
    "\n",
    "import psycopg2\n",
    "import requests\n",
    "from imdbpie import Imdb\n",
    "import nltk\n",
    "\n",
    "import urllib\n",
    "from bs4 import BeautifulSoup\n",
    "import nltk\n",
    "\n",
    "import matplotlib.pyplot as plt\n",
    "import seaborn as sns\n",
    "\n",
    "%matplotlib inline"
   ]
  },
  {
   "cell_type": "markdown",
   "metadata": {},
   "source": [
    "---\n",
    "\n",
    "## Part 1: Acquire the Data\n",
    "\n",
    "You will connect to the IMDB API to query for movies. \n",
    "\n",
    "See here for documentation on how to use the package:\n",
    "\n",
    "https://github.com/richardasaurus/imdb-pie"
   ]
  },
  {
   "cell_type": "markdown",
   "metadata": {},
   "source": [
    "#### 1. Connect to the IMDB API"
   ]
  },
  {
   "cell_type": "code",
   "execution_count": 2,
   "metadata": {
    "collapsed": true
   },
   "outputs": [],
   "source": [
    "imdb = Imdb()\n",
    "imdb = Imdb(anonymize=True)\n",
    "imdb = Imdb(cache=True)"
   ]
  },
  {
   "cell_type": "markdown",
   "metadata": {},
   "source": [
    "#### 2. Query the top 250 rated movies in the database"
   ]
  },
  {
   "cell_type": "code",
   "execution_count": 3,
   "metadata": {
    "collapsed": false
   },
   "outputs": [],
   "source": [
    "tp250 = imdb.top_250()\n",
    "#[{'title': 'The Shawshank Redemption', 'year': '1994', 'type': 'feature', 'rating': 9.3,...}, ...]"
   ]
  },
  {
   "cell_type": "markdown",
   "metadata": {},
   "source": [
    "#### 3. Make a dataframe from the movie data\n",
    "\n",
    "Keep the fields:\n",
    "\n",
    "    num_votes\n",
    "    rating\n",
    "    tconst\n",
    "    title\n",
    "    year\n",
    "    \n",
    "And discard the rest"
   ]
  },
  {
   "cell_type": "code",
   "execution_count": 4,
   "metadata": {
    "collapsed": false,
    "scrolled": true
   },
   "outputs": [],
   "source": [
    "df = pd.DataFrame(tp250)"
   ]
  },
  {
   "cell_type": "code",
   "execution_count": 5,
   "metadata": {
    "collapsed": false
   },
   "outputs": [
    {
     "data": {
      "text/html": [
       "<div>\n",
       "<table border=\"1\" class=\"dataframe\">\n",
       "  <thead>\n",
       "    <tr style=\"text-align: right;\">\n",
       "      <th></th>\n",
       "      <th>can_rate</th>\n",
       "      <th>image</th>\n",
       "      <th>num_votes</th>\n",
       "      <th>rating</th>\n",
       "      <th>tconst</th>\n",
       "      <th>title</th>\n",
       "      <th>type</th>\n",
       "      <th>year</th>\n",
       "    </tr>\n",
       "  </thead>\n",
       "  <tbody>\n",
       "    <tr>\n",
       "      <th>0</th>\n",
       "      <td>True</td>\n",
       "      <td>{u'url': u'http://ia.media-imdb.com/images/M/M...</td>\n",
       "      <td>1659650</td>\n",
       "      <td>9.3</td>\n",
       "      <td>tt0111161</td>\n",
       "      <td>The Shawshank Redemption</td>\n",
       "      <td>feature</td>\n",
       "      <td>1994</td>\n",
       "    </tr>\n",
       "    <tr>\n",
       "      <th>1</th>\n",
       "      <td>True</td>\n",
       "      <td>{u'url': u'http://ia.media-imdb.com/images/M/M...</td>\n",
       "      <td>1135992</td>\n",
       "      <td>9.2</td>\n",
       "      <td>tt0068646</td>\n",
       "      <td>The Godfather</td>\n",
       "      <td>feature</td>\n",
       "      <td>1972</td>\n",
       "    </tr>\n",
       "    <tr>\n",
       "      <th>2</th>\n",
       "      <td>True</td>\n",
       "      <td>{u'url': u'http://ia.media-imdb.com/images/M/M...</td>\n",
       "      <td>775849</td>\n",
       "      <td>9.0</td>\n",
       "      <td>tt0071562</td>\n",
       "      <td>The Godfather: Part II</td>\n",
       "      <td>feature</td>\n",
       "      <td>1974</td>\n",
       "    </tr>\n",
       "    <tr>\n",
       "      <th>3</th>\n",
       "      <td>True</td>\n",
       "      <td>{u'url': u'http://ia.media-imdb.com/images/M/M...</td>\n",
       "      <td>1645344</td>\n",
       "      <td>9.0</td>\n",
       "      <td>tt0468569</td>\n",
       "      <td>The Dark Knight</td>\n",
       "      <td>feature</td>\n",
       "      <td>2008</td>\n",
       "    </tr>\n",
       "    <tr>\n",
       "      <th>4</th>\n",
       "      <td>True</td>\n",
       "      <td>{u'url': u'http://ia.media-imdb.com/images/M/M...</td>\n",
       "      <td>849066</td>\n",
       "      <td>8.9</td>\n",
       "      <td>tt0108052</td>\n",
       "      <td>Schindler's List</td>\n",
       "      <td>feature</td>\n",
       "      <td>1993</td>\n",
       "    </tr>\n",
       "  </tbody>\n",
       "</table>\n",
       "</div>"
      ],
      "text/plain": [
       "  can_rate                                              image  num_votes  \\\n",
       "0     True  {u'url': u'http://ia.media-imdb.com/images/M/M...    1659650   \n",
       "1     True  {u'url': u'http://ia.media-imdb.com/images/M/M...    1135992   \n",
       "2     True  {u'url': u'http://ia.media-imdb.com/images/M/M...     775849   \n",
       "3     True  {u'url': u'http://ia.media-imdb.com/images/M/M...    1645344   \n",
       "4     True  {u'url': u'http://ia.media-imdb.com/images/M/M...     849066   \n",
       "\n",
       "   rating     tconst                     title     type  year  \n",
       "0     9.3  tt0111161  The Shawshank Redemption  feature  1994  \n",
       "1     9.2  tt0068646             The Godfather  feature  1972  \n",
       "2     9.0  tt0071562    The Godfather: Part II  feature  1974  \n",
       "3     9.0  tt0468569           The Dark Knight  feature  2008  \n",
       "4     8.9  tt0108052          Schindler's List  feature  1993  "
      ]
     },
     "execution_count": 5,
     "metadata": {},
     "output_type": "execute_result"
    }
   ],
   "source": [
    "df.head()"
   ]
  },
  {
   "cell_type": "markdown",
   "metadata": {},
   "source": [
    "# Delete columns as specified"
   ]
  },
  {
   "cell_type": "code",
   "execution_count": 6,
   "metadata": {
    "collapsed": true
   },
   "outputs": [],
   "source": [
    "#del column \n",
    "# del(deletes)\n",
    "#dataframe name and name of column in brackets\n",
    "del df[\"can_rate\"]"
   ]
  },
  {
   "cell_type": "code",
   "execution_count": 7,
   "metadata": {
    "collapsed": false
   },
   "outputs": [],
   "source": [
    "del df[\"image\"]"
   ]
  },
  {
   "cell_type": "code",
   "execution_count": 8,
   "metadata": {
    "collapsed": true
   },
   "outputs": [],
   "source": [
    "del df[\"type\"]"
   ]
  },
  {
   "cell_type": "code",
   "execution_count": 9,
   "metadata": {
    "collapsed": false
   },
   "outputs": [
    {
     "data": {
      "text/plain": [
       "num_votes      int64\n",
       "rating       float64\n",
       "tconst        object\n",
       "title         object\n",
       "year          object\n",
       "dtype: object"
      ]
     },
     "execution_count": 9,
     "metadata": {},
     "output_type": "execute_result"
    }
   ],
   "source": [
    "df.dtypes"
   ]
  },
  {
   "cell_type": "markdown",
   "metadata": {},
   "source": [
    "# Convert year to integer"
   ]
  },
  {
   "cell_type": "code",
   "execution_count": 10,
   "metadata": {
    "collapsed": true
   },
   "outputs": [],
   "source": [
    "df[\"year\"] = df[\"year\"].astype(int)"
   ]
  },
  {
   "cell_type": "markdown",
   "metadata": {},
   "source": [
    "# check unique values in columns for oddities"
   ]
  },
  {
   "cell_type": "code",
   "execution_count": 11,
   "metadata": {
    "collapsed": false
   },
   "outputs": [
    {
     "name": "stdout",
     "output_type": "stream",
     "text": [
      "num_votes\n",
      "[1659650 1135992  775849 1645344  849066  437763 1300701 1194329  494757\n",
      " 1321370 1217791  821075 1224588 1438914 1080496  668490  715454 1195945\n",
      "  225349  894688  524531 1003873  869112  271004  727765  410794  711735\n",
      "  212192  407925  864288  769579  898494  381588  414203  105727  649819\n",
      "  490435  310415  139681  766062  732119  488024  857221  716684  381669\n",
      "  965101  831086  443692  826433  629719  337003  137021  553404  134454\n",
      "  255003  149129  933567  597984  118583  134540  702456 1122878  808988\n",
      "  480682  216768  348814  293390  216999  217031  165618  243861  667524\n",
      "   61422   97373  651864  525010  724509  563422  547452  496856   95782\n",
      "  532589  210810  189319  654012  475630  266023  172420  418988   92454\n",
      "  147339  591448  609372  376183  866240   65371  408118  153805  107261\n",
      "  100620  506211  528007  148877  109801   81547   72631   25463   77816\n",
      "  962161  164969  200579  172189  592594  272889  649396  111790  231508\n",
      "  320261  244670  583042  162779  212601  424902  137835  211710  459620\n",
      "   98929  167399   76314   41272   76083  146542   66390  533085  128415\n",
      "  109800   28423  454677  408813   25132  209019   52455  327461   61978\n",
      "  159432   27389  326100  758173  597781   43341  777739  553466  527478\n",
      "   78068  100577  228855   85873  446085  461659  211831  104137  118136\n",
      "  474570  693373  672912  252917  601137  418094  116589  553326  722656\n",
      "   63590  304955  267809  366483  260475  286976  111254  403885  524436\n",
      "   34702  167461  101429  149368   68804  768168  266583  107376   60096\n",
      "  427774  460783  170992  289285  474054  157269   84136   71661  150067\n",
      "  189161   61909  364603   93959  598954   66924   41210  168627  479188\n",
      "  179082  571234   77175  654410   64714  367286  286937  589418  571410\n",
      "   39686   25319  530624  455296  429232  648352   94414   90293  404478\n",
      "  101431   36366   99491  373468  179531  434877  163370  448339   42506\n",
      "  509883  795774  975787  659160  313178  494067  143820   96854   98555\n",
      "   30863   78934  302630   74019   68627   43215   48604] rating\n",
      "[ 9.3  9.2  9.   8.9  8.8  8.7  8.6  8.5  8.4  8.3  8.2  8.1  8. ] tconst\n",
      "[u'tt0111161' u'tt0068646' u'tt0071562' u'tt0468569' u'tt0108052'\n",
      " u'tt0050083' u'tt0110912' u'tt0167260' u'tt0060196' u'tt0137523'\n",
      " u'tt0120737' u'tt0080684' u'tt0109830' u'tt1375666' u'tt0167261'\n",
      " u'tt0073486' u'tt0099685' u'tt0133093' u'tt0047478' u'tt0076759'\n",
      " u'tt0317248' u'tt0114369' u'tt0102926' u'tt0038650' u'tt0114814'\n",
      " u'tt0118799' u'tt0110413' u'tt0064116' u'tt0245429' u'tt0120815'\n",
      " u'tt0120586' u'tt0816692' u'tt0034583' u'tt0054215' u'tt0021749'\n",
      " u'tt0082971' u'tt1675434' u'tt0047396' u'tt0027977' u'tt0120689'\n",
      " u'tt0103064' u'tt0253474' u'tt0407887' u'tt0088763' u'tt2582802'\n",
      " u'tt0172495' u'tt0209144' u'tt0078788' u'tt0482571' u'tt0110357'\n",
      " u'tt0057012' u'tt0043014' u'tt0078748' u'tt0032553' u'tt0405094'\n",
      " u'tt0095765' u'tt1853728' u'tt0081505' u'tt0050825' u'tt0095327'\n",
      " u'tt0910970' u'tt1345836' u'tt0169547' u'tt0090605' u'tt0119698'\n",
      " u'tt0364569' u'tt0033467' u'tt0053125' u'tt0087843' u'tt0082096'\n",
      " u'tt0052357' u'tt0086190' u'tt0051201' u'tt0022100' u'tt0105236'\n",
      " u'tt0211915' u'tt0112573' u'tt0180093' u'tt0066921' u'tt0075314'\n",
      " u'tt0036775' u'tt0435761' u'tt0056592' u'tt0056172' u'tt0338013'\n",
      " u'tt0093058' u'tt0086879' u'tt0070735' u'tt0062622' u'tt0040522'\n",
      " u'tt0045152' u'tt0208092' u'tt0114709' u'tt0071853' u'tt0361748'\n",
      " u'tt0012349' u'tt0119488' u'tt0059578' u'tt0053604' u'tt0042876'\n",
      " u'tt0097576' u'tt0086250' u'tt1832382' u'tt0017136' u'tt0042192'\n",
      " u'tt0055630' u'tt0118849' u'tt0040897' u'tt0372784' u'tt2106476'\n",
      " u'tt1187043' u'tt0053291' u'tt0119217' u'tt0105695' u'tt1049413'\n",
      " u'tt0041959' u'tt0081398' u'tt2096673' u'tt0363163' u'tt0095016'\n",
      " u'tt0057115' u'tt0071315' u'tt0113277' u'tt3170832' u'tt3498820'\n",
      " u'tt0457430' u'tt0047296' u'tt0096283' u'tt0089881' u'tt0044741'\n",
      " u'tt0031679' u'tt0050212' u'tt0015864' u'tt2488496' u'tt1305806'\n",
      " u'tt0050976' u'tt0018455' u'tt0083658' u'tt0120735' u'tt0046438'\n",
      " u'tt0347149' u'tt0017925' u'tt0112641' u'tt0050986' u'tt0080678'\n",
      " u'tt0074896' u'tt1291584' u'tt0993846' u'tt0268978' u'tt0055031'\n",
      " u'tt0434409' u'tt1205489' u'tt0118715' u'tt1255953' u'tt2948356'\n",
      " u'tt0077416' u'tt0032976' u'tt0116282' u'tt0117951' u'tt0031381'\n",
      " u'tt0046912' u'tt0061512' u'tt0892769' u'tt0167404' u'tt0266543'\n",
      " u'tt0084787' u'tt0477348' u'tt0758758' u'tt0978762' u'tt2267998'\n",
      " u'tt0266697' u'tt0025316' u'tt1979320' u'tt0079470' u'tt0469494'\n",
      " u'tt0395169' u'tt0091763' u'tt0033870' u'tt1431045' u'tt1392190'\n",
      " u'tt0046268' u'tt1895587' u'tt0074958' u'tt0064115' u'tt0053198'\n",
      " u'tt1130884' u'tt0092005' u'tt0107207' u'tt0060827' u'tt2024544'\n",
      " u'tt2278388' u'tt0245712' u'tt0093779' u'tt0405159' u'tt0052618'\n",
      " u'tt3011894' u'tt0052311' u'tt1028532' u'tt0075686' u'tt0032551'\n",
      " u'tt1663202' u'tt0087544' u'tt0107290' u'tt0079944' u'tt0046911'\n",
      " u'tt0083987' u'tt0440963' u'tt0112471' u'tt0246578' u'tt0056801'\n",
      " u'tt0120382' u'tt0353969' u'tt0075148' u'tt0032138' u'tt0088247'\n",
      " u'tt0198781' u'tt0036868' u'tt0041546' u'tt1201607' u'tt0114746'\n",
      " u'tt0107048' u'tt0401792' u'tt0044079' u'tt0338564' u'tt0073195'\n",
      " u'tt0113247' u'tt0058946' u'tt0072684' u'tt1392214' u'tt0072890'\n",
      " u'tt3659388' u'tt1220719' u'tt2084970' u'tt0083922' u'tt0264464'\n",
      " u'tt0325980' u'tt0848228' u'tt2015381' u'tt1454029' u'tt1504320'\n",
      " u'tt0058461' u'tt0092067' u'tt0046250' u'tt0050613' u'tt0044706'\n",
      " u'tt0101414' u'tt0118694' u'tt0169102' u'tt1954470' u'tt0087884'] title\n",
      "[u'The Shawshank Redemption' u'The Godfather' u'The Godfather: Part II'\n",
      " u'The Dark Knight' u\"Schindler's List\" u'12 Angry Men' u'Pulp Fiction'\n",
      " u'The Lord of the Rings: The Return of the King'\n",
      " u'The Good, the Bad and the Ugly' u'Fight Club'\n",
      " u'The Lord of the Rings: The Fellowship of the Ring'\n",
      " u'Star Wars: Episode V - The Empire Strikes Back' u'Forrest Gump'\n",
      " u'Inception' u'The Lord of the Rings: The Two Towers'\n",
      " u\"One Flew Over the Cuckoo's Nest\" u'Goodfellas' u'The Matrix'\n",
      " u'Seven Samurai' u'Star Wars' u'City of God' u'Se7en'\n",
      " u'The Silence of the Lambs' u\"It's a Wonderful Life\" u'The Usual Suspects'\n",
      " u'Life Is Beautiful' u'L\\xe9on: The Professional'\n",
      " u'Once Upon a Time in the West' u'Spirited Away' u'Saving Private Ryan'\n",
      " u'American History X' u'Interstellar' u'Casablanca' u'Psycho'\n",
      " u'City Lights' u'Raiders of the Lost Ark' u'The Intouchables'\n",
      " u'Rear Window' u'Modern Times' u'The Green Mile'\n",
      " u'Terminator 2: Judgment Day' u'The Pianist' u'The Departed'\n",
      " u'Back to the Future' u'Whiplash' u'Gladiator' u'Memento'\n",
      " u'Apocalypse Now' u'The Prestige' u'The Lion King'\n",
      " u'Dr. Strangelove or: How I Learned to Stop Worrying and Love the Bomb'\n",
      " u'Sunset Blvd.' u'Alien' u'The Great Dictator' u'The Lives of Others'\n",
      " u'Cinema Paradiso' u'Django Unchained' u'The Shining' u'Paths of Glory'\n",
      " u'Grave of the Fireflies' u'WALL\\xb7E' u'The Dark Knight Rises'\n",
      " u'American Beauty' u'Aliens' u'Princess Mononoke' u'Oldboy'\n",
      " u'Citizen Kane' u'North by Northwest' u'Once Upon a Time in America'\n",
      " u'Das Boot' u'Vertigo' u'Star Wars: Episode VI - Return of the Jedi'\n",
      " u'Witness for the Prosecution' u'M' u'Reservoir Dogs' u'Am\\xe9lie'\n",
      " u'Braveheart' u'Requiem for a Dream' u'A Clockwork Orange' u'Taxi Driver'\n",
      " u'Double Indemnity' u'Toy Story 3' u'To Kill a Mockingbird'\n",
      " u'Lawrence of Arabia' u'Eternal Sunshine of the Spotless Mind'\n",
      " u'Full Metal Jacket' u'Amadeus' u'The Sting' u'2001: A Space Odyssey'\n",
      " u'Bicycle Thieves' u\"Singin' in the Rain\" u'Snatch.' u'Toy Story'\n",
      " u'Monty Python and the Holy Grail' u'Inglourious Basterds' u'The Kid'\n",
      " u'L.A. Confidential' u'For a Few Dollars More' u'The Apartment'\n",
      " u'Rashomon' u'Indiana Jones and the Last Crusade' u'Scarface'\n",
      " u'A Separation' u'Metropolis' u'All About Eve' u'Yojimbo'\n",
      " u'Children of Heaven' u'The Treasure of the Sierra Madre' u'Batman Begins'\n",
      " u'The Hunt' u'3 Idiots' u'Some Like It Hot' u'Good Will Hunting'\n",
      " u'Unforgiven' u'Up' u'The Third Man' u'Raging Bull' u'Inside Out'\n",
      " u'Downfall' u'Die Hard' u'The Great Escape' u'Chinatown' u'Heat' u'Room'\n",
      " u'Captain America: Civil War' u\"Pan's Labyrinth\" u'On the Waterfront'\n",
      " u'My Neighbor Totoro' u'Ran' u'Ikiru' u'Mr. Smith Goes to Washington'\n",
      " u'The Bridge on the River Kwai' u'The Gold Rush'\n",
      " u'Star Wars: Episode VII - The Force Awakens' u'The Secret in Their Eyes'\n",
      " u'The Seventh Seal' u'Sunrise' u'Blade Runner'\n",
      " u'Lock, Stock and Two Smoking Barrels' u'Tokyo Story'\n",
      " u\"Howl's Moving Castle\" u'The General' u'Casino' u'Wild Strawberries'\n",
      " u'The Elephant Man' u'The Message' u'Warrior' u'The Wolf of Wall Street'\n",
      " u'A Beautiful Mind' u'Judgment at Nuremberg' u'V for Vendetta'\n",
      " u'Gran Torino' u'The Big Lebowski' u'Incendies' u'Zootopia'\n",
      " u'The Deer Hunter' u'Rebecca' u'Fargo' u'Trainspotting'\n",
      " u'Gone with the Wind' u'Dial M for Murder' u'Cool Hand Luke'\n",
      " u'How to Train Your Dragon' u'The Sixth Sense' u'Finding Nemo'\n",
      " u'The Thing' u'No Country for Old Men' u'Into the Wild' u'Mary and Max'\n",
      " u'Gone Girl' u'Kill Bill: Vol. 1' u'It Happened One Night' u'Rush'\n",
      " u'Life of Brian' u'There Will Be Blood' u'Hotel Rwanda' u'Platoon'\n",
      " u'The Maltese Falcon' u'Deadpool' u'Mad Max: Fury Road'\n",
      " u'The Wages of Fear' u'Spotlight' u'Network'\n",
      " u'Butch Cassidy and the Sundance Kid' u'The 400 Blows' u'Shutter Island'\n",
      " u'Stand by Me' u'In the Name of the Father' u'Persona' u'12 Years a Slave'\n",
      " u'The Grand Budapest Hotel' u'Amores Perros' u'The Princess Bride'\n",
      " u'Million Dollar Baby' u'Ben-Hur' u'Wild Tales' u'Touch of Evil'\n",
      " u\"Hachi: A Dog's Tale\" u'Annie Hall' u'The Grapes of Wrath'\n",
      " u'The Revenant' u'Nausica\\xe4 of the Valley of the Wind' u'Jurassic Park'\n",
      " u'Stalker' u'Diabolique' u'Gandhi' u'The Bourne Ultimatum'\n",
      " u'Before Sunrise' u'Donnie Darko' u'8\\xbd' u'The Truman Show'\n",
      " u'Memories of Murder' u'Rocky' u'The Wizard of Oz' u'The Terminator'\n",
      " u'Monsters, Inc.' u'The Best Years of Our Lives'\n",
      " u'Kind Hearts and Coronets'\n",
      " u'Harry Potter and the Deathly Hallows: Part 2' u'Twelve Monkeys'\n",
      " u'Groundhog Day' u'Sin City' u'Strangers on a Train' u'Infernal Affairs'\n",
      " u'Jaws' u'La Haine' u'The Battle of Algiers' u'Barry Lyndon' u'Prisoners'\n",
      " u'Dog Day Afternoon' u'The Martian' u'Ip Man' u'The Imitation Game'\n",
      " u'Fanny and Alexander' u'Catch Me If You Can'\n",
      " u'Pirates of the Caribbean: The Curse of the Black Pearl' u'The Avengers'\n",
      " u'Guardians of the Galaxy' u'The Help' u\"The King's Speech\"\n",
      " u'A Fistful of Dollars' u'Castle in the Sky' u'Roman Holiday'\n",
      " u'Throne of Blood' u'High Noon' u'Beauty and the Beast'\n",
      " u'In the Mood for Love' u'Lagaan: Once Upon a Time in India'\n",
      " u'Gangs of Wasseypur' u'Paris, Texas'] year\n",
      "[1994 1972 1974 2008 1993 1957 2003 1966 1999 2001 1980 2010 2002 1975 1990\n",
      " 1954 1977 1995 1991 1946 1997 1968 1998 2014 1942 1960 1931 1981 2011 1936\n",
      " 2006 1985 2000 1979 1964 1950 1940 1988 2012 1986 1941 1959 1984 1958 1983\n",
      " 1992 1971 1976 1944 1962 2004 1987 1973 1948 1952 2009 1921 1965 1989 1927\n",
      " 1961 2005 1949 2015 1963 2016 1939 1925 1982 1953 1926 2013 1978 1996 1967\n",
      " 2007 1934 1969 1955 1951]\n"
     ]
    }
   ],
   "source": [
    "for i in df:\n",
    "    print i\n",
    "    print df[i].unique(),"
   ]
  },
  {
   "cell_type": "markdown",
   "metadata": {},
   "source": [
    "#### 3. Select only the top 100 movies"
   ]
  },
  {
   "cell_type": "code",
   "execution_count": 12,
   "metadata": {
    "collapsed": false
   },
   "outputs": [
    {
     "name": "stderr",
     "output_type": "stream",
     "text": [
      "/Users/ltdanp21/anaconda/lib/python2.7/site-packages/ipykernel/__main__.py:2: FutureWarning: by argument to sort_index is deprecated, pls use .sort_values(by=...)\n",
      "  from ipykernel import kernelapp as app\n"
     ]
    }
   ],
   "source": [
    "#sort dataframes by number of votes in descending order\n",
    "df100 = df.sort_index(by='num_votes', ascending= False)"
   ]
  },
  {
   "cell_type": "code",
   "execution_count": 13,
   "metadata": {
    "collapsed": false
   },
   "outputs": [
    {
     "data": {
      "text/html": [
       "<div>\n",
       "<table border=\"1\" class=\"dataframe\">\n",
       "  <thead>\n",
       "    <tr style=\"text-align: right;\">\n",
       "      <th></th>\n",
       "      <th>num_votes</th>\n",
       "      <th>rating</th>\n",
       "      <th>tconst</th>\n",
       "      <th>title</th>\n",
       "      <th>year</th>\n",
       "    </tr>\n",
       "  </thead>\n",
       "  <tbody>\n",
       "    <tr>\n",
       "      <th>0</th>\n",
       "      <td>1659650</td>\n",
       "      <td>9.3</td>\n",
       "      <td>tt0111161</td>\n",
       "      <td>The Shawshank Redemption</td>\n",
       "      <td>1994</td>\n",
       "    </tr>\n",
       "    <tr>\n",
       "      <th>3</th>\n",
       "      <td>1645344</td>\n",
       "      <td>9.0</td>\n",
       "      <td>tt0468569</td>\n",
       "      <td>The Dark Knight</td>\n",
       "      <td>2008</td>\n",
       "    </tr>\n",
       "    <tr>\n",
       "      <th>13</th>\n",
       "      <td>1438914</td>\n",
       "      <td>8.8</td>\n",
       "      <td>tt1375666</td>\n",
       "      <td>Inception</td>\n",
       "      <td>2010</td>\n",
       "    </tr>\n",
       "    <tr>\n",
       "      <th>9</th>\n",
       "      <td>1321370</td>\n",
       "      <td>8.9</td>\n",
       "      <td>tt0137523</td>\n",
       "      <td>Fight Club</td>\n",
       "      <td>1999</td>\n",
       "    </tr>\n",
       "    <tr>\n",
       "      <th>6</th>\n",
       "      <td>1300701</td>\n",
       "      <td>8.9</td>\n",
       "      <td>tt0110912</td>\n",
       "      <td>Pulp Fiction</td>\n",
       "      <td>1994</td>\n",
       "    </tr>\n",
       "    <tr>\n",
       "      <th>12</th>\n",
       "      <td>1224588</td>\n",
       "      <td>8.8</td>\n",
       "      <td>tt0109830</td>\n",
       "      <td>Forrest Gump</td>\n",
       "      <td>1994</td>\n",
       "    </tr>\n",
       "    <tr>\n",
       "      <th>10</th>\n",
       "      <td>1217791</td>\n",
       "      <td>8.8</td>\n",
       "      <td>tt0120737</td>\n",
       "      <td>The Lord of the Rings: The Fellowship of the Ring</td>\n",
       "      <td>2001</td>\n",
       "    </tr>\n",
       "    <tr>\n",
       "      <th>17</th>\n",
       "      <td>1195945</td>\n",
       "      <td>8.7</td>\n",
       "      <td>tt0133093</td>\n",
       "      <td>The Matrix</td>\n",
       "      <td>1999</td>\n",
       "    </tr>\n",
       "    <tr>\n",
       "      <th>7</th>\n",
       "      <td>1194329</td>\n",
       "      <td>8.9</td>\n",
       "      <td>tt0167260</td>\n",
       "      <td>The Lord of the Rings: The Return of the King</td>\n",
       "      <td>2003</td>\n",
       "    </tr>\n",
       "    <tr>\n",
       "      <th>1</th>\n",
       "      <td>1135992</td>\n",
       "      <td>9.2</td>\n",
       "      <td>tt0068646</td>\n",
       "      <td>The Godfather</td>\n",
       "      <td>1972</td>\n",
       "    </tr>\n",
       "    <tr>\n",
       "      <th>61</th>\n",
       "      <td>1122878</td>\n",
       "      <td>8.5</td>\n",
       "      <td>tt1345836</td>\n",
       "      <td>The Dark Knight Rises</td>\n",
       "      <td>2012</td>\n",
       "    </tr>\n",
       "    <tr>\n",
       "      <th>14</th>\n",
       "      <td>1080496</td>\n",
       "      <td>8.7</td>\n",
       "      <td>tt0167261</td>\n",
       "      <td>The Lord of the Rings: The Two Towers</td>\n",
       "      <td>2002</td>\n",
       "    </tr>\n",
       "    <tr>\n",
       "      <th>21</th>\n",
       "      <td>1003873</td>\n",
       "      <td>8.6</td>\n",
       "      <td>tt0114369</td>\n",
       "      <td>Se7en</td>\n",
       "      <td>1995</td>\n",
       "    </tr>\n",
       "    <tr>\n",
       "      <th>236</th>\n",
       "      <td>975787</td>\n",
       "      <td>8.1</td>\n",
       "      <td>tt0848228</td>\n",
       "      <td>The Avengers</td>\n",
       "      <td>2012</td>\n",
       "    </tr>\n",
       "    <tr>\n",
       "      <th>45</th>\n",
       "      <td>965101</td>\n",
       "      <td>8.5</td>\n",
       "      <td>tt0172495</td>\n",
       "      <td>Gladiator</td>\n",
       "      <td>2000</td>\n",
       "    </tr>\n",
       "    <tr>\n",
       "      <th>108</th>\n",
       "      <td>962161</td>\n",
       "      <td>8.3</td>\n",
       "      <td>tt0372784</td>\n",
       "      <td>Batman Begins</td>\n",
       "      <td>2005</td>\n",
       "    </tr>\n",
       "    <tr>\n",
       "      <th>56</th>\n",
       "      <td>933567</td>\n",
       "      <td>8.5</td>\n",
       "      <td>tt1853728</td>\n",
       "      <td>Django Unchained</td>\n",
       "      <td>2012</td>\n",
       "    </tr>\n",
       "    <tr>\n",
       "      <th>31</th>\n",
       "      <td>898494</td>\n",
       "      <td>8.6</td>\n",
       "      <td>tt0816692</td>\n",
       "      <td>Interstellar</td>\n",
       "      <td>2014</td>\n",
       "    </tr>\n",
       "    <tr>\n",
       "      <th>19</th>\n",
       "      <td>894688</td>\n",
       "      <td>8.7</td>\n",
       "      <td>tt0076759</td>\n",
       "      <td>Star Wars</td>\n",
       "      <td>1977</td>\n",
       "    </tr>\n",
       "    <tr>\n",
       "      <th>22</th>\n",
       "      <td>869112</td>\n",
       "      <td>8.6</td>\n",
       "      <td>tt0102926</td>\n",
       "      <td>The Silence of the Lambs</td>\n",
       "      <td>1991</td>\n",
       "    </tr>\n",
       "    <tr>\n",
       "      <th>94</th>\n",
       "      <td>866240</td>\n",
       "      <td>8.3</td>\n",
       "      <td>tt0361748</td>\n",
       "      <td>Inglourious Basterds</td>\n",
       "      <td>2009</td>\n",
       "    </tr>\n",
       "    <tr>\n",
       "      <th>29</th>\n",
       "      <td>864288</td>\n",
       "      <td>8.6</td>\n",
       "      <td>tt0120815</td>\n",
       "      <td>Saving Private Ryan</td>\n",
       "      <td>1998</td>\n",
       "    </tr>\n",
       "    <tr>\n",
       "      <th>42</th>\n",
       "      <td>857221</td>\n",
       "      <td>8.5</td>\n",
       "      <td>tt0407887</td>\n",
       "      <td>The Departed</td>\n",
       "      <td>2006</td>\n",
       "    </tr>\n",
       "    <tr>\n",
       "      <th>4</th>\n",
       "      <td>849066</td>\n",
       "      <td>8.9</td>\n",
       "      <td>tt0108052</td>\n",
       "      <td>Schindler's List</td>\n",
       "      <td>1993</td>\n",
       "    </tr>\n",
       "    <tr>\n",
       "      <th>46</th>\n",
       "      <td>831086</td>\n",
       "      <td>8.5</td>\n",
       "      <td>tt0209144</td>\n",
       "      <td>Memento</td>\n",
       "      <td>2000</td>\n",
       "    </tr>\n",
       "    <tr>\n",
       "      <th>48</th>\n",
       "      <td>826433</td>\n",
       "      <td>8.5</td>\n",
       "      <td>tt0482571</td>\n",
       "      <td>The Prestige</td>\n",
       "      <td>2006</td>\n",
       "    </tr>\n",
       "    <tr>\n",
       "      <th>11</th>\n",
       "      <td>821075</td>\n",
       "      <td>8.8</td>\n",
       "      <td>tt0080684</td>\n",
       "      <td>Star Wars: Episode V - The Empire Strikes Back</td>\n",
       "      <td>1980</td>\n",
       "    </tr>\n",
       "    <tr>\n",
       "      <th>62</th>\n",
       "      <td>808988</td>\n",
       "      <td>8.4</td>\n",
       "      <td>tt0169547</td>\n",
       "      <td>American Beauty</td>\n",
       "      <td>1999</td>\n",
       "    </tr>\n",
       "    <tr>\n",
       "      <th>235</th>\n",
       "      <td>795774</td>\n",
       "      <td>8.1</td>\n",
       "      <td>tt0325980</td>\n",
       "      <td>Pirates of the Caribbean: The Curse of the Bla...</td>\n",
       "      <td>2003</td>\n",
       "    </tr>\n",
       "    <tr>\n",
       "      <th>150</th>\n",
       "      <td>777739</td>\n",
       "      <td>8.2</td>\n",
       "      <td>tt0434409</td>\n",
       "      <td>V for Vendetta</td>\n",
       "      <td>2005</td>\n",
       "    </tr>\n",
       "    <tr>\n",
       "      <th>...</th>\n",
       "      <td>...</td>\n",
       "      <td>...</td>\n",
       "      <td>...</td>\n",
       "      <td>...</td>\n",
       "      <td>...</td>\n",
       "    </tr>\n",
       "    <tr>\n",
       "      <th>133</th>\n",
       "      <td>533085</td>\n",
       "      <td>8.3</td>\n",
       "      <td>tt2488496</td>\n",
       "      <td>Star Wars: Episode VII - The Force Awakens</td>\n",
       "      <td>2015</td>\n",
       "    </tr>\n",
       "    <tr>\n",
       "      <th>81</th>\n",
       "      <td>532589</td>\n",
       "      <td>8.3</td>\n",
       "      <td>tt0435761</td>\n",
       "      <td>Toy Story 3</td>\n",
       "      <td>2010</td>\n",
       "    </tr>\n",
       "    <tr>\n",
       "      <th>218</th>\n",
       "      <td>530624</td>\n",
       "      <td>8.1</td>\n",
       "      <td>tt1201607</td>\n",
       "      <td>Harry Potter and the Deathly Hallows: Part 2</td>\n",
       "      <td>2011</td>\n",
       "    </tr>\n",
       "    <tr>\n",
       "      <th>101</th>\n",
       "      <td>528007</td>\n",
       "      <td>8.3</td>\n",
       "      <td>tt0086250</td>\n",
       "      <td>Scarface</td>\n",
       "      <td>1983</td>\n",
       "    </tr>\n",
       "    <tr>\n",
       "      <th>152</th>\n",
       "      <td>527478</td>\n",
       "      <td>8.2</td>\n",
       "      <td>tt0118715</td>\n",
       "      <td>The Big Lebowski</td>\n",
       "      <td>1998</td>\n",
       "    </tr>\n",
       "    <tr>\n",
       "      <th>75</th>\n",
       "      <td>525010</td>\n",
       "      <td>8.4</td>\n",
       "      <td>tt0211915</td>\n",
       "      <td>Amélie</td>\n",
       "      <td>2001</td>\n",
       "    </tr>\n",
       "    <tr>\n",
       "      <th>20</th>\n",
       "      <td>524531</td>\n",
       "      <td>8.7</td>\n",
       "      <td>tt0317248</td>\n",
       "      <td>City of God</td>\n",
       "      <td>2002</td>\n",
       "    </tr>\n",
       "    <tr>\n",
       "      <th>179</th>\n",
       "      <td>524436</td>\n",
       "      <td>8.1</td>\n",
       "      <td>tt1392190</td>\n",
       "      <td>Mad Max: Fury Road</td>\n",
       "      <td>2015</td>\n",
       "    </tr>\n",
       "    <tr>\n",
       "      <th>234</th>\n",
       "      <td>509883</td>\n",
       "      <td>8.0</td>\n",
       "      <td>tt0264464</td>\n",
       "      <td>Catch Me If You Can</td>\n",
       "      <td>2002</td>\n",
       "    </tr>\n",
       "    <tr>\n",
       "      <th>100</th>\n",
       "      <td>506211</td>\n",
       "      <td>8.3</td>\n",
       "      <td>tt0097576</td>\n",
       "      <td>Indiana Jones and the Last Crusade</td>\n",
       "      <td>1989</td>\n",
       "    </tr>\n",
       "    <tr>\n",
       "      <th>79</th>\n",
       "      <td>496856</td>\n",
       "      <td>8.3</td>\n",
       "      <td>tt0075314</td>\n",
       "      <td>Taxi Driver</td>\n",
       "      <td>1976</td>\n",
       "    </tr>\n",
       "    <tr>\n",
       "      <th>8</th>\n",
       "      <td>494757</td>\n",
       "      <td>8.9</td>\n",
       "      <td>tt0060196</td>\n",
       "      <td>The Good, the Bad and the Ugly</td>\n",
       "      <td>1966</td>\n",
       "    </tr>\n",
       "    <tr>\n",
       "      <th>239</th>\n",
       "      <td>494067</td>\n",
       "      <td>8.0</td>\n",
       "      <td>tt1504320</td>\n",
       "      <td>The King's Speech</td>\n",
       "      <td>2010</td>\n",
       "    </tr>\n",
       "    <tr>\n",
       "      <th>36</th>\n",
       "      <td>490435</td>\n",
       "      <td>8.6</td>\n",
       "      <td>tt1675434</td>\n",
       "      <td>The Intouchables</td>\n",
       "      <td>2011</td>\n",
       "    </tr>\n",
       "    <tr>\n",
       "      <th>41</th>\n",
       "      <td>488024</td>\n",
       "      <td>8.5</td>\n",
       "      <td>tt0253474</td>\n",
       "      <td>The Pianist</td>\n",
       "      <td>2002</td>\n",
       "    </tr>\n",
       "    <tr>\n",
       "      <th>63</th>\n",
       "      <td>480682</td>\n",
       "      <td>8.4</td>\n",
       "      <td>tt0090605</td>\n",
       "      <td>Aliens</td>\n",
       "      <td>1986</td>\n",
       "    </tr>\n",
       "    <tr>\n",
       "      <th>206</th>\n",
       "      <td>479188</td>\n",
       "      <td>8.1</td>\n",
       "      <td>tt0440963</td>\n",
       "      <td>The Bourne Ultimatum</td>\n",
       "      <td>2007</td>\n",
       "    </tr>\n",
       "    <tr>\n",
       "      <th>85</th>\n",
       "      <td>475630</td>\n",
       "      <td>8.3</td>\n",
       "      <td>tt0093058</td>\n",
       "      <td>Full Metal Jacket</td>\n",
       "      <td>1987</td>\n",
       "    </tr>\n",
       "    <tr>\n",
       "      <th>162</th>\n",
       "      <td>474570</td>\n",
       "      <td>8.2</td>\n",
       "      <td>tt0892769</td>\n",
       "      <td>How to Train Your Dragon</td>\n",
       "      <td>2010</td>\n",
       "    </tr>\n",
       "    <tr>\n",
       "      <th>193</th>\n",
       "      <td>474054</td>\n",
       "      <td>8.1</td>\n",
       "      <td>tt0405159</td>\n",
       "      <td>Million Dollar Baby</td>\n",
       "      <td>2004</td>\n",
       "    </tr>\n",
       "    <tr>\n",
       "      <th>158</th>\n",
       "      <td>461659</td>\n",
       "      <td>8.2</td>\n",
       "      <td>tt0117951</td>\n",
       "      <td>Trainspotting</td>\n",
       "      <td>1996</td>\n",
       "    </tr>\n",
       "    <tr>\n",
       "      <th>190</th>\n",
       "      <td>460783</td>\n",
       "      <td>8.1</td>\n",
       "      <td>tt2278388</td>\n",
       "      <td>The Grand Budapest Hotel</td>\n",
       "      <td>2014</td>\n",
       "    </tr>\n",
       "    <tr>\n",
       "      <th>125</th>\n",
       "      <td>459620</td>\n",
       "      <td>8.2</td>\n",
       "      <td>tt0457430</td>\n",
       "      <td>Pan's Labyrinth</td>\n",
       "      <td>2006</td>\n",
       "    </tr>\n",
       "    <tr>\n",
       "      <th>219</th>\n",
       "      <td>455296</td>\n",
       "      <td>8.1</td>\n",
       "      <td>tt0114746</td>\n",
       "      <td>Twelve Monkeys</td>\n",
       "      <td>1995</td>\n",
       "    </tr>\n",
       "    <tr>\n",
       "      <th>137</th>\n",
       "      <td>454677</td>\n",
       "      <td>8.2</td>\n",
       "      <td>tt0083658</td>\n",
       "      <td>Blade Runner</td>\n",
       "      <td>1982</td>\n",
       "    </tr>\n",
       "    <tr>\n",
       "      <th>232</th>\n",
       "      <td>448339</td>\n",
       "      <td>8.1</td>\n",
       "      <td>tt2084970</td>\n",
       "      <td>The Imitation Game</td>\n",
       "      <td>2014</td>\n",
       "    </tr>\n",
       "    <tr>\n",
       "      <th>157</th>\n",
       "      <td>446085</td>\n",
       "      <td>8.2</td>\n",
       "      <td>tt0116282</td>\n",
       "      <td>Fargo</td>\n",
       "      <td>1996</td>\n",
       "    </tr>\n",
       "    <tr>\n",
       "      <th>47</th>\n",
       "      <td>443692</td>\n",
       "      <td>8.5</td>\n",
       "      <td>tt0078788</td>\n",
       "      <td>Apocalypse Now</td>\n",
       "      <td>1979</td>\n",
       "    </tr>\n",
       "    <tr>\n",
       "      <th>5</th>\n",
       "      <td>437763</td>\n",
       "      <td>8.9</td>\n",
       "      <td>tt0050083</td>\n",
       "      <td>12 Angry Men</td>\n",
       "      <td>1957</td>\n",
       "    </tr>\n",
       "    <tr>\n",
       "      <th>230</th>\n",
       "      <td>434877</td>\n",
       "      <td>8.1</td>\n",
       "      <td>tt3659388</td>\n",
       "      <td>The Martian</td>\n",
       "      <td>2015</td>\n",
       "    </tr>\n",
       "  </tbody>\n",
       "</table>\n",
       "<p>101 rows × 5 columns</p>\n",
       "</div>"
      ],
      "text/plain": [
       "     num_votes  rating     tconst  \\\n",
       "0      1659650     9.3  tt0111161   \n",
       "3      1645344     9.0  tt0468569   \n",
       "13     1438914     8.8  tt1375666   \n",
       "9      1321370     8.9  tt0137523   \n",
       "6      1300701     8.9  tt0110912   \n",
       "12     1224588     8.8  tt0109830   \n",
       "10     1217791     8.8  tt0120737   \n",
       "17     1195945     8.7  tt0133093   \n",
       "7      1194329     8.9  tt0167260   \n",
       "1      1135992     9.2  tt0068646   \n",
       "61     1122878     8.5  tt1345836   \n",
       "14     1080496     8.7  tt0167261   \n",
       "21     1003873     8.6  tt0114369   \n",
       "236     975787     8.1  tt0848228   \n",
       "45      965101     8.5  tt0172495   \n",
       "108     962161     8.3  tt0372784   \n",
       "56      933567     8.5  tt1853728   \n",
       "31      898494     8.6  tt0816692   \n",
       "19      894688     8.7  tt0076759   \n",
       "22      869112     8.6  tt0102926   \n",
       "94      866240     8.3  tt0361748   \n",
       "29      864288     8.6  tt0120815   \n",
       "42      857221     8.5  tt0407887   \n",
       "4       849066     8.9  tt0108052   \n",
       "46      831086     8.5  tt0209144   \n",
       "48      826433     8.5  tt0482571   \n",
       "11      821075     8.8  tt0080684   \n",
       "62      808988     8.4  tt0169547   \n",
       "235     795774     8.1  tt0325980   \n",
       "150     777739     8.2  tt0434409   \n",
       "..         ...     ...        ...   \n",
       "133     533085     8.3  tt2488496   \n",
       "81      532589     8.3  tt0435761   \n",
       "218     530624     8.1  tt1201607   \n",
       "101     528007     8.3  tt0086250   \n",
       "152     527478     8.2  tt0118715   \n",
       "75      525010     8.4  tt0211915   \n",
       "20      524531     8.7  tt0317248   \n",
       "179     524436     8.1  tt1392190   \n",
       "234     509883     8.0  tt0264464   \n",
       "100     506211     8.3  tt0097576   \n",
       "79      496856     8.3  tt0075314   \n",
       "8       494757     8.9  tt0060196   \n",
       "239     494067     8.0  tt1504320   \n",
       "36      490435     8.6  tt1675434   \n",
       "41      488024     8.5  tt0253474   \n",
       "63      480682     8.4  tt0090605   \n",
       "206     479188     8.1  tt0440963   \n",
       "85      475630     8.3  tt0093058   \n",
       "162     474570     8.2  tt0892769   \n",
       "193     474054     8.1  tt0405159   \n",
       "158     461659     8.2  tt0117951   \n",
       "190     460783     8.1  tt2278388   \n",
       "125     459620     8.2  tt0457430   \n",
       "219     455296     8.1  tt0114746   \n",
       "137     454677     8.2  tt0083658   \n",
       "232     448339     8.1  tt2084970   \n",
       "157     446085     8.2  tt0116282   \n",
       "47      443692     8.5  tt0078788   \n",
       "5       437763     8.9  tt0050083   \n",
       "230     434877     8.1  tt3659388   \n",
       "\n",
       "                                                 title  year  \n",
       "0                             The Shawshank Redemption  1994  \n",
       "3                                      The Dark Knight  2008  \n",
       "13                                           Inception  2010  \n",
       "9                                           Fight Club  1999  \n",
       "6                                         Pulp Fiction  1994  \n",
       "12                                        Forrest Gump  1994  \n",
       "10   The Lord of the Rings: The Fellowship of the Ring  2001  \n",
       "17                                          The Matrix  1999  \n",
       "7        The Lord of the Rings: The Return of the King  2003  \n",
       "1                                        The Godfather  1972  \n",
       "61                               The Dark Knight Rises  2012  \n",
       "14               The Lord of the Rings: The Two Towers  2002  \n",
       "21                                               Se7en  1995  \n",
       "236                                       The Avengers  2012  \n",
       "45                                           Gladiator  2000  \n",
       "108                                      Batman Begins  2005  \n",
       "56                                    Django Unchained  2012  \n",
       "31                                        Interstellar  2014  \n",
       "19                                           Star Wars  1977  \n",
       "22                            The Silence of the Lambs  1991  \n",
       "94                                Inglourious Basterds  2009  \n",
       "29                                 Saving Private Ryan  1998  \n",
       "42                                        The Departed  2006  \n",
       "4                                     Schindler's List  1993  \n",
       "46                                             Memento  2000  \n",
       "48                                        The Prestige  2006  \n",
       "11      Star Wars: Episode V - The Empire Strikes Back  1980  \n",
       "62                                     American Beauty  1999  \n",
       "235  Pirates of the Caribbean: The Curse of the Bla...  2003  \n",
       "150                                     V for Vendetta  2005  \n",
       "..                                                 ...   ...  \n",
       "133         Star Wars: Episode VII - The Force Awakens  2015  \n",
       "81                                         Toy Story 3  2010  \n",
       "218       Harry Potter and the Deathly Hallows: Part 2  2011  \n",
       "101                                           Scarface  1983  \n",
       "152                                   The Big Lebowski  1998  \n",
       "75                                              Amélie  2001  \n",
       "20                                         City of God  2002  \n",
       "179                                 Mad Max: Fury Road  2015  \n",
       "234                                Catch Me If You Can  2002  \n",
       "100                 Indiana Jones and the Last Crusade  1989  \n",
       "79                                         Taxi Driver  1976  \n",
       "8                       The Good, the Bad and the Ugly  1966  \n",
       "239                                  The King's Speech  2010  \n",
       "36                                    The Intouchables  2011  \n",
       "41                                         The Pianist  2002  \n",
       "63                                              Aliens  1986  \n",
       "206                               The Bourne Ultimatum  2007  \n",
       "85                                   Full Metal Jacket  1987  \n",
       "162                           How to Train Your Dragon  2010  \n",
       "193                                Million Dollar Baby  2004  \n",
       "158                                      Trainspotting  1996  \n",
       "190                           The Grand Budapest Hotel  2014  \n",
       "125                                    Pan's Labyrinth  2006  \n",
       "219                                     Twelve Monkeys  1995  \n",
       "137                                       Blade Runner  1982  \n",
       "232                                 The Imitation Game  2014  \n",
       "157                                              Fargo  1996  \n",
       "47                                      Apocalypse Now  1979  \n",
       "5                                         12 Angry Men  1957  \n",
       "230                                        The Martian  2015  \n",
       "\n",
       "[101 rows x 5 columns]"
      ]
     },
     "execution_count": 13,
     "metadata": {},
     "output_type": "execute_result"
    }
   ],
   "source": [
    "# check num of votes at 1st and one hundredth spot\n",
    "df100.head(101)"
   ]
  },
  {
   "cell_type": "code",
   "execution_count": null,
   "metadata": {
    "collapsed": false
   },
   "outputs": [],
   "source": []
  },
  {
   "cell_type": "code",
   "execution_count": 14,
   "metadata": {
    "collapsed": true
   },
   "outputs": [],
   "source": [
    "# set mask greater than and equal number of votes at 100th position\n",
    "mask100 = df100[\"num_votes\"] >= 437656"
   ]
  },
  {
   "cell_type": "code",
   "execution_count": 15,
   "metadata": {
    "collapsed": false
   },
   "outputs": [
    {
     "name": "stderr",
     "output_type": "stream",
     "text": [
      "/Users/ltdanp21/anaconda/lib/python2.7/site-packages/ipykernel/__main__.py:2: UserWarning: Boolean Series key will be reindexed to match DataFrame index.\n",
      "  from ipykernel import kernelapp as app\n"
     ]
    }
   ],
   "source": [
    "#create new dataframe equal to top 100 movies\n",
    "top100 = df[mask100]"
   ]
  },
  {
   "cell_type": "markdown",
   "metadata": {},
   "source": [
    "#### 4. Get the genres and runtime for each movie and add them to the dataframe\n",
    "\n",
    "There can be multiple genres per movie, so this will need some finessing."
   ]
  },
  {
   "cell_type": "code",
   "execution_count": 16,
   "metadata": {
    "collapsed": false
   },
   "outputs": [
    {
     "name": "stdout",
     "output_type": "stream",
     "text": [
      "100\n"
     ]
    }
   ],
   "source": [
    "# collect genre from API\n",
    "genre = []\n",
    "\n",
    "for i in top100[\"tconst\"]:\n",
    "    a = imdb.get_title_by_id(i)\n",
    "    genre.append(a.genres)\n",
    "\n",
    "print len(genre)"
   ]
  },
  {
   "cell_type": "code",
   "execution_count": 17,
   "metadata": {
    "collapsed": false
   },
   "outputs": [
    {
     "name": "stderr",
     "output_type": "stream",
     "text": [
      "/Users/ltdanp21/anaconda/lib/python2.7/site-packages/ipykernel/__main__.py:2: SettingWithCopyWarning: \n",
      "A value is trying to be set on a copy of a slice from a DataFrame.\n",
      "Try using .loc[row_indexer,col_indexer] = value instead\n",
      "\n",
      "See the caveats in the documentation: http://pandas.pydata.org/pandas-docs/stable/indexing.html#indexing-view-versus-copy\n",
      "  from ipykernel import kernelapp as app\n"
     ]
    }
   ],
   "source": [
    "#add column to top 100 dataframe\n",
    "top100[\"genre\"] = genre"
   ]
  },
  {
   "cell_type": "code",
   "execution_count": 18,
   "metadata": {
    "collapsed": false
   },
   "outputs": [
    {
     "name": "stdout",
     "output_type": "stream",
     "text": [
      "[8520, 10500, 12120, 9120, 11700, 5760, 9240, 12060, 9660, 8340, 10680, 7440, 8520, 8880, 10740, 7980, 8760, 8160, 7260, 7800, 7620, 7080, 6360, 6600, 10140, 6060, 10140, 6900, 6720, 11340, 9180, 9000, 9060, 6960, 9300, 6780, 9180, 7800, 5340, 7020, 9900, 8640, 5880, 9840, 7320, 9240, 7860, 5940, 7320, 10680, 6120, 8160, 6780, 6180, 6480, 6960, 6120, 4860, 9180, 7620, 10200, 8400, 7560, 5760, 7860, 7080, 8160, 7020, 10800, 8100, 7920, 6960, 7020, 5880, 5640, 5880, 6420, 6000, 7320, 8940, 6660, 7200, 8280, 5940, 7920, 7620, 6900, 6780, 6180, 6420, 5520, 7800, 7740, 8820, 6840, 8460, 8580, 8580, 7260, 7080]\n"
     ]
    }
   ],
   "source": [
    "#extract runtime via api and append to list\n",
    "runtime = []\n",
    "\n",
    "for t in top100[\"tconst\"]:\n",
    "    r = imdb.get_title_by_id(t)\n",
    "    runtime.append(r.runtime)\n",
    "    \n",
    "print runtime\n",
    "    "
   ]
  },
  {
   "cell_type": "code",
   "execution_count": 19,
   "metadata": {
    "collapsed": false
   },
   "outputs": [
    {
     "name": "stderr",
     "output_type": "stream",
     "text": [
      "/Users/ltdanp21/anaconda/lib/python2.7/site-packages/ipykernel/__main__.py:2: SettingWithCopyWarning: \n",
      "A value is trying to be set on a copy of a slice from a DataFrame.\n",
      "Try using .loc[row_indexer,col_indexer] = value instead\n",
      "\n",
      "See the caveats in the documentation: http://pandas.pydata.org/pandas-docs/stable/indexing.html#indexing-view-versus-copy\n",
      "  from ipykernel import kernelapp as app\n"
     ]
    }
   ],
   "source": [
    "#add runtimes to dataframe\n",
    "top100[\"runtime\"] = runtime"
   ]
  },
  {
   "cell_type": "code",
   "execution_count": 111,
   "metadata": {
    "collapsed": false
   },
   "outputs": [
    {
     "data": {
      "text/plain": [
       "array([u'The Shawshank Redemption', u'The Godfather',\n",
       "       u'The Godfather: Part II', u'The Dark Knight', u\"Schindler's List\"], dtype=object)"
      ]
     },
     "execution_count": 111,
     "metadata": {},
     "output_type": "execute_result"
    }
   ],
   "source": [
    "top100.title.iloc[0:5].values"
   ]
  },
  {
   "cell_type": "code",
   "execution_count": 21,
   "metadata": {
    "collapsed": false
   },
   "outputs": [
    {
     "data": {
      "text/plain": [
       "array([1994, 1972, 1974, 2008, 1993, 1957, 1994, 2003, 1966, 1999, 2001,\n",
       "       1980, 1994, 2010, 2002, 1975, 1990, 1999, 1977, 2002, 1995, 1991,\n",
       "       1995, 1994, 1998, 1998, 2014, 1981, 2011, 1999, 1991, 2002, 2006,\n",
       "       1985, 2000, 2000, 1979, 2006, 1994, 1979, 2012, 1980, 2008, 2012,\n",
       "       1999, 1986, 1983, 1992, 2001, 1995, 2000, 1971, 1976, 2010, 2004,\n",
       "       1987, 2000, 1995, 2009, 1989, 1983, 2005, 1997, 2009, 1988, 2006,\n",
       "       2015, 1982, 2013, 2001, 2005, 2008, 1998, 1996, 1996, 2010, 1999,\n",
       "       2003, 2007, 2014, 2003, 2015, 2010, 2014, 2004, 1993, 2007, 2001,\n",
       "       1998, 1984, 2001, 2011, 1995, 2005, 2014, 2002, 2003, 2012, 2014,\n",
       "       2010])"
      ]
     },
     "execution_count": 21,
     "metadata": {},
     "output_type": "execute_result"
    }
   ],
   "source": [
    "top100.year.values"
   ]
  },
  {
   "cell_type": "markdown",
   "metadata": {},
   "source": [
    "#### 4. Write the Results to a csv"
   ]
  },
  {
   "cell_type": "code",
   "execution_count": 22,
   "metadata": {
    "collapsed": false
   },
   "outputs": [],
   "source": [
    "# write dataframe to csv\n",
    "movies_csv = top100.to_csv"
   ]
  },
  {
   "cell_type": "markdown",
   "metadata": {},
   "source": [
    "---\n",
    "\n",
    "## Part 2: Wrangle the text data"
   ]
  },
  {
   "cell_type": "markdown",
   "metadata": {},
   "source": [
    "#### 1. Scrape the reviews for the top 100 movies"
   ]
  },
  {
   "cell_type": "markdown",
   "metadata": {},
   "source": [
    "*Hint*: Use a loop to scrape each page at once"
   ]
  },
  {
   "cell_type": "code",
   "execution_count": 23,
   "metadata": {
    "collapsed": false,
    "scrolled": true
   },
   "outputs": [],
   "source": [
    "import urllib2\n",
    "from bs4 import BeautifulSoup "
   ]
  },
  {
   "cell_type": "code",
   "execution_count": 99,
   "metadata": {
    "collapsed": true
   },
   "outputs": [],
   "source": [
    "# unique ids for top 100 movies\n",
    "tconst = top100[\"tconst\"].values\n",
    "tconstsmall = top100[\"tconst\"].iloc[0:5].values\n",
    "start = range(0, 250, 10)"
   ]
  },
  {
   "cell_type": "code",
   "execution_count": 40,
   "metadata": {
    "collapsed": true
   },
   "outputs": [],
   "source": [
    "import time"
   ]
  },
  {
   "cell_type": "code",
   "execution_count": 100,
   "metadata": {
    "collapsed": false
   },
   "outputs": [
    {
     "data": {
      "text/plain": [
       "array([u'tt0111161', u'tt0068646', u'tt0071562', u'tt0468569', u'tt0108052'], dtype=object)"
      ]
     },
     "execution_count": 100,
     "metadata": {},
     "output_type": "execute_result"
    }
   ],
   "source": [
    "tconstsmall"
   ]
  },
  {
   "cell_type": "markdown",
   "metadata": {},
   "source": [
    "# I got stuck trying to get my scarping function to work. At first I tried to use the string formatters to autopopulate the elements of the url that needed to change inside the urlopen fucntion, but that did not work. To get my function to work I assigned the URL to a variable, and the passed the variable to the URL open function.\n",
    "\n",
    "# Next I attempted to scarpe all the 250 reviews for each move in the top 100. After three hours the operation was not done running so I cut it off and proceeded with what I had. In the process of manipulating the data for TfidfVectorizer analysis, I accidentally overrid the list of reviews I created. In the interest of time I scarped 250 reviews for the top five movies only. \n",
    "\n"
   ]
  },
  {
   "cell_type": "markdown",
   "metadata": {},
   "source": [
    "#### 2. Extract the reviews and the rating per review for each movie\n",
    "\n",
    "*Note*: \"soup\" from BeautifulSoup is the html returned from all 25 pages. You'll need to either address each page individually or break them down by elements."
   ]
  },
  {
   "cell_type": "code",
   "execution_count": 101,
   "metadata": {
    "collapsed": false
   },
   "outputs": [],
   "source": [
    "reviews = [] \n",
    "\n",
    "\n",
    "\n",
    "def get_reviews(tcon,strt):\n",
    "    variable = \"http://www.imdb.com/title/%s/reviews?start=%d\" % (tcon,strt)\n",
    "    response = urllib2.urlopen(variable)  \n",
    "    soup = BeautifulSoup(response)\n",
    "    comment_parent = soup.find(id='tn15content')\n",
    "    p_tags = comment_parent.find_all('p')\n",
    "\n",
    "    for p in p_tags:\n",
    "        text = p.get_text()\n",
    "        if text != '*** This review may contain spoilers ***' and text != 'Add another review':\n",
    "            reviews.append([text])\n",
    "    \n",
    "    return reviews\n",
    "\n",
    "for t in tconstsmall:\n",
    "    time.sleep(.02)\n",
    "    for s in range(0, 50, 10):\n",
    "        get_reviews(t,s)"
   ]
  },
  {
   "cell_type": "code",
   "execution_count": 104,
   "metadata": {
    "collapsed": false
   },
   "outputs": [],
   "source": [
    "import copy\n",
    "new_list = copy.copy(reviews)"
   ]
  },
  {
   "cell_type": "markdown",
   "metadata": {},
   "source": [
    "#### 3. Remove the non AlphaNumeric characters from reviews"
   ]
  },
  {
   "cell_type": "code",
   "execution_count": 117,
   "metadata": {
    "collapsed": false
   },
   "outputs": [],
   "source": [
    "newdf = pd.DataFrame(new_list, columns = ['reviews'])"
   ]
  },
  {
   "cell_type": "markdown",
   "metadata": {},
   "source": [
    "# I also got stuck here. I did not realize setting max features to 200 would ensure the return of the top 200 hundred words only. I lost hours trying to figure out how to sort the dataframe (which of course is not possible) to see which words were the top 200. UG FAIL! "
   ]
  },
  {
   "cell_type": "markdown",
   "metadata": {},
   "source": [
    "#### 4. Calculate the top 200 ngrams from the user reviews\n",
    "\n",
    "Use the `TfidfVectorizer` in sklearn.\n",
    "\n",
    "Recommended parameters:\n",
    "\n",
    "    ngram_range = (1, 2)\n",
    "    stop_words = 'english'\n",
    "    binary = False\n",
    "    max_features = 200"
   ]
  },
  {
   "cell_type": "code",
   "execution_count": 148,
   "metadata": {
    "collapsed": false
   },
   "outputs": [],
   "source": [
    "from sklearn.feature_extraction.text import TfidfVectorizer\n",
    "\n",
    "tvec = TfidfVectorizer(ngram_range = (1, 2),stop_words = 'english',binary = False, max_features = 200)\n",
    "m = tvec.fit_transform(newdf[\"reviews\"])"
   ]
  },
  {
   "cell_type": "code",
   "execution_count": 149,
   "metadata": {
    "collapsed": false
   },
   "outputs": [],
   "source": [
    "n = m.todense()"
   ]
  },
  {
   "cell_type": "code",
   "execution_count": 169,
   "metadata": {
    "collapsed": false
   },
   "outputs": [],
   "source": [
    "ngram = pd.DataFrame(n,columns = tvec.get_feature_names())"
   ]
  },
  {
   "cell_type": "code",
   "execution_count": 189,
   "metadata": {
    "collapsed": false
   },
   "outputs": [
    {
     "data": {
      "text/plain": [
       "[u'10',\n",
       " u'acting',\n",
       " u'action',\n",
       " u'actor',\n",
       " u'actors',\n",
       " u'actually',\n",
       " u'al',\n",
       " u'al pacino',\n",
       " u'amazing',\n",
       " u'andy',\n",
       " u'away',\n",
       " u'bad',\n",
       " u'bale',\n",
       " u'based',\n",
       " u'batman',\n",
       " u'begins',\n",
       " u'believe',\n",
       " u'best',\n",
       " u'better',\n",
       " u'bit',\n",
       " u'black',\n",
       " u'book',\n",
       " u'brando',\n",
       " u'brilliant',\n",
       " u'business',\n",
       " u'caan',\n",
       " u'cast',\n",
       " u'cazale',\n",
       " u'character',\n",
       " u'characters',\n",
       " u'cinematography',\n",
       " u'come',\n",
       " u'comes',\n",
       " u'coppola',\n",
       " u'corleone',\n",
       " u'crime',\n",
       " u'dark',\n",
       " u'dark knight',\n",
       " u'day',\n",
       " u'did',\n",
       " u'didn',\n",
       " u'different',\n",
       " u'direction',\n",
       " u'director',\n",
       " u'does',\n",
       " u'doesn',\n",
       " u'don',\n",
       " u'duvall',\n",
       " u'end',\n",
       " u'especially',\n",
       " u'evil',\n",
       " u'excellent',\n",
       " u'experience',\n",
       " u'face',\n",
       " u'fact',\n",
       " u'family',\n",
       " u'far',\n",
       " u'father',\n",
       " u'feel',\n",
       " u'film',\n",
       " u'films',\n",
       " u'ford',\n",
       " u'ford coppola',\n",
       " u'francis',\n",
       " u'francis ford',\n",
       " u'fredo',\n",
       " u'freeman',\n",
       " u'gangster',\n",
       " u'gets',\n",
       " u'gives',\n",
       " u'godfather',\n",
       " u'godfather ii',\n",
       " u'goes',\n",
       " u'going',\n",
       " u'good',\n",
       " u'got',\n",
       " u'great',\n",
       " u'greatest',\n",
       " u'having',\n",
       " u'head',\n",
       " u'heath',\n",
       " u'heath ledger',\n",
       " u'high',\n",
       " u'history',\n",
       " u'holocaust',\n",
       " u'hope',\n",
       " u'hours',\n",
       " u'human',\n",
       " u'ii',\n",
       " u'imdb',\n",
       " u'isn',\n",
       " u'james',\n",
       " u'jews',\n",
       " u'john',\n",
       " u'joker',\n",
       " u'just',\n",
       " u'knight',\n",
       " u'know',\n",
       " u'ledger',\n",
       " u'life',\n",
       " u'like',\n",
       " u'list',\n",
       " u'little',\n",
       " u'long',\n",
       " u'look',\n",
       " u'lot',\n",
       " u'love',\n",
       " u'mafia',\n",
       " u'make',\n",
       " u'makes',\n",
       " u'making',\n",
       " u'man',\n",
       " u'marlon',\n",
       " u'marlon brando',\n",
       " u'masterpiece',\n",
       " u'michael',\n",
       " u'michael corleone',\n",
       " u'mind',\n",
       " u'morgan',\n",
       " u'morgan freeman',\n",
       " u'movie',\n",
       " u'movies',\n",
       " u'music',\n",
       " u'neeson',\n",
       " u'new',\n",
       " u'niro',\n",
       " u'nolan',\n",
       " u'old',\n",
       " u'original',\n",
       " u'oscar',\n",
       " u'oskar',\n",
       " u'pacino',\n",
       " u'people',\n",
       " u'perfect',\n",
       " u'performance',\n",
       " u'performances',\n",
       " u'picture',\n",
       " u'played',\n",
       " u'plot',\n",
       " u'power',\n",
       " u'powerful',\n",
       " u'prison',\n",
       " u'probably',\n",
       " u'puzo',\n",
       " u'quite',\n",
       " u'real',\n",
       " u'really',\n",
       " u'reason',\n",
       " u'red',\n",
       " u'redemption',\n",
       " u'right',\n",
       " u'robert',\n",
       " u'robert duvall',\n",
       " u'role',\n",
       " u'said',\n",
       " u'saw',\n",
       " u'say',\n",
       " u'scene',\n",
       " u'scenes',\n",
       " u'schindler',\n",
       " u'schindler list',\n",
       " u'score',\n",
       " u'screen',\n",
       " u'second',\n",
       " u'seen',\n",
       " u'sequel',\n",
       " u'shawshank',\n",
       " u'shawshank redemption',\n",
       " u'shot',\n",
       " u'shows',\n",
       " u'simply',\n",
       " u'son',\n",
       " u'sonny',\n",
       " u'spielberg',\n",
       " u'story',\n",
       " u'thing',\n",
       " u'things',\n",
       " u'think',\n",
       " u'thought',\n",
       " u'time',\n",
       " u'times',\n",
       " u'true',\n",
       " u'truly',\n",
       " u've',\n",
       " u'vito',\n",
       " u'vito corleone',\n",
       " u'want',\n",
       " u'war',\n",
       " u'wasn',\n",
       " u'watch',\n",
       " u'watched',\n",
       " u'watching',\n",
       " u'way',\n",
       " u'white',\n",
       " u'wife',\n",
       " u'won',\n",
       " u'work',\n",
       " u'world',\n",
       " u'years',\n",
       " u'young']"
      ]
     },
     "execution_count": 189,
     "metadata": {},
     "output_type": "execute_result"
    }
   ],
   "source": [
    "tvec.get_feature_names()"
   ]
  },
  {
   "cell_type": "markdown",
   "metadata": {},
   "source": [
    "#### 5. Merge the user reviews and ratings"
   ]
  },
  {
   "cell_type": "code",
   "execution_count": null,
   "metadata": {
    "collapsed": false
   },
   "outputs": [],
   "source": []
  },
  {
   "cell_type": "markdown",
   "metadata": {},
   "source": [
    "#### 6. Save this merged dataframe as a csv"
   ]
  },
  {
   "cell_type": "code",
   "execution_count": null,
   "metadata": {
    "collapsed": true
   },
   "outputs": [],
   "source": []
  },
  {
   "cell_type": "markdown",
   "metadata": {},
   "source": [
    "---\n",
    "\n",
    "## Part 3: Combine Tables in PostgreSQL"
   ]
  },
  {
   "cell_type": "markdown",
   "metadata": {},
   "source": [
    "#### 1. Import your two .csv data files into your Postgre Database as two different tables"
   ]
  },
  {
   "cell_type": "markdown",
   "metadata": {},
   "source": [
    "For ease, we can call these table1 and table2"
   ]
  },
  {
   "cell_type": "markdown",
   "metadata": {},
   "source": [
    "#### 2. Connect to database and query the joined set"
   ]
  },
  {
   "cell_type": "code",
   "execution_count": null,
   "metadata": {
    "collapsed": true
   },
   "outputs": [],
   "source": []
  },
  {
   "cell_type": "markdown",
   "metadata": {},
   "source": [
    "#### 3. Join the two tables "
   ]
  },
  {
   "cell_type": "code",
   "execution_count": null,
   "metadata": {
    "collapsed": true
   },
   "outputs": [],
   "source": []
  },
  {
   "cell_type": "markdown",
   "metadata": {},
   "source": [
    "#### 4. Select the newly joined table and save two copies of the into dataframes"
   ]
  },
  {
   "cell_type": "code",
   "execution_count": null,
   "metadata": {
    "collapsed": true
   },
   "outputs": [],
   "source": []
  },
  {
   "cell_type": "markdown",
   "metadata": {},
   "source": [
    "---\n",
    "\n",
    "## Part 4: Parsing and Exploratory Data Analysis"
   ]
  },
  {
   "cell_type": "markdown",
   "metadata": {},
   "source": [
    "#### 1. Rename any columns you think should be renamed for clarity"
   ]
  },
  {
   "cell_type": "code",
   "execution_count": null,
   "metadata": {
    "collapsed": true
   },
   "outputs": [],
   "source": []
  },
  {
   "cell_type": "markdown",
   "metadata": {},
   "source": [
    "#### 2. Describe anything interesting or suspicious about your data (quality assurance)"
   ]
  },
  {
   "cell_type": "code",
   "execution_count": null,
   "metadata": {
    "collapsed": true
   },
   "outputs": [],
   "source": []
  },
  {
   "cell_type": "markdown",
   "metadata": {
    "collapsed": true
   },
   "source": [
    "#### 3. Make four visualizations of interest to you using the data"
   ]
  },
  {
   "cell_type": "code",
   "execution_count": null,
   "metadata": {
    "collapsed": true
   },
   "outputs": [],
   "source": []
  },
  {
   "cell_type": "markdown",
   "metadata": {},
   "source": [
    "---\n",
    "\n",
    "## Part 5: Decision Tree Classifiers and Regressors"
   ]
  },
  {
   "cell_type": "markdown",
   "metadata": {
    "collapsed": true
   },
   "source": [
    "#### 1. What is our target attribute? \n",
    "\n",
    "Choose a target variable for the decision tree regressor and the classifier. "
   ]
  },
  {
   "cell_type": "markdown",
   "metadata": {},
   "source": []
  },
  {
   "cell_type": "markdown",
   "metadata": {},
   "source": [
    "#### 2. Prepare the X and Y matrices and preprocess data as you see fit"
   ]
  },
  {
   "cell_type": "code",
   "execution_count": null,
   "metadata": {
    "collapsed": false
   },
   "outputs": [],
   "source": []
  },
  {
   "cell_type": "markdown",
   "metadata": {},
   "source": [
    "#### 3. Build and cross-validate your decision tree classifier"
   ]
  },
  {
   "cell_type": "code",
   "execution_count": null,
   "metadata": {
    "collapsed": true
   },
   "outputs": [],
   "source": []
  },
  {
   "cell_type": "markdown",
   "metadata": {},
   "source": [
    "#### 4. Gridsearch optimal parameters for your classifier. Does the performance improve?"
   ]
  },
  {
   "cell_type": "code",
   "execution_count": null,
   "metadata": {
    "collapsed": true
   },
   "outputs": [],
   "source": []
  },
  {
   "cell_type": "markdown",
   "metadata": {},
   "source": [
    "#### 5. Build and cross-validate your decision tree regressor"
   ]
  },
  {
   "cell_type": "code",
   "execution_count": null,
   "metadata": {
    "collapsed": true
   },
   "outputs": [],
   "source": []
  },
  {
   "cell_type": "markdown",
   "metadata": {},
   "source": [
    "#### 6. Gridsearch the optimal parameters for your classifier. Does performance improve?"
   ]
  },
  {
   "cell_type": "code",
   "execution_count": null,
   "metadata": {
    "collapsed": true
   },
   "outputs": [],
   "source": []
  },
  {
   "cell_type": "markdown",
   "metadata": {},
   "source": [
    "---\n",
    "\n",
    "## Part 6: Elastic Net\n"
   ]
  },
  {
   "cell_type": "markdown",
   "metadata": {},
   "source": [
    "#### 1. Gridsearch optimal parameters for an ElasticNet using the regression target and predictors you used for the decision tree regressor.\n"
   ]
  },
  {
   "cell_type": "code",
   "execution_count": null,
   "metadata": {
    "collapsed": true
   },
   "outputs": [],
   "source": []
  },
  {
   "cell_type": "markdown",
   "metadata": {},
   "source": [
    "#### 2. Is cross-validated performance better or worse than with the decision trees? "
   ]
  },
  {
   "cell_type": "code",
   "execution_count": null,
   "metadata": {
    "collapsed": true
   },
   "outputs": [],
   "source": []
  },
  {
   "cell_type": "markdown",
   "metadata": {},
   "source": [
    "#### 3. Explain why the elastic net may have performed best at that particular l1_ratio and alpha"
   ]
  },
  {
   "cell_type": "code",
   "execution_count": null,
   "metadata": {
    "collapsed": true
   },
   "outputs": [],
   "source": []
  },
  {
   "cell_type": "markdown",
   "metadata": {},
   "source": [
    "---\n",
    "\n",
    "## Part 7: Bagging and Boosting: Random Forests, Extra Trees, and AdaBoost"
   ]
  },
  {
   "cell_type": "markdown",
   "metadata": {},
   "source": [
    "#### 1. Load the random forest regressor, extra trees regressor, and adaboost regressor from sklearn"
   ]
  },
  {
   "cell_type": "code",
   "execution_count": null,
   "metadata": {
    "collapsed": true
   },
   "outputs": [],
   "source": []
  },
  {
   "cell_type": "markdown",
   "metadata": {},
   "source": [
    "#### 2. Gridsearch optimal parameters for the three different ensemble methods."
   ]
  },
  {
   "cell_type": "code",
   "execution_count": null,
   "metadata": {
    "collapsed": true
   },
   "outputs": [],
   "source": []
  },
  {
   "cell_type": "markdown",
   "metadata": {},
   "source": [
    "#### 3. Evaluate the performance of the two bagging and one boosting model. Which performs best?"
   ]
  },
  {
   "cell_type": "code",
   "execution_count": null,
   "metadata": {
    "collapsed": true
   },
   "outputs": [],
   "source": []
  },
  {
   "cell_type": "markdown",
   "metadata": {},
   "source": [
    "#### 4. Extract the feature importances from the Random Forest regressor and make a DataFrame pairing variable names with their variable importances."
   ]
  },
  {
   "cell_type": "code",
   "execution_count": null,
   "metadata": {
    "collapsed": true
   },
   "outputs": [],
   "source": []
  },
  {
   "cell_type": "markdown",
   "metadata": {},
   "source": [
    "#### 5. Plot the ranked feature importances."
   ]
  },
  {
   "cell_type": "code",
   "execution_count": null,
   "metadata": {
    "collapsed": true
   },
   "outputs": [],
   "source": []
  },
  {
   "cell_type": "markdown",
   "metadata": {},
   "source": [
    "#### 6.1 [BONUS] Gridsearch an optimal Lasso model and use it for variable selection (make a new predictor matrix with only the variables not zeroed out by the Lasso). "
   ]
  },
  {
   "cell_type": "code",
   "execution_count": null,
   "metadata": {
    "collapsed": true
   },
   "outputs": [],
   "source": []
  },
  {
   "cell_type": "markdown",
   "metadata": {},
   "source": [
    "#### 6.2 [BONUS] Gridsearch your best performing bagging/boosting model from above with the features retained after the Lasso. Does the score improve?"
   ]
  },
  {
   "cell_type": "code",
   "execution_count": null,
   "metadata": {
    "collapsed": true
   },
   "outputs": [],
   "source": []
  },
  {
   "cell_type": "markdown",
   "metadata": {},
   "source": [
    "#### 7.1. [BONUS] Select a threshold for variable importance from your Random Forest regressor and use that to perform feature selection, creating a new subset predictor matrix."
   ]
  },
  {
   "cell_type": "code",
   "execution_count": null,
   "metadata": {
    "collapsed": true
   },
   "outputs": [],
   "source": []
  },
  {
   "cell_type": "markdown",
   "metadata": {},
   "source": [
    "#### 7.2 [BONUS] Using BaggingRegressor with a base estimator of your choice, test a model using the feature-selected dataset you made in 7.1"
   ]
  },
  {
   "cell_type": "code",
   "execution_count": null,
   "metadata": {
    "collapsed": true
   },
   "outputs": [],
   "source": []
  },
  {
   "cell_type": "markdown",
   "metadata": {},
   "source": [
    "---\n",
    "\n",
    "## [VERY BONUS] Part 8: PCA"
   ]
  },
  {
   "cell_type": "markdown",
   "metadata": {},
   "source": [
    "#### 1. Perform a PCA on your predictor matrix"
   ]
  },
  {
   "cell_type": "code",
   "execution_count": null,
   "metadata": {
    "collapsed": true
   },
   "outputs": [],
   "source": []
  },
  {
   "cell_type": "markdown",
   "metadata": {},
   "source": [
    "#### 2. Examine the variance explained and determine what components you want to keep based on them."
   ]
  },
  {
   "cell_type": "code",
   "execution_count": null,
   "metadata": {
    "collapsed": true
   },
   "outputs": [],
   "source": []
  },
  {
   "cell_type": "markdown",
   "metadata": {},
   "source": [
    "#### 3. Plot the cumulative variance explained by the ordered principal components."
   ]
  },
  {
   "cell_type": "code",
   "execution_count": null,
   "metadata": {
    "collapsed": true
   },
   "outputs": [],
   "source": []
  },
  {
   "cell_type": "markdown",
   "metadata": {},
   "source": [
    "#### 4. Gridsearch an elastic net using the principal components you selected as your predictors. Does this perform better than the elastic net you fit earlier?"
   ]
  },
  {
   "cell_type": "code",
   "execution_count": null,
   "metadata": {
    "collapsed": true
   },
   "outputs": [],
   "source": []
  },
  {
   "cell_type": "markdown",
   "metadata": {},
   "source": [
    "#### 5. Gridsearch a bagging ensemble estimator that you fit before, this time using the principal components as predictors. Does this perform better or worse than the original? "
   ]
  },
  {
   "cell_type": "code",
   "execution_count": null,
   "metadata": {
    "collapsed": true
   },
   "outputs": [],
   "source": []
  },
  {
   "cell_type": "markdown",
   "metadata": {},
   "source": [
    "#### 6. Look at the loadings of the original predictor columns on the first 3 principal components. Is there any kind of intuitive meaning here?\n",
    "\n",
    "Hint, you will probably want to sort by absolute value of magnitude of loading, and also only look at the obviously important (larger) ones!"
   ]
  },
  {
   "cell_type": "code",
   "execution_count": null,
   "metadata": {
    "collapsed": true
   },
   "outputs": [],
   "source": []
  },
  {
   "cell_type": "markdown",
   "metadata": {},
   "source": [
    "# [Extremely Bonus] Part 9:  Clustering\n",
    "\n",
    "![](https://snag.gy/jPSZ6U.jpg)\n",
    "\n",
    " ***Bonus Bonus:***\n",
    "This extended bonus question is asking to do something we never really talked about but would like for you to attempt based on the assumptions that we learned during this weeks clustering lesson(s)."
   ]
  },
  {
   "cell_type": "markdown",
   "metadata": {},
   "source": [
    "#### 1. Import your favorite clustering module"
   ]
  },
  {
   "cell_type": "code",
   "execution_count": null,
   "metadata": {
    "collapsed": true
   },
   "outputs": [],
   "source": []
  },
  {
   "cell_type": "markdown",
   "metadata": {},
   "source": [
    "#### 2. Encode categoricals"
   ]
  },
  {
   "cell_type": "code",
   "execution_count": null,
   "metadata": {
    "collapsed": true
   },
   "outputs": [],
   "source": []
  },
  {
   "cell_type": "markdown",
   "metadata": {},
   "source": [
    "#### 3. Evaluate cluster metics solely based on a range of K\n",
    "If K-Means:  SSE/Inertia vs Silhouette (ie: Elbow), silhouette average, etc"
   ]
  },
  {
   "cell_type": "code",
   "execution_count": null,
   "metadata": {
    "collapsed": true
   },
   "outputs": [],
   "source": []
  },
  {
   "cell_type": "markdown",
   "metadata": {},
   "source": [
    "#### 4.  Look at your data based on the subset of your predicted clusters.\n",
    "Assign the cluster predictions back to your dataframe in order to see them in context.  This is great to be able to group by cluster to get a sense of the data that clumped together."
   ]
  },
  {
   "cell_type": "code",
   "execution_count": null,
   "metadata": {
    "collapsed": true
   },
   "outputs": [],
   "source": []
  },
  {
   "cell_type": "markdown",
   "metadata": {},
   "source": [
    "#### 5. Describe your findings based on the predicted clusters \n",
    "_How well did it do?  What's good or bad?  How would you improve this? Does any of it make sense?_"
   ]
  },
  {
   "cell_type": "code",
   "execution_count": null,
   "metadata": {
    "collapsed": true
   },
   "outputs": [],
   "source": []
  }
 ],
 "metadata": {
  "kernelspec": {
   "display_name": "Python 2",
   "language": "python",
   "name": "python2"
  },
  "language_info": {
   "codemirror_mode": {
    "name": "ipython",
    "version": 2
   },
   "file_extension": ".py",
   "mimetype": "text/x-python",
   "name": "python",
   "nbconvert_exporter": "python",
   "pygments_lexer": "ipython2",
   "version": "2.7.11"
  },
  "widgets": {
   "state": {},
   "version": "1.1.0"
  }
 },
 "nbformat": 4,
 "nbformat_minor": 0
}
